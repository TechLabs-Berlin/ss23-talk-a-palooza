{
 "cells": [
  {
   "cell_type": "code",
   "execution_count": 1,
   "id": "a1a6a8f4",
   "metadata": {},
   "outputs": [],
   "source": [
    "import pandas as pd\n",
    "import matplotlib.pyplot as plt"
   ]
  },
  {
   "cell_type": "markdown",
   "id": "7317b5e3",
   "metadata": {},
   "source": [
    "# **Part 1: Cleaning and preprocessing the data**"
   ]
  },
  {
   "cell_type": "markdown",
   "id": "3c497986",
   "metadata": {},
   "source": [
    "## **Preprocessing:**\n",
    "\n",
    "We are working with two different .csv files:\n",
    "\n",
    "- \"Instrument\" **`(df)`** contains the bulk of information we're interested in, whereas \n",
    "- \"Administration\" **`(df2)`** provides additional demographic information on each child - in our case we are only interested in sex. "
   ]
  },
  {
   "cell_type": "markdown",
   "id": "d58bf299",
   "metadata": {},
   "source": [
    "**Excerpt of the wordbank \"instrument\" file:**"
   ]
  },
  {
   "cell_type": "code",
   "execution_count": 23,
   "id": "9a1e717f",
   "metadata": {},
   "outputs": [
    {
     "data": {
      "text/html": [
       "<div>\n",
       "<style scoped>\n",
       "    .dataframe tbody tr th:only-of-type {\n",
       "        vertical-align: middle;\n",
       "    }\n",
       "\n",
       "    .dataframe tbody tr th {\n",
       "        vertical-align: top;\n",
       "    }\n",
       "\n",
       "    .dataframe thead th {\n",
       "        text-align: right;\n",
       "    }\n",
       "</style>\n",
       "<table border=\"1\" class=\"dataframe\">\n",
       "  <thead>\n",
       "    <tr style=\"text-align: right;\">\n",
       "      <th></th>\n",
       "      <th>downloaded</th>\n",
       "      <th>data_id</th>\n",
       "      <th>item_kind</th>\n",
       "      <th>category</th>\n",
       "      <th>item_id</th>\n",
       "      <th>item_definition</th>\n",
       "      <th>child_id</th>\n",
       "      <th>age</th>\n",
       "      <th>value</th>\n",
       "    </tr>\n",
       "    <tr>\n",
       "      <th>index</th>\n",
       "      <th></th>\n",
       "      <th></th>\n",
       "      <th></th>\n",
       "      <th></th>\n",
       "      <th></th>\n",
       "      <th></th>\n",
       "      <th></th>\n",
       "      <th></th>\n",
       "      <th></th>\n",
       "    </tr>\n",
       "  </thead>\n",
       "  <tbody>\n",
       "    <tr>\n",
       "      <th>0</th>\n",
       "      <td>2023-09-03</td>\n",
       "      <td>245518</td>\n",
       "      <td>word</td>\n",
       "      <td>sounds</td>\n",
       "      <td>item_1</td>\n",
       "      <td>baa baa</td>\n",
       "      <td>1</td>\n",
       "      <td>28</td>\n",
       "      <td>produces</td>\n",
       "    </tr>\n",
       "    <tr>\n",
       "      <th>1</th>\n",
       "      <td>2023-09-03</td>\n",
       "      <td>245518</td>\n",
       "      <td>word</td>\n",
       "      <td>sounds</td>\n",
       "      <td>item_2</td>\n",
       "      <td>choo choo</td>\n",
       "      <td>1</td>\n",
       "      <td>28</td>\n",
       "      <td>None</td>\n",
       "    </tr>\n",
       "    <tr>\n",
       "      <th>2</th>\n",
       "      <td>2023-09-03</td>\n",
       "      <td>245518</td>\n",
       "      <td>word</td>\n",
       "      <td>sounds</td>\n",
       "      <td>item_3</td>\n",
       "      <td>cockadoodledoo</td>\n",
       "      <td>1</td>\n",
       "      <td>28</td>\n",
       "      <td>None</td>\n",
       "    </tr>\n",
       "    <tr>\n",
       "      <th>3</th>\n",
       "      <td>2023-09-03</td>\n",
       "      <td>245518</td>\n",
       "      <td>word</td>\n",
       "      <td>sounds</td>\n",
       "      <td>item_4</td>\n",
       "      <td>grrr</td>\n",
       "      <td>1</td>\n",
       "      <td>28</td>\n",
       "      <td>produces</td>\n",
       "    </tr>\n",
       "    <tr>\n",
       "      <th>4</th>\n",
       "      <td>2023-09-03</td>\n",
       "      <td>245518</td>\n",
       "      <td>word</td>\n",
       "      <td>sounds</td>\n",
       "      <td>item_5</td>\n",
       "      <td>meow</td>\n",
       "      <td>1</td>\n",
       "      <td>28</td>\n",
       "      <td>None</td>\n",
       "    </tr>\n",
       "  </tbody>\n",
       "</table>\n",
       "</div>"
      ],
      "text/plain": [
       "       downloaded  data_id item_kind category item_id item_definition  \\\n",
       "index                                                                   \n",
       "0      2023-09-03   245518      word   sounds  item_1         baa baa   \n",
       "1      2023-09-03   245518      word   sounds  item_2       choo choo   \n",
       "2      2023-09-03   245518      word   sounds  item_3  cockadoodledoo   \n",
       "3      2023-09-03   245518      word   sounds  item_4            grrr   \n",
       "4      2023-09-03   245518      word   sounds  item_5            meow   \n",
       "\n",
       "       child_id  age     value  \n",
       "index                           \n",
       "0             1   28  produces  \n",
       "1             1   28      None  \n",
       "2             1   28      None  \n",
       "3             1   28  produces  \n",
       "4             1   28      None  "
      ]
     },
     "execution_count": 23,
     "metadata": {},
     "output_type": "execute_result"
    }
   ],
   "source": [
    "df = pd.read_parquet(\"wordbank_instrument_data.parquet\")\n",
    "df.head()"
   ]
  },
  {
   "cell_type": "markdown",
   "id": "292f51aa",
   "metadata": {},
   "source": [
    "**Excerpt of the wordbank \"administration\" file.** \n",
    "\n",
    "The completeness of data is not uniform across all datasets types (e.g. `Marchman` vs. `Smith`), making many variables that would be interesting to look at not feasible to include in our analysis because they have a too high count of NAs. We stick to only being interested in the variable **`sex`**. "
   ]
  },
  {
   "cell_type": "code",
   "execution_count": 24,
   "id": "d2734bf3",
   "metadata": {},
   "outputs": [
    {
     "data": {
      "text/html": [
       "<div>\n",
       "<style scoped>\n",
       "    .dataframe tbody tr th:only-of-type {\n",
       "        vertical-align: middle;\n",
       "    }\n",
       "\n",
       "    .dataframe tbody tr th {\n",
       "        vertical-align: top;\n",
       "    }\n",
       "\n",
       "    .dataframe thead th {\n",
       "        text-align: right;\n",
       "    }\n",
       "</style>\n",
       "<table border=\"1\" class=\"dataframe\">\n",
       "  <thead>\n",
       "    <tr style=\"text-align: right;\">\n",
       "      <th></th>\n",
       "      <th>downloaded</th>\n",
       "      <th>language</th>\n",
       "      <th>form</th>\n",
       "      <th>dataset_name</th>\n",
       "      <th>child_id</th>\n",
       "      <th>age</th>\n",
       "      <th>comprehension</th>\n",
       "      <th>production</th>\n",
       "      <th>is_norming</th>\n",
       "      <th>birth_order</th>\n",
       "      <th>...</th>\n",
       "      <th>race</th>\n",
       "      <th>sex</th>\n",
       "      <th>birth_weight</th>\n",
       "      <th>born_early_or_late</th>\n",
       "      <th>gestational_age</th>\n",
       "      <th>zygosity</th>\n",
       "      <th>language_exposures</th>\n",
       "      <th>health_conditions</th>\n",
       "      <th>monolingual</th>\n",
       "      <th>typically_developing</th>\n",
       "    </tr>\n",
       "  </thead>\n",
       "  <tbody>\n",
       "    <tr>\n",
       "      <th>0</th>\n",
       "      <td>2023-09-03</td>\n",
       "      <td>English (American)</td>\n",
       "      <td>WS</td>\n",
       "      <td>Marchman</td>\n",
       "      <td>1</td>\n",
       "      <td>28</td>\n",
       "      <td>497</td>\n",
       "      <td>497</td>\n",
       "      <td>True</td>\n",
       "      <td>Fourth</td>\n",
       "      <td>...</td>\n",
       "      <td>None</td>\n",
       "      <td>Female</td>\n",
       "      <td>NaN</td>\n",
       "      <td>NaN</td>\n",
       "      <td>NaN</td>\n",
       "      <td>NaN</td>\n",
       "      <td>NaN</td>\n",
       "      <td>None</td>\n",
       "      <td>True</td>\n",
       "      <td>True</td>\n",
       "    </tr>\n",
       "    <tr>\n",
       "      <th>1</th>\n",
       "      <td>2023-09-03</td>\n",
       "      <td>English (American)</td>\n",
       "      <td>WS</td>\n",
       "      <td>Marchman</td>\n",
       "      <td>2</td>\n",
       "      <td>22</td>\n",
       "      <td>369</td>\n",
       "      <td>369</td>\n",
       "      <td>True</td>\n",
       "      <td>Second</td>\n",
       "      <td>...</td>\n",
       "      <td>White</td>\n",
       "      <td>Female</td>\n",
       "      <td>NaN</td>\n",
       "      <td>NaN</td>\n",
       "      <td>NaN</td>\n",
       "      <td>NaN</td>\n",
       "      <td>NaN</td>\n",
       "      <td>None</td>\n",
       "      <td>True</td>\n",
       "      <td>True</td>\n",
       "    </tr>\n",
       "    <tr>\n",
       "      <th>2</th>\n",
       "      <td>2023-09-03</td>\n",
       "      <td>English (American)</td>\n",
       "      <td>WS</td>\n",
       "      <td>Marchman</td>\n",
       "      <td>3</td>\n",
       "      <td>26</td>\n",
       "      <td>190</td>\n",
       "      <td>190</td>\n",
       "      <td>True</td>\n",
       "      <td>Fourth</td>\n",
       "      <td>...</td>\n",
       "      <td>White</td>\n",
       "      <td>Female</td>\n",
       "      <td>NaN</td>\n",
       "      <td>NaN</td>\n",
       "      <td>NaN</td>\n",
       "      <td>NaN</td>\n",
       "      <td>NaN</td>\n",
       "      <td>None</td>\n",
       "      <td>True</td>\n",
       "      <td>True</td>\n",
       "    </tr>\n",
       "    <tr>\n",
       "      <th>3</th>\n",
       "      <td>2023-09-03</td>\n",
       "      <td>English (American)</td>\n",
       "      <td>WS</td>\n",
       "      <td>Marchman</td>\n",
       "      <td>4</td>\n",
       "      <td>27</td>\n",
       "      <td>264</td>\n",
       "      <td>264</td>\n",
       "      <td>True</td>\n",
       "      <td>Second</td>\n",
       "      <td>...</td>\n",
       "      <td>White</td>\n",
       "      <td>Male</td>\n",
       "      <td>NaN</td>\n",
       "      <td>NaN</td>\n",
       "      <td>NaN</td>\n",
       "      <td>NaN</td>\n",
       "      <td>NaN</td>\n",
       "      <td>None</td>\n",
       "      <td>True</td>\n",
       "      <td>True</td>\n",
       "    </tr>\n",
       "    <tr>\n",
       "      <th>4</th>\n",
       "      <td>2023-09-03</td>\n",
       "      <td>English (American)</td>\n",
       "      <td>WS</td>\n",
       "      <td>Marchman</td>\n",
       "      <td>5</td>\n",
       "      <td>19</td>\n",
       "      <td>159</td>\n",
       "      <td>159</td>\n",
       "      <td>True</td>\n",
       "      <td>Second</td>\n",
       "      <td>...</td>\n",
       "      <td>Other</td>\n",
       "      <td>Female</td>\n",
       "      <td>NaN</td>\n",
       "      <td>NaN</td>\n",
       "      <td>NaN</td>\n",
       "      <td>NaN</td>\n",
       "      <td>NaN</td>\n",
       "      <td>None</td>\n",
       "      <td>True</td>\n",
       "      <td>True</td>\n",
       "    </tr>\n",
       "  </tbody>\n",
       "</table>\n",
       "<p>5 rows × 22 columns</p>\n",
       "</div>"
      ],
      "text/plain": [
       "   downloaded            language form dataset_name  child_id  age  \\\n",
       "0  2023-09-03  English (American)   WS     Marchman         1   28   \n",
       "1  2023-09-03  English (American)   WS     Marchman         2   22   \n",
       "2  2023-09-03  English (American)   WS     Marchman         3   26   \n",
       "3  2023-09-03  English (American)   WS     Marchman         4   27   \n",
       "4  2023-09-03  English (American)   WS     Marchman         5   19   \n",
       "\n",
       "   comprehension  production  is_norming birth_order  ...   race     sex  \\\n",
       "0            497         497        True      Fourth  ...   None  Female   \n",
       "1            369         369        True      Second  ...  White  Female   \n",
       "2            190         190        True      Fourth  ...  White  Female   \n",
       "3            264         264        True      Second  ...  White    Male   \n",
       "4            159         159        True      Second  ...  Other  Female   \n",
       "\n",
       "  birth_weight born_early_or_late  gestational_age  zygosity  \\\n",
       "0          NaN                NaN              NaN       NaN   \n",
       "1          NaN                NaN              NaN       NaN   \n",
       "2          NaN                NaN              NaN       NaN   \n",
       "3          NaN                NaN              NaN       NaN   \n",
       "4          NaN                NaN              NaN       NaN   \n",
       "\n",
       "   language_exposures  health_conditions  monolingual typically_developing  \n",
       "0                 NaN               None         True                 True  \n",
       "1                 NaN               None         True                 True  \n",
       "2                 NaN               None         True                 True  \n",
       "3                 NaN               None         True                 True  \n",
       "4                 NaN               None         True                 True  \n",
       "\n",
       "[5 rows x 22 columns]"
      ]
     },
     "execution_count": 24,
     "metadata": {},
     "output_type": "execute_result"
    }
   ],
   "source": [
    "df2 = pd.read_parquet(\"wordbank_administration_data.parquet\")\n",
    "df2.head()"
   ]
  },
  {
   "cell_type": "markdown",
   "id": "7cb43f1e",
   "metadata": {},
   "source": [
    "Back to our first dataset **(`df`)**. All items that are not of the **`item_kind`** `word` are excluded.\n",
    "\n",
    "The column **`value`** codes whether the child in question has learned a certain word or not. It has multiple possible values: `produces`, `understands`, `None`. We are only interested in whether a child can speak a word or not, not whether it simply understands the word. `understands` is therefore coded as 0. `None`, meaning a child neither speaks nor understands a given word, is similarly coded as 0."
   ]
  },
  {
   "cell_type": "code",
   "execution_count": 25,
   "id": "3978dfd6",
   "metadata": {},
   "outputs": [],
   "source": [
    "df = df.loc[df[\"item_kind\"] == \"word\"]\n",
    "df[\"value\"].fillna(0, inplace=True)\n",
    "df[\"value\"].replace(\"produces\", 1, inplace=True)\n",
    "df[\"value\"].replace(\"understands\", 0, inplace=True)"
   ]
  },
  {
   "cell_type": "markdown",
   "id": "c71b877c",
   "metadata": {},
   "source": [
    "Let's have a look at our data:"
   ]
  },
  {
   "cell_type": "code",
   "execution_count": 26,
   "id": "52bcc35a",
   "metadata": {},
   "outputs": [
    {
     "name": "stdout",
     "output_type": "stream",
     "text": [
      "\u001b[1mSummary:\u001b[0m\n",
      "\n",
      "Total number of words recorded: 680\n",
      "Total number of children recorded: 6373\n",
      "Numer of rows: 5168680\n",
      "Number of columns: 9\n"
     ]
    }
   ],
   "source": [
    "print(\"\\033[1mSummary:\\033[0m\")\n",
    "print()\n",
    "print(\"Total number of words recorded:\", df[\"item_id\"].nunique())\n",
    "print(\"Total number of children recorded:\", df[\"child_id\"].nunique())\n",
    "print(\"Numer of rows:\", df.shape[0])\n",
    "print(\"Number of columns:\", df.shape[1])"
   ]
  },
  {
   "cell_type": "markdown",
   "id": "a0c0b2bb",
   "metadata": {},
   "source": [
    "Looking at the summary, we should expect to have 680 rows per child.\n",
    "\n",
    "<font color=\"red\">**HOWEVER:**</font> our df has 5168680 rows, and 6373 x 680 =/= 5168680, so something must be wrong here. Let's investigate, by using the other ID variable, called **`data_id`**."
   ]
  },
  {
   "cell_type": "code",
   "execution_count": 27,
   "id": "aef36550",
   "metadata": {},
   "outputs": [
    {
     "data": {
      "text/plain": [
       "7601"
      ]
     },
     "execution_count": 27,
     "metadata": {},
     "output_type": "execute_result"
    }
   ],
   "source": [
    "df[\"data_id\"].nunique()"
   ]
  },
  {
   "cell_type": "markdown",
   "id": "8cb511a8",
   "metadata": {},
   "source": [
    "There are 7601 unique values for **`data_id`**, indicating that this variable does not represent the same information as **`child_id`**, as originally assumed. Also interesting: 7601 x 680 = 5168680, which is in accordance with the n of rows in our df."
   ]
  },
  {
   "cell_type": "markdown",
   "id": "bf460473",
   "metadata": {},
   "source": [
    "Let's investigate the **`child_id`**'s that appear in more than 680 rows. "
   ]
  },
  {
   "cell_type": "code",
   "execution_count": 28,
   "id": "4ed0f851",
   "metadata": {},
   "outputs": [
    {
     "name": "stdout",
     "output_type": "stream",
     "text": [
      "      child_id  downloaded\n",
      "1375      1414        1360\n",
      "1377      1416        2040\n",
      "1379      1418        2040\n",
      "1388      1427        2040\n",
      "1389      1428        1360\n",
      "...        ...         ...\n",
      "4198     81430        1360\n",
      "4199     81431        1360\n",
      "4200     81432        1360\n",
      "4201     81433        1360\n",
      "4202     81434        1360\n",
      "\n",
      "[818 rows x 2 columns]\n"
     ]
    }
   ],
   "source": [
    "#pd.set_option('display.max_rows', None)\n",
    "\n",
    "grouped = df.groupby(\"child_id\")[\"downloaded\"].count().reset_index()\n",
    "grouped = grouped[grouped[\"downloaded\"] > 680]\n",
    "print(grouped)"
   ]
  },
  {
   "cell_type": "markdown",
   "id": "85c23aea",
   "metadata": {},
   "source": [
    "- The number of rows tell us that 818 IDs have more entries than expected (>680). \n",
    "- The column **`child_id`** indicates which ID has more entries than expected.\n",
    "- The column **`downloaded`** indicates the number of entries/rows. Notably, the number is always multiples of 680.\n",
    "\n",
    "Let's pick out one of the child IDs to investigate further."
   ]
  },
  {
   "cell_type": "code",
   "execution_count": 29,
   "id": "d6f95c78",
   "metadata": {},
   "outputs": [
    {
     "data": {
      "text/html": [
       "<div>\n",
       "<style scoped>\n",
       "    .dataframe tbody tr th:only-of-type {\n",
       "        vertical-align: middle;\n",
       "    }\n",
       "\n",
       "    .dataframe tbody tr th {\n",
       "        vertical-align: top;\n",
       "    }\n",
       "\n",
       "    .dataframe thead th {\n",
       "        text-align: right;\n",
       "    }\n",
       "</style>\n",
       "<table border=\"1\" class=\"dataframe\">\n",
       "  <thead>\n",
       "    <tr style=\"text-align: right;\">\n",
       "      <th></th>\n",
       "      <th>downloaded</th>\n",
       "      <th>data_id</th>\n",
       "      <th>item_kind</th>\n",
       "      <th>category</th>\n",
       "      <th>item_id</th>\n",
       "      <th>item_definition</th>\n",
       "      <th>child_id</th>\n",
       "      <th>age</th>\n",
       "      <th>value</th>\n",
       "    </tr>\n",
       "    <tr>\n",
       "      <th>index</th>\n",
       "      <th></th>\n",
       "      <th></th>\n",
       "      <th></th>\n",
       "      <th></th>\n",
       "      <th></th>\n",
       "      <th></th>\n",
       "      <th></th>\n",
       "      <th></th>\n",
       "      <th></th>\n",
       "    </tr>\n",
       "  </thead>\n",
       "  <tbody>\n",
       "    <tr>\n",
       "      <th>1095875</th>\n",
       "      <td>2023-09-03</td>\n",
       "      <td>246931</td>\n",
       "      <td>word</td>\n",
       "      <td>sounds</td>\n",
       "      <td>item_1</td>\n",
       "      <td>baa baa</td>\n",
       "      <td>1414</td>\n",
       "      <td>16</td>\n",
       "      <td>0</td>\n",
       "    </tr>\n",
       "    <tr>\n",
       "      <th>1226583</th>\n",
       "      <td>2023-09-03</td>\n",
       "      <td>247095</td>\n",
       "      <td>word</td>\n",
       "      <td>sounds</td>\n",
       "      <td>item_1</td>\n",
       "      <td>baa baa</td>\n",
       "      <td>1414</td>\n",
       "      <td>18</td>\n",
       "      <td>1</td>\n",
       "    </tr>\n",
       "  </tbody>\n",
       "</table>\n",
       "</div>"
      ],
      "text/plain": [
       "         downloaded  data_id item_kind category item_id item_definition  \\\n",
       "index                                                                     \n",
       "1095875  2023-09-03   246931      word   sounds  item_1         baa baa   \n",
       "1226583  2023-09-03   247095      word   sounds  item_1         baa baa   \n",
       "\n",
       "         child_id  age  value  \n",
       "index                          \n",
       "1095875      1414   16      0  \n",
       "1226583      1414   18      1  "
      ]
     },
     "execution_count": 29,
     "metadata": {},
     "output_type": "execute_result"
    }
   ],
   "source": [
    "df[(df['child_id'] == 1414) & (df[\"item_id\"] == \"item_1\")]"
   ]
  },
  {
   "cell_type": "markdown",
   "id": "fad0bc11",
   "metadata": {},
   "source": [
    "The same pattern shown above can be reproduced for different child IDs and items. A larger value of **`data_id`** is associated with an increase in **`age`**, and in the case of this specific item also a change in **`value`**, indicating that the multiple entries might be due to the same child being recorded at different time points. \n",
    "\n",
    "For the above example: the child is two months older at the second time of recording (**`age`**: 16 to 18) and is now able to say `baa baa` (**`value`**: 0 to 1)."
   ]
  },
  {
   "cell_type": "code",
   "execution_count": 30,
   "id": "5d1b5fe3",
   "metadata": {},
   "outputs": [
    {
     "data": {
      "text/html": [
       "<div>\n",
       "<style scoped>\n",
       "    .dataframe tbody tr th:only-of-type {\n",
       "        vertical-align: middle;\n",
       "    }\n",
       "\n",
       "    .dataframe tbody tr th {\n",
       "        vertical-align: top;\n",
       "    }\n",
       "\n",
       "    .dataframe thead th {\n",
       "        text-align: right;\n",
       "    }\n",
       "</style>\n",
       "<table border=\"1\" class=\"dataframe\">\n",
       "  <thead>\n",
       "    <tr style=\"text-align: right;\">\n",
       "      <th></th>\n",
       "      <th>downloaded</th>\n",
       "      <th>data_id</th>\n",
       "      <th>item_kind</th>\n",
       "      <th>category</th>\n",
       "      <th>item_id</th>\n",
       "      <th>item_definition</th>\n",
       "      <th>child_id</th>\n",
       "      <th>age</th>\n",
       "      <th>value</th>\n",
       "    </tr>\n",
       "    <tr>\n",
       "      <th>index</th>\n",
       "      <th></th>\n",
       "      <th></th>\n",
       "      <th></th>\n",
       "      <th></th>\n",
       "      <th></th>\n",
       "      <th></th>\n",
       "      <th></th>\n",
       "      <th></th>\n",
       "      <th></th>\n",
       "    </tr>\n",
       "  </thead>\n",
       "  <tbody>\n",
       "    <tr>\n",
       "      <th>2379842</th>\n",
       "      <td>2023-09-03</td>\n",
       "      <td>248801</td>\n",
       "      <td>word</td>\n",
       "      <td>sounds</td>\n",
       "      <td>item_1</td>\n",
       "      <td>baa baa</td>\n",
       "      <td>2427</td>\n",
       "      <td>28</td>\n",
       "      <td>1</td>\n",
       "    </tr>\n",
       "    <tr>\n",
       "      <th>2383827</th>\n",
       "      <td>2023-09-03</td>\n",
       "      <td>248808</td>\n",
       "      <td>word</td>\n",
       "      <td>sounds</td>\n",
       "      <td>item_1</td>\n",
       "      <td>baa baa</td>\n",
       "      <td>2427</td>\n",
       "      <td>28</td>\n",
       "      <td>1</td>\n",
       "    </tr>\n",
       "  </tbody>\n",
       "</table>\n",
       "</div>"
      ],
      "text/plain": [
       "         downloaded  data_id item_kind category item_id item_definition  \\\n",
       "index                                                                     \n",
       "2379842  2023-09-03   248801      word   sounds  item_1         baa baa   \n",
       "2383827  2023-09-03   248808      word   sounds  item_1         baa baa   \n",
       "\n",
       "         child_id  age  value  \n",
       "index                          \n",
       "2379842      2427   28      1  \n",
       "2383827      2427   28      1  "
      ]
     },
     "execution_count": 30,
     "metadata": {},
     "output_type": "execute_result"
    }
   ],
   "source": [
    "df[(df['child_id'] == 2427) & (df[\"item_id\"] == \"item_1\")]"
   ]
  },
  {
   "cell_type": "markdown",
   "id": "c2602263",
   "metadata": {},
   "source": [
    "However, further explorations (example above) reveal that for some IDs, **`age`** does not actually change, and in some instances **`value`** will actually change from 1 to 0, which is kind of strange (unless the child in question really did unlearn the given word). Wordbank unfortunately does not provide any official documentation on the data, making things difficult to interpret definitively."
   ]
  },
  {
   "cell_type": "markdown",
   "id": "db110ca4",
   "metadata": {},
   "source": [
    "Let's ignore this matter for now and turn to our second dataset, **`df2`**, in which further demographic characeristics of the children are provided. In a first step, children who are not typically developing have to unfortunately be excluded from our analysis, which stands in stark contrast to the original goal of this application. The reason is that there are too few datapoints for non-typically developing children (n = 234), too many variations in their respective health conditions (3: Autism, Down syndrome, Pre-term), and lastly, too many non-typically developing children for which no information on their health condition is even provided (n = 101)."
   ]
  },
  {
   "cell_type": "code",
   "execution_count": 10,
   "id": "0e871427",
   "metadata": {},
   "outputs": [],
   "source": [
    "df2 = df2.loc[df2[\"typically_developing\"] == True]"
   ]
  },
  {
   "cell_type": "markdown",
   "id": "755c9c9c",
   "metadata": {},
   "source": [
    "Check for `NA`s in **`sex`**:"
   ]
  },
  {
   "cell_type": "code",
   "execution_count": 31,
   "id": "8d5018f5",
   "metadata": {},
   "outputs": [
    {
     "data": {
      "text/plain": [
       "1447"
      ]
     },
     "execution_count": 31,
     "metadata": {},
     "output_type": "execute_result"
    }
   ],
   "source": [
    "df2[\"sex\"].isna().sum()"
   ]
  },
  {
   "cell_type": "markdown",
   "id": "1cfa4b66",
   "metadata": {},
   "source": [
    "Drop them."
   ]
  },
  {
   "cell_type": "code",
   "execution_count": 32,
   "id": "740bb676",
   "metadata": {},
   "outputs": [],
   "source": [
    "df2 = df2.dropna(subset=[\"sex\"])"
   ]
  },
  {
   "cell_type": "markdown",
   "id": "311bce10",
   "metadata": {},
   "source": [
    "Now, let's have a look at the data:"
   ]
  },
  {
   "cell_type": "code",
   "execution_count": 33,
   "id": "2dc8e12f",
   "metadata": {},
   "outputs": [
    {
     "name": "stdout",
     "output_type": "stream",
     "text": [
      "\u001b[1mSummary:\u001b[0m\n",
      "\n",
      "Total number of children recorded: 5242\n",
      "Numer of rows: 5742\n"
     ]
    }
   ],
   "source": [
    "print(\"\\033[1mSummary:\\033[0m\")\n",
    "print()\n",
    "print(\"Total number of children recorded:\", df2[\"child_id\"].nunique())\n",
    "print(\"Numer of rows:\", df2.shape[0])"
   ]
  },
  {
   "cell_type": "markdown",
   "id": "ca02126b",
   "metadata": {},
   "source": [
    "The total number of children, according to **`child_id`** in **`df2`** is not the same as in **`df`** (5242 vs. 6373). Additionally, once again it seems that some IDs have multiple entries. For **`df2`**, each ID should only be represented in 1 row, meaning that we should have 5242 rows, not 5742. The variable **`data_id`** does not exist in **`df2`**."
   ]
  },
  {
   "cell_type": "markdown",
   "id": "1c144f73",
   "metadata": {},
   "source": [
    "Let's have a look at one of the IDs with more than 1 entry:"
   ]
  },
  {
   "cell_type": "code",
   "execution_count": 34,
   "id": "28c5e328",
   "metadata": {},
   "outputs": [],
   "source": [
    "grouped2 = df2.groupby(\"child_id\")[\"downloaded\"].count().reset_index()\n",
    "grouped2 = grouped2[grouped2[\"downloaded\"] > 1]"
   ]
  },
  {
   "cell_type": "code",
   "execution_count": 35,
   "id": "0ce95da7",
   "metadata": {
    "scrolled": true
   },
   "outputs": [
    {
     "data": {
      "text/html": [
       "<div>\n",
       "<style scoped>\n",
       "    .dataframe tbody tr th:only-of-type {\n",
       "        vertical-align: middle;\n",
       "    }\n",
       "\n",
       "    .dataframe tbody tr th {\n",
       "        vertical-align: top;\n",
       "    }\n",
       "\n",
       "    .dataframe thead th {\n",
       "        text-align: right;\n",
       "    }\n",
       "</style>\n",
       "<table border=\"1\" class=\"dataframe\">\n",
       "  <thead>\n",
       "    <tr style=\"text-align: right;\">\n",
       "      <th></th>\n",
       "      <th>downloaded</th>\n",
       "      <th>language</th>\n",
       "      <th>form</th>\n",
       "      <th>dataset_name</th>\n",
       "      <th>child_id</th>\n",
       "      <th>age</th>\n",
       "      <th>comprehension</th>\n",
       "      <th>production</th>\n",
       "      <th>is_norming</th>\n",
       "      <th>birth_order</th>\n",
       "      <th>...</th>\n",
       "      <th>race</th>\n",
       "      <th>sex</th>\n",
       "      <th>birth_weight</th>\n",
       "      <th>born_early_or_late</th>\n",
       "      <th>gestational_age</th>\n",
       "      <th>zygosity</th>\n",
       "      <th>language_exposures</th>\n",
       "      <th>health_conditions</th>\n",
       "      <th>monolingual</th>\n",
       "      <th>typically_developing</th>\n",
       "    </tr>\n",
       "  </thead>\n",
       "  <tbody>\n",
       "    <tr>\n",
       "      <th>2045</th>\n",
       "      <td>2023-09-03</td>\n",
       "      <td>English (American)</td>\n",
       "      <td>WS</td>\n",
       "      <td>Marchman</td>\n",
       "      <td>1919</td>\n",
       "      <td>18</td>\n",
       "      <td>21</td>\n",
       "      <td>21</td>\n",
       "      <td>False</td>\n",
       "      <td>Second</td>\n",
       "      <td>...</td>\n",
       "      <td>White</td>\n",
       "      <td>Female</td>\n",
       "      <td>NaN</td>\n",
       "      <td>NaN</td>\n",
       "      <td>NaN</td>\n",
       "      <td>NaN</td>\n",
       "      <td>NaN</td>\n",
       "      <td>None</td>\n",
       "      <td>True</td>\n",
       "      <td>True</td>\n",
       "    </tr>\n",
       "    <tr>\n",
       "      <th>2046</th>\n",
       "      <td>2023-09-03</td>\n",
       "      <td>English (American)</td>\n",
       "      <td>WS</td>\n",
       "      <td>Marchman</td>\n",
       "      <td>1919</td>\n",
       "      <td>24</td>\n",
       "      <td>138</td>\n",
       "      <td>138</td>\n",
       "      <td>False</td>\n",
       "      <td>Second</td>\n",
       "      <td>...</td>\n",
       "      <td>White</td>\n",
       "      <td>Female</td>\n",
       "      <td>NaN</td>\n",
       "      <td>NaN</td>\n",
       "      <td>NaN</td>\n",
       "      <td>NaN</td>\n",
       "      <td>NaN</td>\n",
       "      <td>None</td>\n",
       "      <td>True</td>\n",
       "      <td>True</td>\n",
       "    </tr>\n",
       "    <tr>\n",
       "      <th>2047</th>\n",
       "      <td>2023-09-03</td>\n",
       "      <td>English (American)</td>\n",
       "      <td>WS</td>\n",
       "      <td>Marchman</td>\n",
       "      <td>1919</td>\n",
       "      <td>30</td>\n",
       "      <td>511</td>\n",
       "      <td>511</td>\n",
       "      <td>False</td>\n",
       "      <td>Second</td>\n",
       "      <td>...</td>\n",
       "      <td>White</td>\n",
       "      <td>Female</td>\n",
       "      <td>NaN</td>\n",
       "      <td>NaN</td>\n",
       "      <td>NaN</td>\n",
       "      <td>NaN</td>\n",
       "      <td>NaN</td>\n",
       "      <td>None</td>\n",
       "      <td>True</td>\n",
       "      <td>True</td>\n",
       "    </tr>\n",
       "  </tbody>\n",
       "</table>\n",
       "<p>3 rows × 22 columns</p>\n",
       "</div>"
      ],
      "text/plain": [
       "      downloaded            language form dataset_name  child_id  age  \\\n",
       "2045  2023-09-03  English (American)   WS     Marchman      1919   18   \n",
       "2046  2023-09-03  English (American)   WS     Marchman      1919   24   \n",
       "2047  2023-09-03  English (American)   WS     Marchman      1919   30   \n",
       "\n",
       "      comprehension  production  is_norming birth_order  ...   race     sex  \\\n",
       "2045             21          21       False      Second  ...  White  Female   \n",
       "2046            138         138       False      Second  ...  White  Female   \n",
       "2047            511         511       False      Second  ...  White  Female   \n",
       "\n",
       "     birth_weight born_early_or_late  gestational_age  zygosity  \\\n",
       "2045          NaN                NaN              NaN       NaN   \n",
       "2046          NaN                NaN              NaN       NaN   \n",
       "2047          NaN                NaN              NaN       NaN   \n",
       "\n",
       "      language_exposures  health_conditions  monolingual typically_developing  \n",
       "2045                 NaN               None         True                 True  \n",
       "2046                 NaN               None         True                 True  \n",
       "2047                 NaN               None         True                 True  \n",
       "\n",
       "[3 rows x 22 columns]"
      ]
     },
     "execution_count": 35,
     "metadata": {},
     "output_type": "execute_result"
    }
   ],
   "source": [
    "df2[df2[\"child_id\"] == 1919]"
   ]
  },
  {
   "cell_type": "markdown",
   "id": "5be8e070",
   "metadata": {},
   "source": [
    "Explorations of cases of multiple entries further indicate that the underlying cause here could be that certain children were recorded more than once, at different points in time. **`Birth order`**, **`sex`**, **`race`**, etc. are the same across the \"duplicate\" entries, whereas the values of **`age`**, **`production`** and **`comprehension`** change (see example above). A possible solution would be to treat the duplicate entries as separate children, since they still contain valuable information. Explore the data a bit more before making a final decision."
   ]
  },
  {
   "cell_type": "markdown",
   "id": "02faf937",
   "metadata": {},
   "source": [
    "At a first glance, it seems that *all* duplicates really are the product of longitudinal data. Note the pattern shown in the table below: **`downloaded`**/**`grouped`** (left side) are always multiples of 680 by a factor of **`downloaded`**/**`grouped2`** (right side)."
   ]
  },
  {
   "cell_type": "code",
   "execution_count": 36,
   "id": "bb59d937",
   "metadata": {},
   "outputs": [
    {
     "data": {
      "text/html": [
       "<div>\n",
       "<style scoped>\n",
       "    .dataframe tbody tr th:only-of-type {\n",
       "        vertical-align: middle;\n",
       "    }\n",
       "\n",
       "    .dataframe tbody tr th {\n",
       "        vertical-align: top;\n",
       "    }\n",
       "\n",
       "    .dataframe thead th {\n",
       "        text-align: right;\n",
       "    }\n",
       "</style>\n",
       "<table border=\"1\" class=\"dataframe\">\n",
       "  <thead>\n",
       "    <tr style=\"text-align: right;\">\n",
       "      <th></th>\n",
       "      <th>child_id</th>\n",
       "      <th>downloaded</th>\n",
       "      <th>child_id</th>\n",
       "      <th>downloaded</th>\n",
       "    </tr>\n",
       "  </thead>\n",
       "  <tbody>\n",
       "    <tr>\n",
       "      <th>1375</th>\n",
       "      <td>1414.0</td>\n",
       "      <td>1360.0</td>\n",
       "      <td>1414.0</td>\n",
       "      <td>2.0</td>\n",
       "    </tr>\n",
       "    <tr>\n",
       "      <th>1377</th>\n",
       "      <td>1416.0</td>\n",
       "      <td>2040.0</td>\n",
       "      <td>1416.0</td>\n",
       "      <td>3.0</td>\n",
       "    </tr>\n",
       "    <tr>\n",
       "      <th>1379</th>\n",
       "      <td>1418.0</td>\n",
       "      <td>2040.0</td>\n",
       "      <td>1418.0</td>\n",
       "      <td>3.0</td>\n",
       "    </tr>\n",
       "    <tr>\n",
       "      <th>1388</th>\n",
       "      <td>1427.0</td>\n",
       "      <td>2040.0</td>\n",
       "      <td>1427.0</td>\n",
       "      <td>3.0</td>\n",
       "    </tr>\n",
       "    <tr>\n",
       "      <th>1389</th>\n",
       "      <td>1428.0</td>\n",
       "      <td>1360.0</td>\n",
       "      <td>1428.0</td>\n",
       "      <td>2.0</td>\n",
       "    </tr>\n",
       "    <tr>\n",
       "      <th>...</th>\n",
       "      <td>...</td>\n",
       "      <td>...</td>\n",
       "      <td>...</td>\n",
       "      <td>...</td>\n",
       "    </tr>\n",
       "    <tr>\n",
       "      <th>3064</th>\n",
       "      <td>NaN</td>\n",
       "      <td>NaN</td>\n",
       "      <td>81427.0</td>\n",
       "      <td>2.0</td>\n",
       "    </tr>\n",
       "    <tr>\n",
       "      <th>3065</th>\n",
       "      <td>NaN</td>\n",
       "      <td>NaN</td>\n",
       "      <td>81428.0</td>\n",
       "      <td>2.0</td>\n",
       "    </tr>\n",
       "    <tr>\n",
       "      <th>3067</th>\n",
       "      <td>NaN</td>\n",
       "      <td>NaN</td>\n",
       "      <td>81430.0</td>\n",
       "      <td>2.0</td>\n",
       "    </tr>\n",
       "    <tr>\n",
       "      <th>3069</th>\n",
       "      <td>NaN</td>\n",
       "      <td>NaN</td>\n",
       "      <td>81432.0</td>\n",
       "      <td>2.0</td>\n",
       "    </tr>\n",
       "    <tr>\n",
       "      <th>3071</th>\n",
       "      <td>NaN</td>\n",
       "      <td>NaN</td>\n",
       "      <td>81434.0</td>\n",
       "      <td>2.0</td>\n",
       "    </tr>\n",
       "  </tbody>\n",
       "</table>\n",
       "<p>868 rows × 4 columns</p>\n",
       "</div>"
      ],
      "text/plain": [
       "      child_id  downloaded  child_id  downloaded\n",
       "1375    1414.0      1360.0    1414.0         2.0\n",
       "1377    1416.0      2040.0    1416.0         3.0\n",
       "1379    1418.0      2040.0    1418.0         3.0\n",
       "1388    1427.0      2040.0    1427.0         3.0\n",
       "1389    1428.0      1360.0    1428.0         2.0\n",
       "...        ...         ...       ...         ...\n",
       "3064       NaN         NaN   81427.0         2.0\n",
       "3065       NaN         NaN   81428.0         2.0\n",
       "3067       NaN         NaN   81430.0         2.0\n",
       "3069       NaN         NaN   81432.0         2.0\n",
       "3071       NaN         NaN   81434.0         2.0\n",
       "\n",
       "[868 rows x 4 columns]"
      ]
     },
     "execution_count": 36,
     "metadata": {},
     "output_type": "execute_result"
    }
   ],
   "source": [
    "pd.concat([grouped, grouped2], axis=1)"
   ]
  },
  {
   "cell_type": "markdown",
   "id": "d681f9a3",
   "metadata": {},
   "source": [
    "However, more in-depth explorations reveal that the IDs with excessive entries do not perfectly correspond across our two df's - for example:\n",
    "\n",
    "- some IDs that are in **`df`** are not in **`df2`** and vice versa, and more importantly,\n",
    "- some IDs that have duplicate entries in **`df`** do *not* have any duplicates in **`df2`**, adding more confusion to the matter."
   ]
  },
  {
   "cell_type": "markdown",
   "id": "cecd290a",
   "metadata": {},
   "source": [
    "💡 **Idea:** Let's just merge the df's and see what happens."
   ]
  },
  {
   "cell_type": "markdown",
   "id": "1e930ea2",
   "metadata": {},
   "source": [
    "Some additional data preprocessing is necessary before merging. \n",
    "\n",
    "For **`df`**, the sum of all words that a child is capable of producing (i.e. the sum of **`value`**) is calculated. For each child ID, this calculated sum should correspond with the value of **`production`** in **`df2`**, as this variable represents a tally of how many of the 680 items the child in question is able to speak. When merging our datasets, we can use this as additional information (alongisde **`age`** and **`child_id`**) to help us match the children as accurately as possible, especially considering the inconsistencies found between the two df's.\n",
    "\n",
    "Rows that do not match on all of these three variables are dropped."
   ]
  },
  {
   "cell_type": "code",
   "execution_count": 37,
   "id": "5f971ec7",
   "metadata": {},
   "outputs": [],
   "source": [
    "dfx = df.groupby(\"child_id\").agg({\"value\": \"sum\", \"age\": \"first\"}).reset_index()\n",
    "dfx.rename(columns={\"value\": \"production\"}, inplace=True)\n",
    "mergedf = dfx.merge(df2, on=[\"child_id\", \"age\", \"production\"], how=\"inner\")\n",
    "mergedf = mergedf[[\"child_id\", \"age\", \"sex\", \"production\"]]"
   ]
  },
  {
   "cell_type": "code",
   "execution_count": 38,
   "id": "1cf9e1b2",
   "metadata": {},
   "outputs": [
    {
     "data": {
      "text/html": [
       "<div>\n",
       "<style scoped>\n",
       "    .dataframe tbody tr th:only-of-type {\n",
       "        vertical-align: middle;\n",
       "    }\n",
       "\n",
       "    .dataframe tbody tr th {\n",
       "        vertical-align: top;\n",
       "    }\n",
       "\n",
       "    .dataframe thead th {\n",
       "        text-align: right;\n",
       "    }\n",
       "</style>\n",
       "<table border=\"1\" class=\"dataframe\">\n",
       "  <thead>\n",
       "    <tr style=\"text-align: right;\">\n",
       "      <th></th>\n",
       "      <th>child_id</th>\n",
       "      <th>age</th>\n",
       "      <th>sex</th>\n",
       "      <th>production</th>\n",
       "    </tr>\n",
       "  </thead>\n",
       "  <tbody>\n",
       "    <tr>\n",
       "      <th>0</th>\n",
       "      <td>1</td>\n",
       "      <td>28</td>\n",
       "      <td>Female</td>\n",
       "      <td>497</td>\n",
       "    </tr>\n",
       "    <tr>\n",
       "      <th>1</th>\n",
       "      <td>2</td>\n",
       "      <td>22</td>\n",
       "      <td>Female</td>\n",
       "      <td>369</td>\n",
       "    </tr>\n",
       "    <tr>\n",
       "      <th>2</th>\n",
       "      <td>3</td>\n",
       "      <td>26</td>\n",
       "      <td>Female</td>\n",
       "      <td>190</td>\n",
       "    </tr>\n",
       "    <tr>\n",
       "      <th>3</th>\n",
       "      <td>4</td>\n",
       "      <td>27</td>\n",
       "      <td>Male</td>\n",
       "      <td>264</td>\n",
       "    </tr>\n",
       "    <tr>\n",
       "      <th>4</th>\n",
       "      <td>5</td>\n",
       "      <td>19</td>\n",
       "      <td>Female</td>\n",
       "      <td>159</td>\n",
       "    </tr>\n",
       "    <tr>\n",
       "      <th>...</th>\n",
       "      <td>...</td>\n",
       "      <td>...</td>\n",
       "      <td>...</td>\n",
       "      <td>...</td>\n",
       "    </tr>\n",
       "    <tr>\n",
       "      <th>4826</th>\n",
       "      <td>86611</td>\n",
       "      <td>22</td>\n",
       "      <td>Male</td>\n",
       "      <td>120</td>\n",
       "    </tr>\n",
       "    <tr>\n",
       "      <th>4827</th>\n",
       "      <td>86612</td>\n",
       "      <td>29</td>\n",
       "      <td>Male</td>\n",
       "      <td>676</td>\n",
       "    </tr>\n",
       "    <tr>\n",
       "      <th>4828</th>\n",
       "      <td>86613</td>\n",
       "      <td>22</td>\n",
       "      <td>Male</td>\n",
       "      <td>170</td>\n",
       "    </tr>\n",
       "    <tr>\n",
       "      <th>4829</th>\n",
       "      <td>86614</td>\n",
       "      <td>28</td>\n",
       "      <td>Female</td>\n",
       "      <td>313</td>\n",
       "    </tr>\n",
       "    <tr>\n",
       "      <th>4830</th>\n",
       "      <td>86615</td>\n",
       "      <td>23</td>\n",
       "      <td>Female</td>\n",
       "      <td>238</td>\n",
       "    </tr>\n",
       "  </tbody>\n",
       "</table>\n",
       "<p>4831 rows × 4 columns</p>\n",
       "</div>"
      ],
      "text/plain": [
       "      child_id  age     sex  production\n",
       "0            1   28  Female         497\n",
       "1            2   22  Female         369\n",
       "2            3   26  Female         190\n",
       "3            4   27    Male         264\n",
       "4            5   19  Female         159\n",
       "...        ...  ...     ...         ...\n",
       "4826     86611   22    Male         120\n",
       "4827     86612   29    Male         676\n",
       "4828     86613   22    Male         170\n",
       "4829     86614   28  Female         313\n",
       "4830     86615   23  Female         238\n",
       "\n",
       "[4831 rows x 4 columns]"
      ]
     },
     "execution_count": 38,
     "metadata": {},
     "output_type": "execute_result"
    }
   ],
   "source": [
    "mergedf"
   ]
  },
  {
   "cell_type": "markdown",
   "id": "88fd9a15",
   "metadata": {},
   "source": [
    "Let's take a look at our new df:"
   ]
  },
  {
   "cell_type": "code",
   "execution_count": 39,
   "id": "647f7efa",
   "metadata": {},
   "outputs": [
    {
     "name": "stdout",
     "output_type": "stream",
     "text": [
      "\u001b[1mSummary:\u001b[0m\n",
      "\n",
      "Total number of children recorded: 4831\n",
      "Numer of rows: 4831\n"
     ]
    }
   ],
   "source": [
    "print(\"\\033[1mSummary:\\033[0m\")\n",
    "print()\n",
    "print(\"Total number of children recorded:\", mergedf[\"child_id\"].nunique())\n",
    "print(\"Numer of rows:\", mergedf.shape[0])"
   ]
  },
  {
   "cell_type": "markdown",
   "id": "542b6f81",
   "metadata": {},
   "source": [
    "No more duplicates! 🚀"
   ]
  },
  {
   "cell_type": "markdown",
   "id": "ff665978",
   "metadata": {},
   "source": [
    "The final step in our merge is to combine the information contained in **`mergedf`** with our main dataset **`df`**, and remove all entries that don't have a match."
   ]
  },
  {
   "cell_type": "code",
   "execution_count": 40,
   "id": "81de06d5",
   "metadata": {},
   "outputs": [],
   "source": [
    "final = df.merge(mergedf, on=[\"child_id\", \"age\"], how=\"inner\")"
   ]
  },
  {
   "cell_type": "markdown",
   "id": "eb707af9",
   "metadata": {},
   "source": [
    "Check to see whether the number of IDs makes sense:"
   ]
  },
  {
   "cell_type": "code",
   "execution_count": 41,
   "id": "f7a8b3ca",
   "metadata": {},
   "outputs": [
    {
     "data": {
      "text/plain": [
       "4831"
      ]
     },
     "execution_count": 41,
     "metadata": {},
     "output_type": "execute_result"
    }
   ],
   "source": [
    "final[\"child_id\"].nunique()"
   ]
  },
  {
   "cell_type": "markdown",
   "id": "904dea86",
   "metadata": {},
   "source": [
    "It does! We now have 5233 different children, all typically developing, no duplicates, no NAs, and have complete information on how many words they can produce, their age, and their sex."
   ]
  },
  {
   "cell_type": "markdown",
   "id": "8d7363d1",
   "metadata": {},
   "source": [
    "Finally, remove all the columns we don't need."
   ]
  },
  {
   "cell_type": "code",
   "execution_count": 42,
   "id": "d75f699f",
   "metadata": {},
   "outputs": [
    {
     "data": {
      "text/html": [
       "<div>\n",
       "<style scoped>\n",
       "    .dataframe tbody tr th:only-of-type {\n",
       "        vertical-align: middle;\n",
       "    }\n",
       "\n",
       "    .dataframe tbody tr th {\n",
       "        vertical-align: top;\n",
       "    }\n",
       "\n",
       "    .dataframe thead th {\n",
       "        text-align: right;\n",
       "    }\n",
       "</style>\n",
       "<table border=\"1\" class=\"dataframe\">\n",
       "  <thead>\n",
       "    <tr style=\"text-align: right;\">\n",
       "      <th></th>\n",
       "      <th>child_id</th>\n",
       "      <th>age</th>\n",
       "      <th>sex</th>\n",
       "      <th>item_id</th>\n",
       "      <th>item_definition</th>\n",
       "      <th>value</th>\n",
       "      <th>production</th>\n",
       "    </tr>\n",
       "  </thead>\n",
       "  <tbody>\n",
       "    <tr>\n",
       "      <th>0</th>\n",
       "      <td>1</td>\n",
       "      <td>28</td>\n",
       "      <td>Female</td>\n",
       "      <td>item_1</td>\n",
       "      <td>baa baa</td>\n",
       "      <td>1</td>\n",
       "      <td>497</td>\n",
       "    </tr>\n",
       "    <tr>\n",
       "      <th>1</th>\n",
       "      <td>1</td>\n",
       "      <td>28</td>\n",
       "      <td>Female</td>\n",
       "      <td>item_2</td>\n",
       "      <td>choo choo</td>\n",
       "      <td>0</td>\n",
       "      <td>497</td>\n",
       "    </tr>\n",
       "    <tr>\n",
       "      <th>2</th>\n",
       "      <td>1</td>\n",
       "      <td>28</td>\n",
       "      <td>Female</td>\n",
       "      <td>item_3</td>\n",
       "      <td>cockadoodledoo</td>\n",
       "      <td>0</td>\n",
       "      <td>497</td>\n",
       "    </tr>\n",
       "    <tr>\n",
       "      <th>3</th>\n",
       "      <td>1</td>\n",
       "      <td>28</td>\n",
       "      <td>Female</td>\n",
       "      <td>item_4</td>\n",
       "      <td>grrr</td>\n",
       "      <td>1</td>\n",
       "      <td>497</td>\n",
       "    </tr>\n",
       "    <tr>\n",
       "      <th>4</th>\n",
       "      <td>1</td>\n",
       "      <td>28</td>\n",
       "      <td>Female</td>\n",
       "      <td>item_5</td>\n",
       "      <td>meow</td>\n",
       "      <td>0</td>\n",
       "      <td>497</td>\n",
       "    </tr>\n",
       "  </tbody>\n",
       "</table>\n",
       "</div>"
      ],
      "text/plain": [
       "   child_id  age     sex item_id item_definition  value  production\n",
       "0         1   28  Female  item_1         baa baa      1         497\n",
       "1         1   28  Female  item_2       choo choo      0         497\n",
       "2         1   28  Female  item_3  cockadoodledoo      0         497\n",
       "3         1   28  Female  item_4            grrr      1         497\n",
       "4         1   28  Female  item_5            meow      0         497"
      ]
     },
     "execution_count": 42,
     "metadata": {},
     "output_type": "execute_result"
    }
   ],
   "source": [
    "final = final.drop(columns=[\"downloaded\", \"data_id\", \"item_kind\"])\n",
    "final = final[[\"child_id\", \"age\", \"sex\", \"item_id\", \"item_definition\", \"value\", \"production\"]]\n",
    "final.head()"
   ]
  },
  {
   "cell_type": "markdown",
   "id": "c6869f94",
   "metadata": {},
   "source": [
    "Save **`final`** as parquet."
   ]
  },
  {
   "cell_type": "code",
   "execution_count": 90,
   "id": "21153771",
   "metadata": {},
   "outputs": [],
   "source": [
    "final.to_parquet('preprocessed.parquet', index=False)"
   ]
  }
 ],
 "metadata": {
  "kernelspec": {
   "display_name": "Python 3 (ipykernel)",
   "language": "python",
   "name": "python3"
  },
  "language_info": {
   "codemirror_mode": {
    "name": "ipython",
    "version": 3
   },
   "file_extension": ".py",
   "mimetype": "text/x-python",
   "name": "python",
   "nbconvert_exporter": "python",
   "pygments_lexer": "ipython3",
   "version": "3.10.9"
  }
 },
 "nbformat": 4,
 "nbformat_minor": 5
}
