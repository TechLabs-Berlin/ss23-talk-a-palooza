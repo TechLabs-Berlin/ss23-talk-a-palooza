{
 "cells": [
  {
   "cell_type": "code",
   "execution_count": 1,
   "id": "d554b5f6",
   "metadata": {},
   "outputs": [],
   "source": [
    "import pandas as pd\n",
    "import matplotlib.pyplot as plt\n",
    "import statsmodels.api as sm\n",
    "from statsmodels.formula.api import ols\n",
    "from statsmodels.stats.multicomp import pairwise_tukeyhsd\n",
    "import seaborn as sns"
   ]
  },
  {
   "cell_type": "code",
   "execution_count": 2,
   "id": "4e972542",
   "metadata": {},
   "outputs": [],
   "source": [
    "df = pd.read_parquet(\"preprocessed.parquet\")"
   ]
  },
  {
   "cell_type": "code",
   "execution_count": 3,
   "id": "2696132a",
   "metadata": {},
   "outputs": [],
   "source": [
    "df = pd.read_parquet(\"wbmasterf.parquet\")"
   ]
  },
  {
   "cell_type": "markdown",
   "id": "f17e1aae",
   "metadata": {},
   "source": [
    "# **Part 2: Exploring the data**"
   ]
  },
  {
   "cell_type": "markdown",
   "id": "c0194c37",
   "metadata": {},
   "source": [
    "Now that our data has been cleaned, meaningful explorations can be conducted."
   ]
  },
  {
   "cell_type": "markdown",
   "id": "13632a5f",
   "metadata": {},
   "source": [
    "## **Demographic Information**"
   ]
  },
  {
   "cell_type": "markdown",
   "id": "d5977a53",
   "metadata": {},
   "source": [
    "**N by sex**:\n",
    "\n",
    "- Overall (not taking age into account), we have an equal representation of sex. "
   ]
  },
  {
   "cell_type": "code",
   "execution_count": 5,
   "id": "366ae9d2",
   "metadata": {},
   "outputs": [
    {
     "name": "stdout",
     "output_type": "stream",
     "text": [
      "Total number of children: 4831\n",
      "Number of children by sex\n",
      "Female    2329\n",
      "Male      2502\n",
      "Name: child_id, dtype: int64\n"
     ]
    }
   ],
   "source": [
    "print(\"Total number of children:\", df[\"child_id\"].nunique())\n",
    "print(\"Number of children by\", df.groupby(\"sex\")[\"child_id\"].nunique())"
   ]
  },
  {
   "cell_type": "markdown",
   "id": "c155153e",
   "metadata": {},
   "source": [
    "**N by age**\n",
    "\n",
    "- The number of samples is not evenly distributed across all age groups, and ranges from 140 to 883. Broadly speaking, we have more data available for the older age groups than the younger ones. *(*Note: age is counted in months)*"
   ]
  },
  {
   "cell_type": "code",
   "execution_count": 6,
   "id": "4d402293",
   "metadata": {},
   "outputs": [
    {
     "data": {
      "text/plain": [
       "age\n",
       "16    140\n",
       "17    223\n",
       "18    325\n",
       "19    278\n",
       "20    227\n",
       "21    208\n",
       "22    202\n",
       "23    261\n",
       "24    535\n",
       "25    374\n",
       "26    286\n",
       "27    275\n",
       "28    883\n",
       "29    269\n",
       "30    345\n",
       "Name: child_id, dtype: int64"
      ]
     },
     "execution_count": 6,
     "metadata": {},
     "output_type": "execute_result"
    }
   ],
   "source": [
    "df.groupby(\"age\")[\"child_id\"].nunique()"
   ]
  },
  {
   "cell_type": "markdown",
   "id": "c5b39c04",
   "metadata": {},
   "source": [
    "**N by age and sex**\n",
    "\n",
    "- The sex of the participants is distributed relatively evenly for *most* ages."
   ]
  },
  {
   "cell_type": "code",
   "execution_count": 8,
   "id": "0d718eed",
   "metadata": {},
   "outputs": [
    {
     "data": {
      "text/plain": [
       "age  sex   \n",
       "16   Female     70\n",
       "     Male       70\n",
       "17   Female    111\n",
       "     Male      112\n",
       "18   Female    164\n",
       "     Male      161\n",
       "19   Female    143\n",
       "     Male      135\n",
       "20   Female    115\n",
       "     Male      112\n",
       "21   Female    100\n",
       "     Male      108\n",
       "22   Female    113\n",
       "     Male       89\n",
       "23   Female    129\n",
       "     Male      132\n",
       "24   Female    236\n",
       "     Male      299\n",
       "25   Female    179\n",
       "     Male      195\n",
       "26   Female    140\n",
       "     Male      146\n",
       "27   Female    137\n",
       "     Male      138\n",
       "28   Female    403\n",
       "     Male      480\n",
       "29   Female    128\n",
       "     Male      141\n",
       "30   Female    161\n",
       "     Male      184\n",
       "Name: child_id, dtype: int64"
      ]
     },
     "execution_count": 8,
     "metadata": {},
     "output_type": "execute_result"
    }
   ],
   "source": [
    "df.groupby([\"age\", \"sex\"])[\"child_id\"].nunique()"
   ]
  },
  {
   "cell_type": "markdown",
   "id": "af413b86",
   "metadata": {},
   "source": [
    "**Production by age**\n",
    "\n",
    "- The bar graph below visualizes the mean value of **`production`** (number of words spoken by a child) by **`age`**. As expected, the older the child, the greater the average number of words it can produce. 1-month age differences don't seem to go hand in hand with big leaps in the value of **`production`**. Considering that we have a large number of levels for **`age`** (15 in total; the values range from 16 to 30), should we consider grouping this variable into larger intervals?"
   ]
  },
  {
   "cell_type": "code",
   "execution_count": 9,
   "id": "316d625a",
   "metadata": {
    "scrolled": true
   },
   "outputs": [
    {
     "data": {
      "image/png": "[encoded data removed]",
      "text/plain": [
       "<Figure size 500x200 with 1 Axes>"
      ]
     },
     "metadata": {},
     "output_type": "display_data"
    }
   ],
   "source": [
    "age_grouped = df.groupby(\"age\")[\"production\"].mean()\n",
    "\n",
    "plt.figure(figsize=(5, 2))\n",
    "plt.hist(age_grouped.index, bins=15, weights=age_grouped.values, edgecolor='black', alpha=0.7)\n",
    "\n",
    "plt.xlabel(\"Age\")\n",
    "plt.ylabel(\"Mean Production\")\n",
    "plt.title(\"Mean Production by Age Group\")\n",
    "plt.show()"
   ]
  },
  {
   "cell_type": "markdown",
   "id": "a8e26c3f",
   "metadata": {},
   "source": [
    "Run an anova to further explore the data."
   ]
  },
  {
   "cell_type": "code",
   "execution_count": 10,
   "id": "ec444cb1",
   "metadata": {},
   "outputs": [],
   "source": [
    "dfa = df.groupby(\"child_id\").agg({\"sex\": \"first\", \"production\": \"first\", \"age\": \"first\"})"
   ]
  },
  {
   "cell_type": "code",
   "execution_count": 11,
   "id": "c6960686",
   "metadata": {
    "scrolled": false
   },
   "outputs": [
    {
     "name": "stdout",
     "output_type": "stream",
     "text": [
      "                sum_sq      df            F        PR(>F)\n",
      "sex       2.343337e+06     1.0    95.558438  2.312494e-22\n",
      "age       9.692912e+07     1.0  3952.652318  0.000000e+00\n",
      "sex:age   1.501248e+05     1.0     6.121908  1.338579e-02\n",
      "Residual  1.183704e+08  4827.0          NaN           NaN\n"
     ]
    }
   ],
   "source": [
    "model = ols(\"production ~ sex + age + sex*age\", data=dfa).fit()\n",
    "anova_table = sm.stats.anova_lm(model, typ=2)\n",
    "print(anova_table)"
   ]
  },
  {
   "cell_type": "markdown",
   "id": "142c20e0",
   "metadata": {},
   "source": [
    "The results below show that **`sex`**, **`age`**, and **`sex-age`** interaction are all significant predictors (p<.05) of production. We conduct post-hoc tests for each predictor."
   ]
  },
  {
   "cell_type": "markdown",
   "id": "c4fa6d88",
   "metadata": {},
   "source": [
    "- **Sex:** Female children on average are able to produce more words than male ones."
   ]
  },
  {
   "cell_type": "code",
   "execution_count": 12,
   "id": "25740c1c",
   "metadata": {},
   "outputs": [
    {
     "name": "stdout",
     "output_type": "stream",
     "text": [
      " Multiple Comparison of Means - Tukey HSD, FWER=0.05 \n",
      "=====================================================\n",
      "group1 group2 meandiff p-adj  lower    upper   reject\n",
      "-----------------------------------------------------\n",
      "Female   Male -35.4437   0.0 -47.3668 -23.5205   True\n",
      "-----------------------------------------------------\n"
     ]
    }
   ],
   "source": [
    "tukey = pairwise_tukeyhsd(endog=dfa[\"production\"], groups=(dfa[\"sex\"]), alpha=0.05)\n",
    "print(tukey)"
   ]
  },
  {
   "cell_type": "markdown",
   "id": "d2a6d1a2",
   "metadata": {},
   "source": [
    "- **Age:** As stated before, on average, the older a child, the more words it is able to produce. Not all differences between neighbouring age groups are significant, however, indicating that it might be reasonable to group our participants in larger intervals and reduce the overall number of groups, from 15 to 5, for example."
   ]
  },
  {
   "cell_type": "code",
   "execution_count": 13,
   "id": "fe5469bb",
   "metadata": {},
   "outputs": [
    {
     "name": "stdout",
     "output_type": "stream",
     "text": [
      " Multiple Comparison of Means - Tukey HSD, FWER=0.05  \n",
      "======================================================\n",
      "group1 group2 meandiff p-adj   lower    upper   reject\n",
      "------------------------------------------------------\n",
      "    16     17  20.0217 0.9977 -37.3567  77.4002  False\n",
      "    16     18  34.5695 0.6791 -19.2244  88.3633  False\n",
      "    16     19  79.9118 0.0001  24.7659 135.0578   True\n",
      "    16     20 103.6558    0.0  46.4727  160.839   True\n",
      "    16     21 136.5745    0.0  78.4036 194.7454   True\n",
      "    16     22 163.6284    0.0  105.111 222.1459   True\n",
      "    16     23 228.9027    0.0 173.1585 284.6469   True\n",
      "    16     24 238.5104    0.0 187.9951 289.0257   True\n",
      "    16     25 281.5138    0.0 228.7916  334.236   True\n",
      "    16     26 289.0823    0.0 234.1953 343.9693   True\n",
      "    16     27 325.9644    0.0 270.7178  381.211   True\n",
      "    16     28 423.5148    0.0 375.1081 471.9215   True\n",
      "    16     29 392.1438    0.0 336.6897 447.5978   True\n",
      "    16     30 430.2615    0.0 376.9392 483.5838   True\n",
      "    17     18  14.5477 0.9993 -31.7232  60.8186  False\n",
      "    17     19  59.8901 0.0021   12.054 107.7262   True\n",
      "    17     20  83.6341    0.0  33.4631 133.8051   True\n",
      "    17     21 116.5527    0.0  65.2588 167.8467   True\n",
      "    17     22 143.6067    0.0  91.9201 195.2933   True\n",
      "    17     23  208.881    0.0 160.3564 257.4056   True\n",
      "    17     24 218.4887    0.0 176.0739 260.9035   True\n",
      "    17     25 261.4921    0.0 216.4716 306.5127   True\n",
      "    17     26 269.0606    0.0 221.5232  316.598   True\n",
      "    17     27 305.9427    0.0 257.9906 353.8948   True\n",
      "    17     28 403.4931    0.0 363.6129 443.3732   True\n",
      "    17     29  372.122    0.0 323.9311  420.313   True\n",
      "    17     30 410.2398    0.0 364.5179 455.9616   True\n",
      "    18     19  45.3424 0.0311   1.8707   88.814   True\n",
      "    18     20  69.0864    0.0  23.0579 115.1149   True\n",
      "    18     21  102.005    0.0   54.755  149.255   True\n",
      "    18     22  129.059    0.0   81.383  176.735   True\n",
      "    18     23 194.3333    0.0 150.1051 238.5614   True\n",
      "    18     24  203.941    0.0 166.5176 241.3643   True\n",
      "    18     25 246.9444    0.0 206.5916 287.2971   True\n",
      "    18     26 254.5129    0.0 211.3701 297.6556   True\n",
      "    18     27  291.395    0.0 247.7957 334.9943   True\n",
      "    18     28 388.9453    0.0 354.4212 423.4695   True\n",
      "    18     29 357.5743    0.0 313.7124 401.4362   True\n",
      "    18     30  395.692    0.0 354.5583 436.8258   True\n",
      "    19     20   23.744 0.9357 -23.8577  71.3457  False\n",
      "    19     21  56.6626 0.0072   7.8788 105.4465   True\n",
      "    19     22  83.7166    0.0  34.5201 132.9131   True\n",
      "    19     23 148.9909    0.0 103.1278  194.854   True\n",
      "    19     24 158.5986    0.0 119.2565 197.9407   True\n",
      "    19     25  201.602    0.0 159.4637 243.7403   True\n",
      "    19     26 209.1705    0.0 164.3532 253.9878   True\n",
      "    19     27 246.0526    0.0 200.7956 291.3096   True\n",
      "    19     28  343.603    0.0 307.0077 380.1983   True\n",
      "    19     29 312.2319    0.0 266.7219  357.742   True\n",
      "    19     30 350.3497    0.0 307.4628 393.2365   True\n",
      "    20     21  32.9186 0.6745 -18.1568   83.994  False\n",
      "    20     22  59.9726 0.0069   8.5029 111.4423   True\n",
      "    20     23 125.2469    0.0  76.9534 173.5404   True\n",
      "    20     24 134.8546    0.0  92.7044 177.0048   True\n",
      "    20     25  177.858    0.0 133.0866 222.6294   True\n",
      "    20     26 185.4265    0.0  138.125  232.728   True\n",
      "    20     27 222.3086    0.0 174.5904 270.0268   True\n",
      "    20     28  319.859    0.0 280.2603 359.4576   True\n",
      "    20     29 288.4879    0.0 240.5297 336.4462   True\n",
      "    20     30 326.6057    0.0 281.1291 372.0822   True\n",
      "    21     22   27.054 0.9186  -25.511  79.6189  False\n",
      "    21     23  92.3283    0.0  42.8692 141.7874   True\n",
      "    21     24  101.936    0.0  58.4551 145.4168   True\n",
      "    21     25 144.9394    0.0  98.9131 190.9657   True\n",
      "    21     26 152.5079    0.0 104.0169 200.9988   True\n",
      "    21     27   189.39    0.0 140.4924 238.2875   True\n",
      "    21     28 286.9403    0.0 245.9282 327.9525   True\n",
      "    21     29 255.5693    0.0 206.4374 304.7012   True\n",
      "    21     30  293.687    0.0 246.9745 340.3995   True\n",
      "    22     23  65.2743 0.0009  15.4081 115.1405   True\n",
      "    22     24   74.882    0.0  30.9386 118.8253   True\n",
      "    22     25 117.8854    0.0  71.4219 164.3489   True\n",
      "    22     26 125.4539    0.0  76.5478   174.36   True\n",
      "    22     27  162.336    0.0 113.0267 211.6453   True\n",
      "    22     28 259.8864    0.0 218.3842 301.3885   True\n",
      "    22     29 228.5153    0.0 178.9737  278.057   True\n",
      "    22     30 266.6331    0.0 219.4897 313.7764   True\n",
      "    23     24   9.6077    1.0 -30.5687  49.7841  False\n",
      "    23     25  52.6111  0.003   9.6928  95.5294   True\n",
      "    23     26  60.1796 0.0007  14.6281  105.731   True\n",
      "    23     27  97.0617    0.0  51.0776 143.0458   True\n",
      "    23     28 194.6121    0.0 157.1213 232.1028   True\n",
      "    23     29  163.241    0.0 117.0079 209.4742   True\n",
      "    23     30 201.3588    0.0 157.7053 245.0122   True\n",
      "    24     25  43.0034 0.0043   7.1376  78.8693   True\n",
      "    24     26  50.5719  0.001  11.5935  89.5503   True\n",
      "    24     27   87.454    0.0  47.9709 126.9371   True\n",
      "    24     28 185.0044    0.0 155.8507  214.158   True\n",
      "    24     29 153.6333    0.0 113.8605 193.4062   True\n",
      "    24     30 191.7511    0.0 155.0087 228.4934   True\n",
      "    25     26   7.5685    1.0 -34.2304  49.3674  False\n",
      "    25     27  44.4506 0.0281   2.1806  86.7206   True\n",
      "    25     28  142.001    0.0 109.1715 174.8304   True\n",
      "    25     29 110.6299    0.0  68.0892 153.1707   True\n",
      "    25     30 148.7477    0.0 109.0257 188.4696   True\n",
      "    26     27  36.8821 0.2554   -8.059  81.8232  False\n",
      "    26     28 134.4325    0.0  98.2285 170.6364   True\n",
      "    26     29 103.0614    0.0  57.8655 148.2574   True\n",
      "    26     30 141.1792    0.0  98.6258 183.7325   True\n",
      "    27     28  97.5504    0.0  60.8036 134.2972   True\n",
      "    27     29  66.1793 0.0001  20.5474 111.8113   True\n",
      "    27     30 104.2971    0.0  61.2809 147.3133   True\n",
      "    28     29  -31.371 0.2096  -68.429   5.6869  False\n",
      "    28     30   6.7467    1.0 -27.0381  40.5315  False\n",
      "    29     30  38.1177 0.1583  -5.1646     81.4  False\n",
      "------------------------------------------------------\n"
     ]
    }
   ],
   "source": [
    "tukey = pairwise_tukeyhsd(endog=dfa[\"production\"], groups=(dfa[\"age\"]), alpha=0.05)\n",
    "print(tukey)"
   ]
  },
  {
   "cell_type": "markdown",
   "id": "b365c57b",
   "metadata": {},
   "source": [
    "- **Sex*Age:** However, we know that genders are not equally distributed across all age groups, so the effects found for sex might be driven by age differences and/or vice-versa. **Optional:** run a post-hoc on the interaction term as well just to check, but the large amount of levels of **`age`** make this tedious."
   ]
  },
  {
   "cell_type": "code",
   "execution_count": 13,
   "id": "31aafec0",
   "metadata": {
    "scrolled": true
   },
   "outputs": [],
   "source": [
    "#dfa[\"interaction\"] = dfa[\"age\"].astype(str) + '_' + dfa[\"sex\"].astype(str)\n",
    "#tukey = pairwise_tukeyhsd(endog=dfa[\"production\"], groups=dfa[\"interaction\"], alpha=0.05)\n",
    "#print(tukey)"
   ]
  },
  {
   "cell_type": "markdown",
   "id": "2d4c9bb6",
   "metadata": {},
   "source": [
    "**Conclusion:** We ultimately decide to group **`age`** into 5 groups, each spanning an interval of 3 months. Working with 15 different levels is not feasible, and the differences that 1 to 2 months make are not meaningful enough to justify keeping our data overly complicated and having very small sample sizes for certain **`age`** x **`sex`** combinations (i.e. n = 70 for 16-month-olds of either sex)."
   ]
  },
  {
   "cell_type": "code",
   "execution_count": 14,
   "id": "9927ac6b",
   "metadata": {},
   "outputs": [],
   "source": [
    "agebins = [16, 19, 22, 25, 28, 31]\n",
    "agelabels = [\"1\", \"2\", \"3\", \"4\", \"5\"]\n",
    "df[\"ageg\"] = pd.cut(df[\"age\"], bins=agebins, labels=agelabels, right=False)"
   ]
  },
  {
   "cell_type": "markdown",
   "id": "e978601e",
   "metadata": {},
   "source": [
    "## Regrouped data"
   ]
  },
  {
   "cell_type": "markdown",
   "id": "02fb0c0c",
   "metadata": {},
   "source": [
    "This is what our data looks like now. Each group has at least n = 343 (instead of 70):"
   ]
  },
  {
   "cell_type": "code",
   "execution_count": 15,
   "id": "0762b2d8",
   "metadata": {},
   "outputs": [
    {
     "data": {
      "text/plain": [
       "ageg  sex   \n",
       "1     Female    345\n",
       "      Male      343\n",
       "2     Female    358\n",
       "      Male      355\n",
       "3     Female    478\n",
       "      Male      520\n",
       "4     Female    456\n",
       "      Male      479\n",
       "5     Female    692\n",
       "      Male      805\n",
       "Name: child_id, dtype: int64"
      ]
     },
     "execution_count": 15,
     "metadata": {},
     "output_type": "execute_result"
    }
   ],
   "source": [
    "df.groupby([\"ageg\", \"sex\"])[\"child_id\"].nunique()"
   ]
  },
  {
   "cell_type": "markdown",
   "id": "8348bd0c",
   "metadata": {},
   "source": [
    "**Mean number of items able to speak by age group and sex**:"
   ]
  },
  {
   "cell_type": "code",
   "execution_count": 16,
   "id": "adb99a6b",
   "metadata": {},
   "outputs": [
    {
     "name": "stderr",
     "output_type": "stream",
     "text": [
      "/var/folders/2t/bxnv0_3d77b_2_myz6gmdr5m0000gn/T/ipykernel_24675/1703845227.py:4: FutureWarning: \n",
      "\n",
      "The `ci` parameter is deprecated. Use `errorbar=None` for the same effect.\n",
      "\n",
      "  sns.barplot(data=dfpl, x='ageg', y='production', hue='sex', ci=None, palette={'Male': 'b', 'Female': 'r'})\n"
     ]
    },
    {
     "data": {
      "image/png": "[encoded data removed]",
      "text/plain": [
       "<Figure size 900x300 with 2 Axes>"
      ]
     },
     "metadata": {},
     "output_type": "display_data"
    }
   ],
   "source": [
    "dfpl = df.groupby([\"ageg\", \"sex\"])[\"production\"].mean().round().reset_index()\n",
    "plt.figure(figsize=(9, 3))\n",
    "plt.subplot(1, 2, 1)\n",
    "sns.barplot(data=dfpl, x='ageg', y='production', hue='sex', ci=None, palette={'Male': 'b', 'Female': 'r'})\n",
    "plt.xlabel(\"Age\")\n",
    "plt.ylabel(\"Mean Production\")\n",
    "plt.title(\"Mean Production by Age Group\")\n",
    "\n",
    "plt.subplot(1, 2, 2)\n",
    "plt.axis('off')  # Turn off axis\n",
    "plt.table(cellText=dfpl.values, colLabels=dfpl.columns, cellLoc='center', loc='center')\n",
    "plt.show()"
   ]
  },
  {
   "cell_type": "markdown",
   "id": "7eb95cd5",
   "metadata": {},
   "source": [
    "By regrouping age into 3-month intervals, the differences in total vocabulary size by age are made more meaningful and distinct. For each `age group`, the mean for male children is lower than that of the female children."
   ]
  },
  {
   "cell_type": "markdown",
   "id": "690095c4",
   "metadata": {},
   "source": [
    "## **Categories**"
   ]
  },
  {
   "cell_type": "markdown",
   "id": "2e5b1986",
   "metadata": {},
   "source": [
    "Each of our 680 items has been assigned to a **`category`**. In total, there are 22 word categories. The number of items in each category ranges from 6 to 103.\n",
    "\n",
    "Our idea is for our application to assess the user's (i.e., child's) current vocabulary as best as possible, and to then leverage this information to tailor recommendations to our user. Not all 680 items will be able to be included in the assessment, so we need a logic to determine how we select assessment words. For one, it is clear that certain words will not be appropriate assessment words for certain age groups (i.e. `baa baa` for a 30-month-old, or `refrigerator` for a 16-month-old), so the chosen words should differ depending on the user's given age.\n",
    "\n",
    "**But:** Should we do the same for sex?\n",
    "\n",
    "The analyses conducted above have shown that female children tend to have overall larger vocabularies than male ones, but they have not provided clarity on how the *quality* i.e. **`category`** of words differ between sex.\n",
    "\n",
    "Idea: Investigate the top 5 word categories by **`sex`** and also **`ageg`** (age group)."
   ]
  },
  {
   "cell_type": "markdown",
   "id": "d946da40",
   "metadata": {},
   "source": [
    "Calculate the average percentage of words that children are able to produce by **`category`**, **`ageg`** and **`sex`**."
   ]
  },
  {
   "cell_type": "code",
   "execution_count": 17,
   "id": "1958dafe",
   "metadata": {},
   "outputs": [],
   "source": [
    "dftest = df.groupby([\"ageg\", \"category\", \"sex\"])[\"value\"].mean().reset_index()\n",
    "dftest[\"value\"] = dftest[\"value\"]*100"
   ]
  },
  {
   "cell_type": "markdown",
   "id": "dbae0ce3",
   "metadata": {},
   "source": [
    "Find the 5 categories with the largest percentages for each **`ageg`** x **`sex`** combination."
   ]
  },
  {
   "cell_type": "code",
   "execution_count": 18,
   "id": "f76bf21f",
   "metadata": {},
   "outputs": [
    {
     "data": {
      "text/html": [
       "<div>\n",
       "<style scoped>\n",
       "    .dataframe tbody tr th:only-of-type {\n",
       "        vertical-align: middle;\n",
       "    }\n",
       "\n",
       "    .dataframe tbody tr th {\n",
       "        vertical-align: top;\n",
       "    }\n",
       "\n",
       "    .dataframe thead th {\n",
       "        text-align: right;\n",
       "    }\n",
       "</style>\n",
       "<table border=\"1\" class=\"dataframe\">\n",
       "  <thead>\n",
       "    <tr style=\"text-align: right;\">\n",
       "      <th></th>\n",
       "      <th>ageg</th>\n",
       "      <th>sex</th>\n",
       "      <th>value</th>\n",
       "      <th>category</th>\n",
       "    </tr>\n",
       "  </thead>\n",
       "  <tbody>\n",
       "    <tr>\n",
       "      <th>0</th>\n",
       "      <td>1</td>\n",
       "      <td>Female</td>\n",
       "      <td>50.676329</td>\n",
       "      <td>sounds</td>\n",
       "    </tr>\n",
       "    <tr>\n",
       "      <th>1</th>\n",
       "      <td>1</td>\n",
       "      <td>Female</td>\n",
       "      <td>30.388406</td>\n",
       "      <td>games_routines</td>\n",
       "    </tr>\n",
       "    <tr>\n",
       "      <th>2</th>\n",
       "      <td>1</td>\n",
       "      <td>Female</td>\n",
       "      <td>22.769726</td>\n",
       "      <td>body_parts</td>\n",
       "    </tr>\n",
       "    <tr>\n",
       "      <th>3</th>\n",
       "      <td>1</td>\n",
       "      <td>Female</td>\n",
       "      <td>21.755233</td>\n",
       "      <td>toys</td>\n",
       "    </tr>\n",
       "    <tr>\n",
       "      <th>4</th>\n",
       "      <td>1</td>\n",
       "      <td>Female</td>\n",
       "      <td>19.870065</td>\n",
       "      <td>people</td>\n",
       "    </tr>\n",
       "    <tr>\n",
       "      <th>5</th>\n",
       "      <td>1</td>\n",
       "      <td>Male</td>\n",
       "      <td>45.796890</td>\n",
       "      <td>sounds</td>\n",
       "    </tr>\n",
       "    <tr>\n",
       "      <th>6</th>\n",
       "      <td>1</td>\n",
       "      <td>Male</td>\n",
       "      <td>24.991254</td>\n",
       "      <td>games_routines</td>\n",
       "    </tr>\n",
       "    <tr>\n",
       "      <th>7</th>\n",
       "      <td>1</td>\n",
       "      <td>Male</td>\n",
       "      <td>17.284465</td>\n",
       "      <td>vehicles</td>\n",
       "    </tr>\n",
       "    <tr>\n",
       "      <th>8</th>\n",
       "      <td>1</td>\n",
       "      <td>Male</td>\n",
       "      <td>16.929728</td>\n",
       "      <td>people</td>\n",
       "    </tr>\n",
       "    <tr>\n",
       "      <th>9</th>\n",
       "      <td>1</td>\n",
       "      <td>Male</td>\n",
       "      <td>16.909621</td>\n",
       "      <td>toys</td>\n",
       "    </tr>\n",
       "    <tr>\n",
       "      <th>10</th>\n",
       "      <td>2</td>\n",
       "      <td>Female</td>\n",
       "      <td>64.618250</td>\n",
       "      <td>sounds</td>\n",
       "    </tr>\n",
       "    <tr>\n",
       "      <th>11</th>\n",
       "      <td>2</td>\n",
       "      <td>Female</td>\n",
       "      <td>46.569832</td>\n",
       "      <td>games_routines</td>\n",
       "    </tr>\n",
       "    <tr>\n",
       "      <th>12</th>\n",
       "      <td>2</td>\n",
       "      <td>Female</td>\n",
       "      <td>43.130561</td>\n",
       "      <td>body_parts</td>\n",
       "    </tr>\n",
       "    <tr>\n",
       "      <th>13</th>\n",
       "      <td>2</td>\n",
       "      <td>Female</td>\n",
       "      <td>37.802607</td>\n",
       "      <td>toys</td>\n",
       "    </tr>\n",
       "    <tr>\n",
       "      <th>14</th>\n",
       "      <td>2</td>\n",
       "      <td>Female</td>\n",
       "      <td>35.780174</td>\n",
       "      <td>animals</td>\n",
       "    </tr>\n",
       "    <tr>\n",
       "      <th>15</th>\n",
       "      <td>2</td>\n",
       "      <td>Male</td>\n",
       "      <td>59.906103</td>\n",
       "      <td>sounds</td>\n",
       "    </tr>\n",
       "    <tr>\n",
       "      <th>16</th>\n",
       "      <td>2</td>\n",
       "      <td>Male</td>\n",
       "      <td>37.656338</td>\n",
       "      <td>games_routines</td>\n",
       "    </tr>\n",
       "    <tr>\n",
       "      <th>17</th>\n",
       "      <td>2</td>\n",
       "      <td>Male</td>\n",
       "      <td>33.583725</td>\n",
       "      <td>body_parts</td>\n",
       "    </tr>\n",
       "    <tr>\n",
       "      <th>18</th>\n",
       "      <td>2</td>\n",
       "      <td>Male</td>\n",
       "      <td>32.414487</td>\n",
       "      <td>vehicles</td>\n",
       "    </tr>\n",
       "    <tr>\n",
       "      <th>19</th>\n",
       "      <td>2</td>\n",
       "      <td>Male</td>\n",
       "      <td>29.953052</td>\n",
       "      <td>toys</td>\n",
       "    </tr>\n",
       "    <tr>\n",
       "      <th>20</th>\n",
       "      <td>3</td>\n",
       "      <td>Female</td>\n",
       "      <td>75.505579</td>\n",
       "      <td>sounds</td>\n",
       "    </tr>\n",
       "    <tr>\n",
       "      <th>21</th>\n",
       "      <td>3</td>\n",
       "      <td>Female</td>\n",
       "      <td>64.218193</td>\n",
       "      <td>body_parts</td>\n",
       "    </tr>\n",
       "    <tr>\n",
       "      <th>22</th>\n",
       "      <td>3</td>\n",
       "      <td>Female</td>\n",
       "      <td>63.573222</td>\n",
       "      <td>games_routines</td>\n",
       "    </tr>\n",
       "    <tr>\n",
       "      <th>23</th>\n",
       "      <td>3</td>\n",
       "      <td>Female</td>\n",
       "      <td>54.617106</td>\n",
       "      <td>animals</td>\n",
       "    </tr>\n",
       "    <tr>\n",
       "      <th>24</th>\n",
       "      <td>3</td>\n",
       "      <td>Female</td>\n",
       "      <td>54.300325</td>\n",
       "      <td>toys</td>\n",
       "    </tr>\n",
       "    <tr>\n",
       "      <th>25</th>\n",
       "      <td>3</td>\n",
       "      <td>Male</td>\n",
       "      <td>74.391026</td>\n",
       "      <td>sounds</td>\n",
       "    </tr>\n",
       "    <tr>\n",
       "      <th>26</th>\n",
       "      <td>3</td>\n",
       "      <td>Male</td>\n",
       "      <td>57.592593</td>\n",
       "      <td>body_parts</td>\n",
       "    </tr>\n",
       "    <tr>\n",
       "      <th>27</th>\n",
       "      <td>3</td>\n",
       "      <td>Male</td>\n",
       "      <td>56.784615</td>\n",
       "      <td>games_routines</td>\n",
       "    </tr>\n",
       "    <tr>\n",
       "      <th>28</th>\n",
       "      <td>3</td>\n",
       "      <td>Male</td>\n",
       "      <td>56.318681</td>\n",
       "      <td>vehicles</td>\n",
       "    </tr>\n",
       "    <tr>\n",
       "      <th>29</th>\n",
       "      <td>3</td>\n",
       "      <td>Male</td>\n",
       "      <td>50.058140</td>\n",
       "      <td>animals</td>\n",
       "    </tr>\n",
       "    <tr>\n",
       "      <th>30</th>\n",
       "      <td>4</td>\n",
       "      <td>Female</td>\n",
       "      <td>81.652047</td>\n",
       "      <td>sounds</td>\n",
       "    </tr>\n",
       "    <tr>\n",
       "      <th>31</th>\n",
       "      <td>4</td>\n",
       "      <td>Female</td>\n",
       "      <td>75.464912</td>\n",
       "      <td>games_routines</td>\n",
       "    </tr>\n",
       "    <tr>\n",
       "      <th>32</th>\n",
       "      <td>4</td>\n",
       "      <td>Female</td>\n",
       "      <td>74.407083</td>\n",
       "      <td>body_parts</td>\n",
       "    </tr>\n",
       "    <tr>\n",
       "      <th>33</th>\n",
       "      <td>4</td>\n",
       "      <td>Female</td>\n",
       "      <td>67.750975</td>\n",
       "      <td>toys</td>\n",
       "    </tr>\n",
       "    <tr>\n",
       "      <th>34</th>\n",
       "      <td>4</td>\n",
       "      <td>Female</td>\n",
       "      <td>67.650959</td>\n",
       "      <td>animals</td>\n",
       "    </tr>\n",
       "    <tr>\n",
       "      <th>35</th>\n",
       "      <td>4</td>\n",
       "      <td>Male</td>\n",
       "      <td>77.696590</td>\n",
       "      <td>sounds</td>\n",
       "    </tr>\n",
       "    <tr>\n",
       "      <th>36</th>\n",
       "      <td>4</td>\n",
       "      <td>Male</td>\n",
       "      <td>65.244259</td>\n",
       "      <td>games_routines</td>\n",
       "    </tr>\n",
       "    <tr>\n",
       "      <th>37</th>\n",
       "      <td>4</td>\n",
       "      <td>Male</td>\n",
       "      <td>63.736179</td>\n",
       "      <td>body_parts</td>\n",
       "    </tr>\n",
       "    <tr>\n",
       "      <th>38</th>\n",
       "      <td>4</td>\n",
       "      <td>Male</td>\n",
       "      <td>62.958545</td>\n",
       "      <td>vehicles</td>\n",
       "    </tr>\n",
       "    <tr>\n",
       "      <th>39</th>\n",
       "      <td>4</td>\n",
       "      <td>Male</td>\n",
       "      <td>55.706333</td>\n",
       "      <td>toys</td>\n",
       "    </tr>\n",
       "    <tr>\n",
       "      <th>40</th>\n",
       "      <td>5</td>\n",
       "      <td>Female</td>\n",
       "      <td>88.668112</td>\n",
       "      <td>sounds</td>\n",
       "    </tr>\n",
       "    <tr>\n",
       "      <th>41</th>\n",
       "      <td>5</td>\n",
       "      <td>Female</td>\n",
       "      <td>86.389424</td>\n",
       "      <td>body_parts</td>\n",
       "    </tr>\n",
       "    <tr>\n",
       "      <th>42</th>\n",
       "      <td>5</td>\n",
       "      <td>Female</td>\n",
       "      <td>86.057803</td>\n",
       "      <td>games_routines</td>\n",
       "    </tr>\n",
       "    <tr>\n",
       "      <th>43</th>\n",
       "      <td>5</td>\n",
       "      <td>Female</td>\n",
       "      <td>82.699101</td>\n",
       "      <td>toys</td>\n",
       "    </tr>\n",
       "    <tr>\n",
       "      <th>44</th>\n",
       "      <td>5</td>\n",
       "      <td>Female</td>\n",
       "      <td>80.232558</td>\n",
       "      <td>animals</td>\n",
       "    </tr>\n",
       "    <tr>\n",
       "      <th>45</th>\n",
       "      <td>5</td>\n",
       "      <td>Male</td>\n",
       "      <td>87.774327</td>\n",
       "      <td>sounds</td>\n",
       "    </tr>\n",
       "    <tr>\n",
       "      <th>46</th>\n",
       "      <td>5</td>\n",
       "      <td>Male</td>\n",
       "      <td>80.570508</td>\n",
       "      <td>body_parts</td>\n",
       "    </tr>\n",
       "    <tr>\n",
       "      <th>47</th>\n",
       "      <td>5</td>\n",
       "      <td>Male</td>\n",
       "      <td>80.009938</td>\n",
       "      <td>games_routines</td>\n",
       "    </tr>\n",
       "    <tr>\n",
       "      <th>48</th>\n",
       "      <td>5</td>\n",
       "      <td>Male</td>\n",
       "      <td>79.884650</td>\n",
       "      <td>vehicles</td>\n",
       "    </tr>\n",
       "    <tr>\n",
       "      <th>49</th>\n",
       "      <td>5</td>\n",
       "      <td>Male</td>\n",
       "      <td>75.258799</td>\n",
       "      <td>toys</td>\n",
       "    </tr>\n",
       "  </tbody>\n",
       "</table>\n",
       "</div>"
      ],
      "text/plain": [
       "   ageg     sex      value        category\n",
       "0     1  Female  50.676329          sounds\n",
       "1     1  Female  30.388406  games_routines\n",
       "2     1  Female  22.769726      body_parts\n",
       "3     1  Female  21.755233            toys\n",
       "4     1  Female  19.870065          people\n",
       "5     1    Male  45.796890          sounds\n",
       "6     1    Male  24.991254  games_routines\n",
       "7     1    Male  17.284465        vehicles\n",
       "8     1    Male  16.929728          people\n",
       "9     1    Male  16.909621            toys\n",
       "10    2  Female  64.618250          sounds\n",
       "11    2  Female  46.569832  games_routines\n",
       "12    2  Female  43.130561      body_parts\n",
       "13    2  Female  37.802607            toys\n",
       "14    2  Female  35.780174         animals\n",
       "15    2    Male  59.906103          sounds\n",
       "16    2    Male  37.656338  games_routines\n",
       "17    2    Male  33.583725      body_parts\n",
       "18    2    Male  32.414487        vehicles\n",
       "19    2    Male  29.953052            toys\n",
       "20    3  Female  75.505579          sounds\n",
       "21    3  Female  64.218193      body_parts\n",
       "22    3  Female  63.573222  games_routines\n",
       "23    3  Female  54.617106         animals\n",
       "24    3  Female  54.300325            toys\n",
       "25    3    Male  74.391026          sounds\n",
       "26    3    Male  57.592593      body_parts\n",
       "27    3    Male  56.784615  games_routines\n",
       "28    3    Male  56.318681        vehicles\n",
       "29    3    Male  50.058140         animals\n",
       "30    4  Female  81.652047          sounds\n",
       "31    4  Female  75.464912  games_routines\n",
       "32    4  Female  74.407083      body_parts\n",
       "33    4  Female  67.750975            toys\n",
       "34    4  Female  67.650959         animals\n",
       "35    4    Male  77.696590          sounds\n",
       "36    4    Male  65.244259  games_routines\n",
       "37    4    Male  63.736179      body_parts\n",
       "38    4    Male  62.958545        vehicles\n",
       "39    4    Male  55.706333            toys\n",
       "40    5  Female  88.668112          sounds\n",
       "41    5  Female  86.389424      body_parts\n",
       "42    5  Female  86.057803  games_routines\n",
       "43    5  Female  82.699101            toys\n",
       "44    5  Female  80.232558         animals\n",
       "45    5    Male  87.774327          sounds\n",
       "46    5    Male  80.570508      body_parts\n",
       "47    5    Male  80.009938  games_routines\n",
       "48    5    Male  79.884650        vehicles\n",
       "49    5    Male  75.258799            toys"
      ]
     },
     "execution_count": 18,
     "metadata": {},
     "output_type": "execute_result"
    }
   ],
   "source": [
    "dftry = dftest.groupby([\"ageg\", \"sex\"])[\"value\"].nlargest().reset_index()\n",
    "dftry = dftry.drop(columns = [\"level_2\"])\n",
    "result_df = pd.merge(dftry, dftest, on=[\"ageg\", \"sex\", \"value\"], how=\"inner\")\n",
    "result_df"
   ]
  },
  {
   "cell_type": "markdown",
   "id": "9100d658",
   "metadata": {},
   "source": [
    "Extra: Top items by **`ageg`** x **`sex`**"
   ]
  },
  {
   "cell_type": "code",
   "execution_count": 27,
   "id": "624b4a45",
   "metadata": {
    "scrolled": true
   },
   "outputs": [
    {
     "data": {
      "text/html": [
       "<div>\n",
       "<style scoped>\n",
       "    .dataframe tbody tr th:only-of-type {\n",
       "        vertical-align: middle;\n",
       "    }\n",
       "\n",
       "    .dataframe tbody tr th {\n",
       "        vertical-align: top;\n",
       "    }\n",
       "\n",
       "    .dataframe thead th {\n",
       "        text-align: right;\n",
       "    }\n",
       "</style>\n",
       "<table border=\"1\" class=\"dataframe\">\n",
       "  <thead>\n",
       "    <tr style=\"text-align: right;\">\n",
       "      <th></th>\n",
       "      <th>ageg</th>\n",
       "      <th>sex</th>\n",
       "      <th>value</th>\n",
       "      <th>item_definition</th>\n",
       "    </tr>\n",
       "  </thead>\n",
       "  <tbody>\n",
       "    <tr>\n",
       "      <th>0</th>\n",
       "      <td>1</td>\n",
       "      <td>Female</td>\n",
       "      <td>94.202899</td>\n",
       "      <td>daddy*</td>\n",
       "    </tr>\n",
       "    <tr>\n",
       "      <th>1</th>\n",
       "      <td>1</td>\n",
       "      <td>Female</td>\n",
       "      <td>93.623188</td>\n",
       "      <td>mommy*</td>\n",
       "    </tr>\n",
       "    <tr>\n",
       "      <th>2</th>\n",
       "      <td>1</td>\n",
       "      <td>Female</td>\n",
       "      <td>83.478261</td>\n",
       "      <td>ball</td>\n",
       "    </tr>\n",
       "    <tr>\n",
       "      <th>3</th>\n",
       "      <td>1</td>\n",
       "      <td>Female</td>\n",
       "      <td>83.188406</td>\n",
       "      <td>bye</td>\n",
       "    </tr>\n",
       "    <tr>\n",
       "      <th>4</th>\n",
       "      <td>1</td>\n",
       "      <td>Female</td>\n",
       "      <td>80.579710</td>\n",
       "      <td>hi</td>\n",
       "    </tr>\n",
       "    <tr>\n",
       "      <th>5</th>\n",
       "      <td>1</td>\n",
       "      <td>Male</td>\n",
       "      <td>92.128280</td>\n",
       "      <td>mommy*</td>\n",
       "    </tr>\n",
       "    <tr>\n",
       "      <th>6</th>\n",
       "      <td>1</td>\n",
       "      <td>Male</td>\n",
       "      <td>89.795918</td>\n",
       "      <td>daddy*</td>\n",
       "    </tr>\n",
       "    <tr>\n",
       "      <th>7</th>\n",
       "      <td>1</td>\n",
       "      <td>Male</td>\n",
       "      <td>76.676385</td>\n",
       "      <td>ball</td>\n",
       "    </tr>\n",
       "    <tr>\n",
       "      <th>8</th>\n",
       "      <td>1</td>\n",
       "      <td>Male</td>\n",
       "      <td>74.635569</td>\n",
       "      <td>uh oh</td>\n",
       "    </tr>\n",
       "    <tr>\n",
       "      <th>9</th>\n",
       "      <td>1</td>\n",
       "      <td>Male</td>\n",
       "      <td>73.177843</td>\n",
       "      <td>bye</td>\n",
       "    </tr>\n",
       "  </tbody>\n",
       "</table>\n",
       "</div>"
      ],
      "text/plain": [
       "  ageg     sex      value item_definition\n",
       "0    1  Female  94.202899          daddy*\n",
       "1    1  Female  93.623188          mommy*\n",
       "2    1  Female  83.478261            ball\n",
       "3    1  Female  83.188406             bye\n",
       "4    1  Female  80.579710              hi\n",
       "5    1    Male  92.128280          mommy*\n",
       "6    1    Male  89.795918          daddy*\n",
       "7    1    Male  76.676385            ball\n",
       "8    1    Male  74.635569           uh oh\n",
       "9    1    Male  73.177843             bye"
      ]
     },
     "execution_count": 27,
     "metadata": {},
     "output_type": "execute_result"
    }
   ],
   "source": [
    "dftest2 = df.groupby([\"ageg\", \"item_definition\", \"sex\"])[\"value\"].mean().reset_index()\n",
    "dftest2[\"value\"] = dftest2[\"value\"]*100\n",
    "dftry = dftest2.groupby([\"ageg\", \"sex\"])[\"value\"].nlargest().reset_index()\n",
    "dftry = dftry.drop(columns = [\"level_2\"])\n",
    "result_df = pd.merge(dftry, dftest2, on=[\"ageg\", \"sex\", \"value\"], how=\"inner\")\n",
    "result_df.head(10)"
   ]
  },
  {
   "cell_type": "markdown",
   "id": "b34b501a",
   "metadata": {},
   "source": [
    "**Summary:**\n",
    "\n",
    "- `Sounds` is the top mastered category regardless of age group and sex\n",
    "- `Mommy` and `daddy` are always the top 2 mastered words for every possible group\n",
    "- Female children have higher percentages than age-matched male counterpants for shared categories\n",
    "- Female children have larger vocabularies than males\n",
    "- Female and male children differ slightly in which categories of words they prioritize (e.g. vehicles for males, body parts/animals for females), but this observation is heavily dependent on age as well. But their respective vocabularies are probably also distinct in their *quality* in addition to quantity."
   ]
  },
  {
   "cell_type": "markdown",
   "id": "59cecf07",
   "metadata": {},
   "source": [
    "There are still other parameters concerning the assessment questionnaire that have to be decided on, so no items will be selected yet. "
   ]
  },
  {
   "cell_type": "markdown",
   "id": "4fd62334",
   "metadata": {},
   "source": [
    "Save new **`df`** with recoded age information."
   ]
  },
  {
   "cell_type": "code",
   "execution_count": 22,
   "id": "3b00edf2",
   "metadata": {},
   "outputs": [],
   "source": [
    "df.to_parquet(\"wbmasterf.parquet\")"
   ]
  },
  {
   "cell_type": "markdown",
   "id": "fa3a191d",
   "metadata": {},
   "source": [
    "***"
   ]
  },
  {
   "cell_type": "markdown",
   "id": "7b10bd91",
   "metadata": {},
   "source": [
    "**Extra, data viz*"
   ]
  },
  {
   "cell_type": "markdown",
   "id": "86e0dea9",
   "metadata": {},
   "source": [
    "- 100% stacked bar chart, proportions of total vocab occupied by each category (keep in mind not all categories have same # of items)"
   ]
  },
  {
   "cell_type": "code",
   "execution_count": 35,
   "id": "ddb433e5",
   "metadata": {},
   "outputs": [
    {
     "data": {
      "text/plain": [
       "<Figure size 1000x600 with 0 Axes>"
      ]
     },
     "metadata": {},
     "output_type": "display_data"
    },
    {
     "data": {
      "image/png": "[encoded data removed]",
      "text/plain": [
       "<Figure size 640x480 with 1 Axes>"
      ]
     },
     "metadata": {},
     "output_type": "display_data"
    }
   ],
   "source": [
    "#check this again!\n",
    "plt.figure(figsize=(10, 6))\n",
    "pd.crosstab([dftest[\"ageg\"], dftest[\"sex\"]], dftest[\"category\"], values=dftest[\"value\"],  aggfunc=\"sum\", normalize=\"index\").plot(kind=\"bar\", stacked=True)\n",
    "plt.xlabel(\"Age group and Sex\")\n",
    "plt.ylabel(\"Percentage\")\n",
    "plt.title(\"A 100% Stacked Bar Chart\")\n",
    "plt.legend(title='Category', bbox_to_anchor=(1.05, 1), loc='upper left')\n",
    "\n",
    "plt.show()"
   ]
  },
  {
   "cell_type": "markdown",
   "id": "3a49083b",
   "metadata": {},
   "source": [
    "- Faceted bar plot"
   ]
  },
  {
   "cell_type": "code",
   "execution_count": 29,
   "id": "fdebb778",
   "metadata": {},
   "outputs": [],
   "source": [
    "nmean = df.groupby([\"ageg\", \"category\"])[\"value\"].mean()\n",
    "#reformat\n",
    "nmean = nmean.reset_index()\n",
    "nmean.rename(columns = {0:\"value\"}, inplace = True)"
   ]
  },
  {
   "cell_type": "code",
   "execution_count": 30,
   "id": "f19314c0",
   "metadata": {},
   "outputs": [
    {
     "name": "stderr",
     "output_type": "stream",
     "text": [
      "/Users/sonia/anaconda3/lib/python3.10/site-packages/seaborn/axisgrid.py:712: UserWarning: Using the barplot function without specifying `order` is likely to produce an incorrect plot.\n",
      "  warnings.warn(warning)\n"
     ]
    },
    {
     "data": {
      "image/png": "[encoded data removed]",
      "text/plain": [
       "<Figure size 900x600 with 5 Axes>"
      ]
     },
     "metadata": {},
     "output_type": "display_data"
    }
   ],
   "source": [
    "g = sns.FacetGrid(nmean, col=\"ageg\", col_wrap=3, height=3)\n",
    "g.map(sns.barplot, \"category\", \"value\", palette=\"Set1\")\n",
    "\n",
    "g.set_axis_labels(\"Category\", \"Value\")\n",
    "g.set_titles(\"Age Group {col_name}\")\n",
    "\n",
    "plt.subplots_adjust(top=0.9)\n",
    "plt.xticks(rotation=90)\n",
    "\n",
    "g.fig.suptitle(\"Histograms by Age Group\")\n",
    "\n",
    "plt.show()"
   ]
  }
 ],
 "metadata": {
  "kernelspec": {
   "display_name": "Python 3 (ipykernel)",
   "language": "python",
   "name": "python3"
  },
  "language_info": {
   "codemirror_mode": {
    "name": "ipython",
    "version": 3
   },
   "file_extension": ".py",
   "mimetype": "text/x-python",
   "name": "python",
   "nbconvert_exporter": "python",
   "pygments_lexer": "ipython3",
   "version": "3.10.9"
  }
 },
 "nbformat": 4,
 "nbformat_minor": 5
}
