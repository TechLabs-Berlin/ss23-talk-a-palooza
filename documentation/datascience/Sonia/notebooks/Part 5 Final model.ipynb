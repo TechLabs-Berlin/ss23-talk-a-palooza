{
 "cells": [
  {
   "cell_type": "markdown",
   "id": "e97f03e0",
   "metadata": {},
   "source": [
    "## Part 5: Final model"
   ]
  },
  {
   "cell_type": "code",
   "execution_count": 1,
   "id": "7274138f",
   "metadata": {},
   "outputs": [],
   "source": [
    "import pandas as pd\n",
    "import numpy as np\n",
    "import matplotlib.pyplot as plt\n",
    "import statsmodels.api as sm\n",
    "import scipy.spatial\n",
    "from statsmodels.formula.api import ols\n",
    "import json\n",
    "from sklearn.neighbors import NearestNeighbors\n",
    "from scipy.spatial.distance import hamming, pdist, squareform\n",
    "from sklearn.metrics import jaccard_score"
   ]
  },
  {
   "cell_type": "code",
   "execution_count": 2,
   "id": "ba6e221d",
   "metadata": {},
   "outputs": [],
   "source": [
    "df = pd.read_csv(\"wbmaster.csv\")"
   ]
  },
  {
   "cell_type": "code",
   "execution_count": 3,
   "id": "39dad190",
   "metadata": {},
   "outputs": [],
   "source": [
    "df2 = pd.read_csv(\"checkdat.csv\")"
   ]
  },
  {
   "cell_type": "markdown",
   "id": "d1928afe",
   "metadata": {},
   "source": [
    "**Collaborative filtering**\n",
    "\n",
    "This is the final CF model. \n",
    "\n",
    "- No segmentation of the user-item/item-user matrix.\n",
    "- Only 6 words will be recommended (ranked by highest similarities, no unique/dissimilar words will be featured)\n",
    "- Only words for which audio data/images are available will be recommended\n",
    "- Adjustion of weights. The weighting of the user has been bumped up by .1"
   ]
  },
  {
   "cell_type": "markdown",
   "id": "518257d8",
   "metadata": {},
   "source": [
    "The mock json file has information on which words are exercise appropriate (they are noted as \"is_audio\")."
   ]
  },
  {
   "cell_type": "code",
   "execution_count": 5,
   "id": "fe8fcf20",
   "metadata": {},
   "outputs": [],
   "source": [
    "with open('output1.json', 'r') as file:\n",
    "    ilegend = json.load(file)"
   ]
  },
  {
   "cell_type": "code",
   "execution_count": 6,
   "id": "a3899150",
   "metadata": {},
   "outputs": [],
   "source": [
    "words = [item[\"name\"] for item in ilegend if item[\"is_audio\"]]\n",
    "ids = []\n",
    "\n",
    "for word in words:\n",
    "    match = df2[df2[\"item_definition\"] == word]\n",
    "    ids.extend(match[\"item_id\"].tolist())\n",
    "\n",
    "ids = ([int(item.split('_')[1]) for item in ids])"
   ]
  },
  {
   "cell_type": "markdown",
   "id": "4f4dd554",
   "metadata": {},
   "source": [
    "**ids** is a list containing the ID's of all words that are exercise-appropriate. Only 236 items left, unfortunately."
   ]
  },
  {
   "cell_type": "markdown",
   "id": "bb098436",
   "metadata": {},
   "source": [
    "**1. User-based similarities**: Create user item matrix, adjust IDs to match python indices"
   ]
  },
  {
   "cell_type": "code",
   "execution_count": 7,
   "id": "d773888a",
   "metadata": {},
   "outputs": [],
   "source": [
    "user_item_matrix = df.pivot(index=\"child_id\", columns=\"item_id\", values=\"value\")\n",
    "itemsorted = sorted(user_item_matrix.columns, key=lambda x: int(x.split(\"_\")[1]))\n",
    "user_item_matrix = user_item_matrix[itemsorted]\n",
    "user_item_matrix.columns = [f\"item_{int(col.split('_')[1]) - 1}\" if col.startswith(\"item_\") else col for col in user_item_matrix.columns]"
   ]
  },
  {
   "cell_type": "markdown",
   "id": "da541590",
   "metadata": {},
   "source": [
    "**2. Item-based similarities:**\n",
    "Transpose user item matrix, calculate jaccard distance."
   ]
  },
  {
   "cell_type": "code",
   "execution_count": 12,
   "id": "d1934baf",
   "metadata": {},
   "outputs": [],
   "source": [
    "item_user_matrix = user_item_matrix.T\n",
    "itemsim = (scipy.spatial.distance.cdist(item_user_matrix.values, item_user_matrix.values, metric=\"jaccard\"))"
   ]
  },
  {
   "cell_type": "markdown",
   "id": "705668be",
   "metadata": {},
   "source": [
    "**3. Target user interaction history:** Input values given for the 40 assessment items - NAs/the other 640 items are filled with 0's"
   ]
  },
  {
   "cell_type": "code",
   "execution_count": 13,
   "id": "ad13d6f1",
   "metadata": {},
   "outputs": [],
   "source": [
    "test = df[df[\"child_id\"] == 1][\"value\"]\n",
    "test.index = test.index + 1\n",
    "interacted_items = test\n",
    "\n",
    "# It's impossible to include all 680 items for our assessment questionnaire, so by default\n",
    "# we assume that if we have no information on an item, then it has not been interacted with/\n",
    "# learned. Hence we start with zeros only.\n",
    "\n",
    "user_interactions = np.zeros(680)\n",
    "user_interactions[interacted_items == 1] = 1"
   ]
  },
  {
   "cell_type": "markdown",
   "id": "9ac35b4e",
   "metadata": {},
   "source": [
    "**4. Initialize the model:**"
   ]
  },
  {
   "cell_type": "code",
   "execution_count": 14,
   "id": "cfdb9b54",
   "metadata": {},
   "outputs": [
    {
     "data": {
      "text/html": [
       "<style>#sk-container-id-1 {color: black;}#sk-container-id-1 pre{padding: 0;}#sk-container-id-1 div.sk-toggleable {background-color: white;}#sk-container-id-1 label.sk-toggleable__label {cursor: pointer;display: block;width: 100%;margin-bottom: 0;padding: 0.3em;box-sizing: border-box;text-align: center;}#sk-container-id-1 label.sk-toggleable__label-arrow:before {content: \"▸\";float: left;margin-right: 0.25em;color: #696969;}#sk-container-id-1 label.sk-toggleable__label-arrow:hover:before {color: black;}#sk-container-id-1 div.sk-estimator:hover label.sk-toggleable__label-arrow:before {color: black;}#sk-container-id-1 div.sk-toggleable__content {max-height: 0;max-width: 0;overflow: hidden;text-align: left;background-color: #f0f8ff;}#sk-container-id-1 div.sk-toggleable__content pre {margin: 0.2em;color: black;border-radius: 0.25em;background-color: #f0f8ff;}#sk-container-id-1 input.sk-toggleable__control:checked~div.sk-toggleable__content {max-height: 200px;max-width: 100%;overflow: auto;}#sk-container-id-1 input.sk-toggleable__control:checked~label.sk-toggleable__label-arrow:before {content: \"▾\";}#sk-container-id-1 div.sk-estimator input.sk-toggleable__control:checked~label.sk-toggleable__label {background-color: #d4ebff;}#sk-container-id-1 div.sk-label input.sk-toggleable__control:checked~label.sk-toggleable__label {background-color: #d4ebff;}#sk-container-id-1 input.sk-hidden--visually {border: 0;clip: rect(1px 1px 1px 1px);clip: rect(1px, 1px, 1px, 1px);height: 1px;margin: -1px;overflow: hidden;padding: 0;position: absolute;width: 1px;}#sk-container-id-1 div.sk-estimator {font-family: monospace;background-color: #f0f8ff;border: 1px dotted black;border-radius: 0.25em;box-sizing: border-box;margin-bottom: 0.5em;}#sk-container-id-1 div.sk-estimator:hover {background-color: #d4ebff;}#sk-container-id-1 div.sk-parallel-item::after {content: \"\";width: 100%;border-bottom: 1px solid gray;flex-grow: 1;}#sk-container-id-1 div.sk-label:hover label.sk-toggleable__label {background-color: #d4ebff;}#sk-container-id-1 div.sk-serial::before {content: \"\";position: absolute;border-left: 1px solid gray;box-sizing: border-box;top: 0;bottom: 0;left: 50%;z-index: 0;}#sk-container-id-1 div.sk-serial {display: flex;flex-direction: column;align-items: center;background-color: white;padding-right: 0.2em;padding-left: 0.2em;position: relative;}#sk-container-id-1 div.sk-item {position: relative;z-index: 1;}#sk-container-id-1 div.sk-parallel {display: flex;align-items: stretch;justify-content: center;background-color: white;position: relative;}#sk-container-id-1 div.sk-item::before, #sk-container-id-1 div.sk-parallel-item::before {content: \"\";position: absolute;border-left: 1px solid gray;box-sizing: border-box;top: 0;bottom: 0;left: 50%;z-index: -1;}#sk-container-id-1 div.sk-parallel-item {display: flex;flex-direction: column;z-index: 1;position: relative;background-color: white;}#sk-container-id-1 div.sk-parallel-item:first-child::after {align-self: flex-end;width: 50%;}#sk-container-id-1 div.sk-parallel-item:last-child::after {align-self: flex-start;width: 50%;}#sk-container-id-1 div.sk-parallel-item:only-child::after {width: 0;}#sk-container-id-1 div.sk-dashed-wrapped {border: 1px dashed gray;margin: 0 0.4em 0.5em 0.4em;box-sizing: border-box;padding-bottom: 0.4em;background-color: white;}#sk-container-id-1 div.sk-label label {font-family: monospace;font-weight: bold;display: inline-block;line-height: 1.2em;}#sk-container-id-1 div.sk-label-container {text-align: center;}#sk-container-id-1 div.sk-container {/* jupyter's `normalize.less` sets `[hidden] { display: none; }` but bootstrap.min.css set `[hidden] { display: none !important; }` so we also need the `!important` here to be able to override the default hidden behavior on the sphinx rendered scikit-learn.org. See: https://github.com/scikit-learn/scikit-learn/issues/21755 */display: inline-block !important;position: relative;}#sk-container-id-1 div.sk-text-repr-fallback {display: none;}</style><div id=\"sk-container-id-1\" class=\"sk-top-container\"><div class=\"sk-text-repr-fallback\"><pre>NearestNeighbors(algorithm=&#x27;brute&#x27;, metric=&#x27;jaccard&#x27;, n_neighbors=2)</pre><b>In a Jupyter environment, please rerun this cell to show the HTML representation or trust the notebook. <br />On GitHub, the HTML representation is unable to render, please try loading this page with nbviewer.org.</b></div><div class=\"sk-container\" hidden><div class=\"sk-item\"><div class=\"sk-estimator sk-toggleable\"><input class=\"sk-toggleable__control sk-hidden--visually\" id=\"sk-estimator-id-1\" type=\"checkbox\" checked><label for=\"sk-estimator-id-1\" class=\"sk-toggleable__label sk-toggleable__label-arrow\">NearestNeighbors</label><div class=\"sk-toggleable__content\"><pre>NearestNeighbors(algorithm=&#x27;brute&#x27;, metric=&#x27;jaccard&#x27;, n_neighbors=2)</pre></div></div></div></div></div>"
      ],
      "text/plain": [
       "NearestNeighbors(algorithm='brute', metric='jaccard', n_neighbors=2)"
      ]
     },
     "execution_count": 14,
     "metadata": {},
     "output_type": "execute_result"
    }
   ],
   "source": [
    "# Initialize the nearest neighbors model\n",
    "knn = NearestNeighbors(n_neighbors=2, metric=\"jaccard\", algorithm=\"brute\")\n",
    "\n",
    "# Fit the model to your user-item interaction matrix\n",
    "knn.fit(user_item_matrix)"
   ]
  },
  {
   "cell_type": "code",
   "execution_count": 15,
   "id": "32d62cd3",
   "metadata": {},
   "outputs": [
    {
     "name": "stderr",
     "output_type": "stream",
     "text": [
      "/Users/sonia/anaconda3/lib/python3.10/site-packages/sklearn/base.py:464: UserWarning: X does not have valid feature names, but NearestNeighbors was fitted with feature names\n",
      "  warnings.warn(\n",
      "/Users/sonia/anaconda3/lib/python3.10/site-packages/sklearn/metrics/pairwise.py:2181: DataConversionWarning: Data was converted to boolean for metric jaccard\n",
      "  warnings.warn(msg, DataConversionWarning)\n"
     ]
    },
    {
     "name": "stdout",
     "output_type": "stream",
     "text": [
      "Final Recommendations (w/ Scores): [(436, 100.96033689355367), (640, 100.94260368631787), (674, 99.8765078895528), (678, 98.12249602459792), (672, 94.59222314626582), (677, 91.3845828827388), (599, 90.790575902231), (590, 88.63503349569186), (210, 88.11848172838852), (581, 87.03138106207327), (606, 86.71677220318885), (475, 86.05987044367238), (594, 85.44287828446743), (146, 85.04704509267196), (647, 84.92808738904316), (671, 84.06617333400919), (140, 83.48424791342926), (350, 83.38981423639984), (673, 82.8627383456341), (598, 82.69740866272384), (204, 81.58941783064749), (583, 81.2383966750311), (604, 81.1929691943959), (373, 81.13517977370252), (348, 80.55612989006052), (610, 80.29282486262584), (642, 80.2695702388507), (11, 80.12008864219513), (600, 79.93120895876324), (613, 79.84192458126574), (315, 79.20738377134374), (5, 79.0327247398992), (580, 78.64400896629267), (619, 78.4364516979211), (143, 78.4143309742943), (665, 77.70970889659208), (602, 77.30574958821136), (591, 77.27929692079361), (332, 76.53446054755823), (72, 76.49295949246729), (139, 75.33465612873246), (609, 75.27401017434009), (167, 75.19151847774543), (238, 75.11227440555008), (621, 74.83680927459658), (145, 74.21629678920165), (666, 74.09013277077347), (37, 74.05563973769449), (24, 73.51996414914224), (89, 73.49696745766462), (410, 73.462010825714), (52, 73.37359342873992), (17, 73.22966429676289), (158, 73.16415548121986), (176, 73.13528895134623), (110, 73.07893781009489), (648, 73.05804708605095), (296, 73.01231107530603), (294, 72.95524394148714), (605, 72.83294750579566), (652, 72.72548926745118), (15, 72.57299508642976), (597, 72.52803865232326), (155, 72.04316233449701), (407, 71.99233185829438), (585, 71.9150160484091), (615, 71.8805670082496), (588, 71.85252507995335), (131, 71.81629380976665), (395, 71.48511770228339), (44, 71.42888346469744), (653, 71.40635976583198), (607, 71.25357626505219), (565, 71.2111301593747), (616, 71.18674630644216), (601, 70.82976716742698), (675, 70.58522462276294), (227, 70.30697349625822), (93, 69.92034474847532), (215, 69.83503986913243), (525, 69.62754813787367), (482, 69.60206424135315), (31, 69.57383150670958), (180, 69.48235048190614), (160, 69.3943059031716), (29, 69.36075741662833), (228, 69.35321389127066), (13, 69.33469244263168), (456, 69.33000408325263), (502, 69.21288906567572), (51, 69.17472977546792), (21, 69.0310551805428), (359, 68.96880128466425), (211, 68.84773441420245), (38, 68.79717342720774), (344, 68.51624971683464), (240, 68.48595500206919), (138, 68.48346225344821), (418, 68.43867037037602), (403, 68.00867467735824), (415, 67.93331327453029)]\n"
     ]
    }
   ],
   "source": [
    "# Calculate (user-based) neighbours and their distances\n",
    "distance, neighbor_indices = knn.kneighbors([user_interactions])\n",
    "\n",
    "# Get the interaction history of the identified neighbours for all 680 items\n",
    "user_based_recommendations = []\n",
    "for neighbor_index in neighbor_indices[0]:\n",
    "    neighbor_interactions = user_item_matrix.iloc[neighbor_index]\n",
    "    \n",
    "    # For the items that the neighbours have interacted with (1's), convert the item names\n",
    "    # into integers and append them to our empty list \"user_based_recommendations\"\n",
    "    user_based_recommendations.extend([int(item.split('_')[1]) for item in neighbor_interactions[neighbor_interactions == 1].index])\n",
    "\n",
    "# Only include items that the target user has not already interacted with\n",
    "user_based_recommendations = [item for item in user_based_recommendations if 0 <= item <= len(user_interactions) and user_interactions[item] == 0]\n",
    "user_based_recommendations = list(set(user_based_recommendations))\n",
    "\n",
    "# Item-based collaborative filtering (as previously explained)\n",
    "item_scores = {}\n",
    "for item_id in range(len(itemsim)):\n",
    "    similar_items = np.argsort(itemsim[item_id])[::-1]\n",
    "    similar_items = [item for item in similar_items if user_interactions[item] == 0]\n",
    "    similarity_score = sum(itemsim[item_id][similar_items])\n",
    "    item_scores[item_id] = similarity_score\n",
    "\n",
    "sorted_items = sorted(item_scores.items(), key=lambda x: x[1], reverse=True)\n",
    "item_based_recommendations = [item_id for item_id, _ in sorted_items]\n",
    "item_based_recommendations = list(set(item_based_recommendations))\n",
    "\n",
    "# Combine user-based and item-based recommendations using a weighted average\n",
    "user_weight = 0.3 \n",
    "item_weight = 1 - user_weight\n",
    "\n",
    "combined_recommendations = []\n",
    "for item_id in user_based_recommendations:\n",
    "    user_score = 1 \n",
    "    item_score = item_scores.get(item_id, 0)\n",
    "    combined_score = (user_weight * user_score) + (item_weight * item_score)\n",
    "    \n",
    "    combined_recommendations.append((item_id, combined_score))\n",
    "\n",
    "# Sort the combined recommendations by their scores\n",
    "combined_recommendations.sort(key=lambda x: x[1], reverse=True)\n",
    "\n",
    "# Bring the IDs back to their original values\n",
    "combined_recommendations = [(item_id + 1, combined_score) for item_id, combined_score in combined_recommendations]\n",
    "\n",
    "# Extract the recommended item IDs\n",
    "final_items = [item_id for item_id, _ in combined_recommendations]\n",
    "final_items = [item for item in final_items if item in ids][0:6]\n",
    "\n",
    "print(\"Final Recommendations (w/ Scores):\", combined_recommendations)"
   ]
  },
  {
   "cell_type": "markdown",
   "id": "088a3b77",
   "metadata": {},
   "source": [
    "Filter out the items and pick only those that are also listed in **ids**, i.e. the ones that are \"exercise appropriate\". The items are already ranked by similarity, so pick out the first 6. These will be recommended to the user in exercise-form."
   ]
  },
  {
   "cell_type": "code",
   "execution_count": 28,
   "id": "06876f3f",
   "metadata": {},
   "outputs": [],
   "source": [
    "final_items = [item for item in final_items if item in ids][0:6]"
   ]
  },
  {
   "cell_type": "code",
   "execution_count": 40,
   "id": "8f6828ab",
   "metadata": {},
   "outputs": [],
   "source": [
    "final_words = []\n",
    "\n",
    "for item in final_items:\n",
    "    item = \"item_\" + str(item)\n",
    "    definition = df2[df2[\"item_id\"] == item][\"item_definition\"]\n",
    "    final_words.append(definition)\n",
    "    \n",
    "final_words = [item.values[0] for item in final_words]"
   ]
  },
  {
   "cell_type": "code",
   "execution_count": 41,
   "id": "75f0c679",
   "metadata": {},
   "outputs": [
    {
     "data": {
      "text/plain": [
       "['pudding', 'penis', 'sister', 'baby', 'sprinkler', 'meow']"
      ]
     },
     "execution_count": 41,
     "metadata": {},
     "output_type": "execute_result"
    }
   ],
   "source": [
    "final_words"
   ]
  },
  {
   "cell_type": "code",
   "execution_count": 38,
   "id": "0ebe2d53",
   "metadata": {},
   "outputs": [
    {
     "data": {
      "text/plain": [
       "['pudding', 'penis', 'sister', 'baby', 'sprinkler', 'meow']"
      ]
     },
     "execution_count": 38,
     "metadata": {},
     "output_type": "execute_result"
    }
   ],
   "source": [
    "[item.values[0] for item in final_words]"
   ]
  },
  {
   "cell_type": "code",
   "execution_count": null,
   "id": "207df856",
   "metadata": {},
   "outputs": [],
   "source": []
  },
  {
   "cell_type": "markdown",
   "id": "0abced0f",
   "metadata": {},
   "source": [
    "**Criticisms:**\n",
    "\n",
    "- It seems redundant to calculate both user-based similarity **and** segment our data based on the demographics of the target user\n",
    "\n",
    "- Since we do not have complete information on which items the target user has already interacted with (i.e. the words the child has learned), it is likely that many of the recommended items will be words that the user has actually already interacted with, especially since these are \"popular\" items\n",
    "\n",
    "- Evaluating the model will be tricky, since we cannot collect new data and are also working with binary data"
   ]
  },
  {
   "cell_type": "markdown",
   "id": "6029a368",
   "metadata": {},
   "source": [
    "**Solutions:**\n",
    "\n",
    "- Drop the data segmentation\n",
    "- Recommend not only the items with the highest score, but add some low-scoring items into the list of the recommendations. **Problem:** these words will likely not be appropriate for the target user, especially those in younger age groups\n",
    "- Now that the data segmentation has been dropped, we can evaluate our user-based similarities by investigating the demographical characteristics of the similar users. Will the \"nearest neighbours\" be of the same age and gender as our target user?"
   ]
  }
 ],
 "metadata": {
  "kernelspec": {
   "display_name": "Python 3 (ipykernel)",
   "language": "python",
   "name": "python3"
  },
  "language_info": {
   "codemirror_mode": {
    "name": "ipython",
    "version": 3
   },
   "file_extension": ".py",
   "mimetype": "text/x-python",
   "name": "python",
   "nbconvert_exporter": "python",
   "pygments_lexer": "ipython3",
   "version": "3.10.9"
  }
 },
 "nbformat": 4,
 "nbformat_minor": 5
}
