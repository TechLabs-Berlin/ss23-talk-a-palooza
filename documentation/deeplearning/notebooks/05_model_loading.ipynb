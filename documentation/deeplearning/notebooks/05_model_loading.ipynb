{
 "cells": [
  {
   "cell_type": "code",
   "execution_count": 1,
   "metadata": {},
   "outputs": [],
   "source": [
    "import pandas as pd\n",
    "import numpy as np\n",
    "import matplotlib as plt\n",
    "import re\n",
    "from fastai.vision.all import *\n",
    "from fastcore.utils import gt"
   ]
  },
  {
   "cell_type": "code",
   "execution_count": 3,
   "metadata": {},
   "outputs": [
    {
     "data": {
      "text/plain": [
       "(#1) [Path('../.source/export.pkl')]"
      ]
     },
     "execution_count": 3,
     "metadata": {},
     "output_type": "execute_result"
    }
   ],
   "source": [
    "path = Path(\"../.source\")\n",
    "path.ls(file_exts='.pkl')"
   ]
  },
  {
   "cell_type": "code",
   "execution_count": 4,
   "metadata": {},
   "outputs": [],
   "source": [
    "learn_inf = load_learner(path/'export.pkl')"
   ]
  },
  {
   "cell_type": "code",
   "execution_count": 20,
   "metadata": {},
   "outputs": [],
   "source": [
    "src = '../.source/test_data/spectro/'"
   ]
  },
  {
   "cell_type": "code",
   "execution_count": 23,
   "metadata": {},
   "outputs": [
    {
     "data": {
      "text/html": [],
      "text/plain": [
       "<IPython.core.display.HTML object>"
      ]
     },
     "metadata": {},
     "output_type": "display_data"
    }
   ],
   "source": [
    "night_preds = learn_inf.predict(src + 'night.png')\n",
    "flower_preds = learn_inf.predict(src + 'flower.png')\n",
    "tongue_preds = learn_inf.predict(src + 'tongue.png')\n"
   ]
  },
  {
   "cell_type": "code",
   "execution_count": 13,
   "metadata": {},
   "outputs": [],
   "source": [
    "def create_intelligibility_score_lax(prediction, target_word):\n",
    "  is_recognised = False\n",
    "  score = 0.0\n",
    "\n",
    "  ind = np.argpartition(prediction[2], -5)[-5:]\n",
    "  if prediction[1] in ind:\n",
    "    new_ind = np.delete(ind, [i for i in range(len(ind)) if ind[i] == prediction[1]])\n",
    "    if prediction[0] == target_word:\n",
    "      is_recognised = True\n",
    "      score = prediction[2][prediction[1]] - prediction[2][new_ind][np.argmax(prediction[2][new_ind])]\n",
    "      if score < 0.5: # for cases where the score would dip below .5, should be handled more elegantly\n",
    "        score = prediction[2][prediction[1]]\n",
    "    else:\n",
    "      diff = (prediction[2][prediction[1]] - prediction[2][new_ind][np.argmax(prediction[2][new_ind])])\n",
    "      if diff < 0.2 and prediction[2][prediction[1]] > 0.4:\n",
    "        is_recognised = True\n",
    "        score = prediction[2][prediction[1]]\n",
    "      else:\n",
    "        score = 0.5 - diff\n",
    "      if score < 0:\n",
    "        score = 0\n",
    "  return is_recognised, score"
   ]
  },
  {
   "cell_type": "code",
   "execution_count": 25,
   "metadata": {},
   "outputs": [
    {
     "name": "stdout",
     "output_type": "stream",
     "text": [
      "(True, tensor(0.6508))\n",
      "(False, 0)\n",
      "(True, tensor(0.6594))\n"
     ]
    }
   ],
   "source": [
    "print(create_intelligibility_score_lax(night_preds, 'night'))\n",
    "print(create_intelligibility_score_lax(flower_preds, 'flower'))\n",
    "print(create_intelligibility_score_lax(tongue_preds, 'tongue'))"
   ]
  }
 ],
 "metadata": {
  "kernelspec": {
   "display_name": "venv",
   "language": "python",
   "name": "python3"
  },
  "language_info": {
   "codemirror_mode": {
    "name": "ipython",
    "version": 3
   },
   "file_extension": ".py",
   "mimetype": "text/x-python",
   "name": "python",
   "nbconvert_exporter": "python",
   "pygments_lexer": "ipython3",
   "version": "3.8.10"
  },
  "orig_nbformat": 4,
  "vscode": {
   "interpreter": {
    "hash": "7e4cef245a5d328ec1e39477efc4beb8e07420bde61576f663a1789f361efb7d"
   }
  }
 },
 "nbformat": 4,
 "nbformat_minor": 2
}
