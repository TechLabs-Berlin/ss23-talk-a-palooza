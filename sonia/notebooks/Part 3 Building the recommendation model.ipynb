{
 "cells": [
  {
   "cell_type": "code",
   "execution_count": 91,
   "id": "7274138f",
   "metadata": {},
   "outputs": [],
   "source": [
    "import pandas as pd\n",
    "import numpy as np\n",
    "import matplotlib.pyplot as plt\n",
    "import scipy.spatial\n",
    "from sklearn.neighbors import NearestNeighbors\n",
    "from scipy.spatial.distance import hamming, pdist, squareform\n",
    "from sklearn.metrics import jaccard_score"
   ]
  },
  {
   "cell_type": "code",
   "execution_count": 92,
   "id": "ba6e221d",
   "metadata": {},
   "outputs": [],
   "source": [
    "df = pd.read_csv(\"wbmaster.csv\")"
   ]
  },
  {
   "cell_type": "markdown",
   "id": "e97f03e0",
   "metadata": {},
   "source": [
    "# Part 3: Building the recommendation model"
   ]
  },
  {
   "cell_type": "markdown",
   "id": "d1928afe",
   "metadata": {},
   "source": [
    "**Collaborative filtering**\n",
    "\n",
    "We have 3 options:\n",
    "\n",
    "- **User-based filtering:** find users with similar interaction patterns as our target user and then recommend items that similar users have interacted with to our target user.\n",
    "\n",
    "- **Item-based filtering:** identify items that are similar to the ones our target users has interacted with and then recommend to our target user.\n",
    "\n",
    "- A **hybrid** of the two\n",
    "\n",
    "We are building a hybrid.\n"
   ]
  },
  {
   "cell_type": "markdown",
   "id": "bb098436",
   "metadata": {},
   "source": [
    "## **1. User-based similarities**"
   ]
  },
  {
   "cell_type": "markdown",
   "id": "3e6d8338",
   "metadata": {},
   "source": [
    "Create a matrix with binary information on user interactions. Rows represent users, columns represent items."
   ]
  },
  {
   "cell_type": "code",
   "execution_count": 119,
   "id": "d773888a",
   "metadata": {},
   "outputs": [],
   "source": [
    "user_item_matrix = df.pivot(index=\"child_id\", columns=\"item_id\", values=\"value\")\n",
    "\n",
    "#The order of the items gets jumbled up, so sort them again from 1 to 680\n",
    "itemsorted = sorted(user_item_matrix.columns, key=lambda x: int(x.split(\"_\")[1]))\n",
    "user_item_matrix = user_item_matrix[itemsorted]"
   ]
  },
  {
   "cell_type": "markdown",
   "id": "f12da6c1",
   "metadata": {},
   "source": [
    "Adjust item IDs to match python indices. We now have IDs from 0 to 679 instead of 1 to 680."
   ]
  },
  {
   "cell_type": "code",
   "execution_count": 120,
   "id": "b6bb5393",
   "metadata": {},
   "outputs": [],
   "source": [
    "# Subtract 1 from all item IDs in the user_item_matrix columns\n",
    "user_item_matrix.columns = [f\"item_{int(col.split('_')[1]) - 1}\" if col.startswith(\"item_\") else col for col in user_item_matrix.columns]\n"
   ]
  },
  {
   "cell_type": "markdown",
   "id": "f021add5",
   "metadata": {},
   "source": [
    "Define a hypothetical target user's characteristics.\n",
    "\n",
    "- Age group"
   ]
  },
  {
   "cell_type": "code",
   "execution_count": 34,
   "id": "cc5f1e15",
   "metadata": {},
   "outputs": [
    {
     "name": "stdout",
     "output_type": "stream",
     "text": [
      "Enter the target's age group (1, 2, 3, 4, or 5): 3\n",
      "Target Age Group: 3\n"
     ]
    }
   ],
   "source": [
    "while True:\n",
    "    target_age_group = input(\"Enter the target's age group (1, 2, 3, 4, or 5): \")\n",
    "\n",
    "    if target_age_group in ['1', '2', '3', '4', '5']:\n",
    "        print(\"Target Age Group:\", target_age_group)\n",
    "        break\n",
    "    else:\n",
    "        print(\"Invalid input. Please enter a valid age group.\")"
   ]
  },
  {
   "cell_type": "markdown",
   "id": "a6680af3",
   "metadata": {},
   "source": [
    "- Sex"
   ]
  },
  {
   "cell_type": "code",
   "execution_count": 28,
   "id": "d9490b63",
   "metadata": {},
   "outputs": [
    {
     "name": "stdout",
     "output_type": "stream",
     "text": [
      "Enter the target's sex (Female, Male or None): male\n",
      "Target's Sex: male\n"
     ]
    }
   ],
   "source": [
    "while True:\n",
    "    target_sex = input(\"Enter the target's sex (Female, Male or None): \").lower()\n",
    "\n",
    "    if target_sex in [\"female\", \"male\", \"none\"]:\n",
    "        print(\"Target's Sex:\", target_sex)\n",
    "        break\n",
    "    else:\n",
    "        print(\"Invalid input. Please enter a valid option.\")"
   ]
  },
  {
   "cell_type": "code",
   "execution_count": 136,
   "id": "1088f534",
   "metadata": {},
   "outputs": [],
   "source": [
    "#Alternatively, just create the variables\n",
    "target_age_group = 5 \n",
    "target_sex = \"Male\""
   ]
  },
  {
   "cell_type": "markdown",
   "id": "605711a8",
   "metadata": {},
   "source": [
    "Our EDA revealed that user characteristics, such as **`ageg`** and **`sex`**, have a big influence on user/child vocabulary. Segment our data in order to match the users in our database with our hypothetical target user."
   ]
  },
  {
   "cell_type": "code",
   "execution_count": 137,
   "id": "87848c10",
   "metadata": {},
   "outputs": [],
   "source": [
    "# Filter our df so that it only includes information of age-matched users\n",
    "filtered_users = df[df[\"ageg\"] == int(target_age_group)]\n",
    "\n",
    "# UX wants users to be able to opt to not share sex/gender information, so we add an if \n",
    "# statement to be able to account for cases in which the target user does not share sex\n",
    "# information, i.e. \"None\". Df is *only* filtered to include sex-matched users in cases \n",
    "# where the input is Male/Female. For \"None\", all age-matched users are included in matrix,\n",
    "# regardless of their sex.\n",
    "if target_sex != \"None\":\n",
    "    filtered_users = filtered_users[filtered_users[\"sex\"].str.lower() == target_sex.lower()]\n",
    "\n",
    "# Extract the IDs of the filtered users\n",
    "filtered_user_ids = filtered_users[\"child_id\"].unique()\n",
    "\n",
    "# Create a boolean mask to filter user information for the demographically matched users\n",
    "user_filter_mask = user_item_matrix.index.isin(filtered_user_ids)\n",
    "\n",
    "# Apply the user filter to our \"master\" matrix\n",
    "target_matrix = user_item_matrix[user_filter_mask]"
   ]
  },
  {
   "cell_type": "markdown",
   "id": "705668be",
   "metadata": {},
   "source": [
    "Now we start working with our target user's interaction history."
   ]
  },
  {
   "cell_type": "code",
   "execution_count": 138,
   "id": "ad13d6f1",
   "metadata": {},
   "outputs": [],
   "source": [
    "test = df[df[\"child_id\"] == 1][\"value\"]\n",
    "test.index = test.index + 1\n",
    "interacted_items = test\n",
    "\n",
    "# It's impossible to include all 680 items for our assessment questionnaire, so by default\n",
    "# we assume that if we have no information on an item, then it has not been interacted with/\n",
    "# learned. Hence we start with zeros only.\n",
    "\n",
    "user_interactions = np.zeros(680)\n",
    "user_interactions[interacted_items == 1] = 1"
   ]
  },
  {
   "cell_type": "markdown",
   "id": "e76bf90b",
   "metadata": {},
   "source": [
    "## **2. Item-based similarities**"
   ]
  },
  {
   "cell_type": "markdown",
   "id": "70162f0a",
   "metadata": {},
   "source": [
    "We also want to take item similarity into account, so we need to create an item similarity matrix (or rather *dissimilarity*, since we are working with Jaccard's *distance*). Higher scores indicate less similarity."
   ]
  },
  {
   "cell_type": "markdown",
   "id": "d62530c4",
   "metadata": {},
   "source": [
    "Transpose the matrix. Rows now represent items and columns represent users. Then create a (dis)similarity matrix for the items."
   ]
  },
  {
   "cell_type": "code",
   "execution_count": 139,
   "id": "d1934baf",
   "metadata": {},
   "outputs": [],
   "source": [
    "target_item_matrix = target_matrix.T\n",
    "itemsim = (scipy.spatial.distance.cdist(target_item_matrix.values, target_item_matrix.values, metric=\"jaccard\"))"
   ]
  },
  {
   "cell_type": "markdown",
   "id": "9ac35b4e",
   "metadata": {},
   "source": [
    "Initialize the nearest neighbors model. We opt for Jaccard's distance since we have binary data, it's a simple metric, and our binary data is asymmetric. We fit the model to the **filtered** user-item interaction matrix."
   ]
  },
  {
   "cell_type": "code",
   "execution_count": 140,
   "id": "cfdb9b54",
   "metadata": {},
   "outputs": [
    {
     "data": {
      "text/html": [
       "<style>#sk-container-id-11 {color: black;}#sk-container-id-11 pre{padding: 0;}#sk-container-id-11 div.sk-toggleable {background-color: white;}#sk-container-id-11 label.sk-toggleable__label {cursor: pointer;display: block;width: 100%;margin-bottom: 0;padding: 0.3em;box-sizing: border-box;text-align: center;}#sk-container-id-11 label.sk-toggleable__label-arrow:before {content: \"▸\";float: left;margin-right: 0.25em;color: #696969;}#sk-container-id-11 label.sk-toggleable__label-arrow:hover:before {color: black;}#sk-container-id-11 div.sk-estimator:hover label.sk-toggleable__label-arrow:before {color: black;}#sk-container-id-11 div.sk-toggleable__content {max-height: 0;max-width: 0;overflow: hidden;text-align: left;background-color: #f0f8ff;}#sk-container-id-11 div.sk-toggleable__content pre {margin: 0.2em;color: black;border-radius: 0.25em;background-color: #f0f8ff;}#sk-container-id-11 input.sk-toggleable__control:checked~div.sk-toggleable__content {max-height: 200px;max-width: 100%;overflow: auto;}#sk-container-id-11 input.sk-toggleable__control:checked~label.sk-toggleable__label-arrow:before {content: \"▾\";}#sk-container-id-11 div.sk-estimator input.sk-toggleable__control:checked~label.sk-toggleable__label {background-color: #d4ebff;}#sk-container-id-11 div.sk-label input.sk-toggleable__control:checked~label.sk-toggleable__label {background-color: #d4ebff;}#sk-container-id-11 input.sk-hidden--visually {border: 0;clip: rect(1px 1px 1px 1px);clip: rect(1px, 1px, 1px, 1px);height: 1px;margin: -1px;overflow: hidden;padding: 0;position: absolute;width: 1px;}#sk-container-id-11 div.sk-estimator {font-family: monospace;background-color: #f0f8ff;border: 1px dotted black;border-radius: 0.25em;box-sizing: border-box;margin-bottom: 0.5em;}#sk-container-id-11 div.sk-estimator:hover {background-color: #d4ebff;}#sk-container-id-11 div.sk-parallel-item::after {content: \"\";width: 100%;border-bottom: 1px solid gray;flex-grow: 1;}#sk-container-id-11 div.sk-label:hover label.sk-toggleable__label {background-color: #d4ebff;}#sk-container-id-11 div.sk-serial::before {content: \"\";position: absolute;border-left: 1px solid gray;box-sizing: border-box;top: 0;bottom: 0;left: 50%;z-index: 0;}#sk-container-id-11 div.sk-serial {display: flex;flex-direction: column;align-items: center;background-color: white;padding-right: 0.2em;padding-left: 0.2em;position: relative;}#sk-container-id-11 div.sk-item {position: relative;z-index: 1;}#sk-container-id-11 div.sk-parallel {display: flex;align-items: stretch;justify-content: center;background-color: white;position: relative;}#sk-container-id-11 div.sk-item::before, #sk-container-id-11 div.sk-parallel-item::before {content: \"\";position: absolute;border-left: 1px solid gray;box-sizing: border-box;top: 0;bottom: 0;left: 50%;z-index: -1;}#sk-container-id-11 div.sk-parallel-item {display: flex;flex-direction: column;z-index: 1;position: relative;background-color: white;}#sk-container-id-11 div.sk-parallel-item:first-child::after {align-self: flex-end;width: 50%;}#sk-container-id-11 div.sk-parallel-item:last-child::after {align-self: flex-start;width: 50%;}#sk-container-id-11 div.sk-parallel-item:only-child::after {width: 0;}#sk-container-id-11 div.sk-dashed-wrapped {border: 1px dashed gray;margin: 0 0.4em 0.5em 0.4em;box-sizing: border-box;padding-bottom: 0.4em;background-color: white;}#sk-container-id-11 div.sk-label label {font-family: monospace;font-weight: bold;display: inline-block;line-height: 1.2em;}#sk-container-id-11 div.sk-label-container {text-align: center;}#sk-container-id-11 div.sk-container {/* jupyter's `normalize.less` sets `[hidden] { display: none; }` but bootstrap.min.css set `[hidden] { display: none !important; }` so we also need the `!important` here to be able to override the default hidden behavior on the sphinx rendered scikit-learn.org. See: https://github.com/scikit-learn/scikit-learn/issues/21755 */display: inline-block !important;position: relative;}#sk-container-id-11 div.sk-text-repr-fallback {display: none;}</style><div id=\"sk-container-id-11\" class=\"sk-top-container\"><div class=\"sk-text-repr-fallback\"><pre>NearestNeighbors(algorithm=&#x27;brute&#x27;, metric=&#x27;jaccard&#x27;, n_neighbors=1)</pre><b>In a Jupyter environment, please rerun this cell to show the HTML representation or trust the notebook. <br />On GitHub, the HTML representation is unable to render, please try loading this page with nbviewer.org.</b></div><div class=\"sk-container\" hidden><div class=\"sk-item\"><div class=\"sk-estimator sk-toggleable\"><input class=\"sk-toggleable__control sk-hidden--visually\" id=\"sk-estimator-id-11\" type=\"checkbox\" checked><label for=\"sk-estimator-id-11\" class=\"sk-toggleable__label sk-toggleable__label-arrow\">NearestNeighbors</label><div class=\"sk-toggleable__content\"><pre>NearestNeighbors(algorithm=&#x27;brute&#x27;, metric=&#x27;jaccard&#x27;, n_neighbors=1)</pre></div></div></div></div></div>"
      ],
      "text/plain": [
       "NearestNeighbors(algorithm='brute', metric='jaccard', n_neighbors=1)"
      ]
     },
     "execution_count": 140,
     "metadata": {},
     "output_type": "execute_result"
    }
   ],
   "source": [
    "# Initialize the nearest neighbors model\n",
    "knn = NearestNeighbors(n_neighbors=1, metric=\"jaccard\", algorithm=\"brute\")\n",
    "\n",
    "# Fit the model to your user-item interaction matrix\n",
    "knn.fit(target_matrix)"
   ]
  },
  {
   "cell_type": "code",
   "execution_count": 1,
   "id": "de872203",
   "metadata": {},
   "outputs": [
    {
     "ename": "ValueError",
     "evalue": "DataFrame constructor not properly called!",
     "output_type": "error",
     "traceback": [
      "\u001b[0;31m---------------------------------------------------------------------------\u001b[0m",
      "\u001b[0;31mValueError\u001b[0m                                Traceback (most recent call last)",
      "Cell \u001b[0;32mIn[1], line 62\u001b[0m\n\u001b[1;32m     60\u001b[0m \u001b[38;5;66;03m# Example usage:\u001b[39;00m\n\u001b[1;32m     61\u001b[0m user_interactions \u001b[38;5;241m=\u001b[39m [\u001b[38;5;241m0\u001b[39m, \u001b[38;5;241m1\u001b[39m, \u001b[38;5;241m0\u001b[39m, \u001b[38;5;241m1\u001b[39m, \u001b[38;5;241m0\u001b[39m, \u001b[38;5;241m0\u001b[39m, \u001b[38;5;241m1\u001b[39m, \u001b[38;5;241m0\u001b[39m]  \u001b[38;5;66;03m# Replace with the interaction history of a child\u001b[39;00m\n\u001b[0;32m---> 62\u001b[0m target_matrix \u001b[38;5;241m=\u001b[39m \u001b[43mpd\u001b[49m\u001b[38;5;241;43m.\u001b[39;49m\u001b[43mDataFrame\u001b[49m\u001b[43m(\u001b[49m\u001b[38;5;241;43m.\u001b[39;49m\u001b[38;5;241;43m.\u001b[39;49m\u001b[38;5;241;43m.\u001b[39;49m\u001b[43m)\u001b[49m  \u001b[38;5;66;03m# Replace with the interaction history matrix for all children\u001b[39;00m\n\u001b[1;32m     63\u001b[0m itemsim \u001b[38;5;241m=\u001b[39m np\u001b[38;5;241m.\u001b[39marray(\u001b[38;5;241m.\u001b[39m\u001b[38;5;241m.\u001b[39m\u001b[38;5;241m.\u001b[39m)  \u001b[38;5;66;03m# Replace with the item similarity matrix\u001b[39;00m\n\u001b[1;32m     65\u001b[0m recommendations \u001b[38;5;241m=\u001b[39m get_recommendations(user_interactions, target_matrix, itemsim)\n",
      "File \u001b[0;32m~/anaconda3/lib/python3.10/site-packages/pandas/core/frame.py:817\u001b[0m, in \u001b[0;36mDataFrame.__init__\u001b[0;34m(self, data, index, columns, dtype, copy)\u001b[0m\n\u001b[1;32m    814\u001b[0m \u001b[38;5;66;03m# For data is scalar\u001b[39;00m\n\u001b[1;32m    815\u001b[0m \u001b[38;5;28;01melse\u001b[39;00m:\n\u001b[1;32m    816\u001b[0m     \u001b[38;5;28;01mif\u001b[39;00m index \u001b[38;5;129;01mis\u001b[39;00m \u001b[38;5;28;01mNone\u001b[39;00m \u001b[38;5;129;01mor\u001b[39;00m columns \u001b[38;5;129;01mis\u001b[39;00m \u001b[38;5;28;01mNone\u001b[39;00m:\n\u001b[0;32m--> 817\u001b[0m         \u001b[38;5;28;01mraise\u001b[39;00m \u001b[38;5;167;01mValueError\u001b[39;00m(\u001b[38;5;124m\"\u001b[39m\u001b[38;5;124mDataFrame constructor not properly called!\u001b[39m\u001b[38;5;124m\"\u001b[39m)\n\u001b[1;32m    819\u001b[0m     index \u001b[38;5;241m=\u001b[39m ensure_index(index)\n\u001b[1;32m    820\u001b[0m     columns \u001b[38;5;241m=\u001b[39m ensure_index(columns)\n",
      "\u001b[0;31mValueError\u001b[0m: DataFrame constructor not properly called!"
     ]
    }
   ],
   "source": [
    "def get_recommendations(user_interactions, target_matrix, itemsim):\n",
    "    # Calculate (user-based) neighbors and their distances\n",
    "    knn = NearestNeighbors(n_neighbors=2, metric=\"jaccard\", algorithm=\"brute\")\n",
    "    knn.fit(target_matrix)\n",
    "\n",
    "    distance, neighbor_indices = knn.kneighbors([user_interactions])\n",
    "\n",
    "    # Get the interaction history of the identified neighbors for all items\n",
    "    user_based_recommendations = []\n",
    "    for neighbor_index in neighbor_indices[0]:\n",
    "        neighbor_interactions = target_matrix.iloc[neighbor_index]\n",
    "\n",
    "        # For the items that the neighbors have interacted with (1's), convert the item names\n",
    "        # into integers and append them to our empty list \"user_based_recommendations\"\n",
    "        user_based_recommendations.extend([int(item.split('_')[1]) for item in neighbor_interactions[neighbor_interactions == 1].index])\n",
    "\n",
    "    # Only include items that the target user has not already interacted with\n",
    "    user_based_recommendations = [item for item in user_based_recommendations if 0 <= item <= len(user_interactions) and user_interactions[item] == 0]\n",
    "    user_based_recommendations = list(set(user_based_recommendations))\n",
    "\n",
    "    # Item-based collaborative filtering (as previously explained)\n",
    "    item_scores = {}\n",
    "    for item_id in range(len(itemsim)):\n",
    "        similar_items = np.argsort(itemsim[item_id])[::-1]\n",
    "        similar_items = [item for item in similar_items if user_interactions[item] == 0]\n",
    "        similarity_score = sum(itemsim[item_id][similar_items])\n",
    "        item_scores[item_id] = similarity_score\n",
    "\n",
    "    sorted_items = sorted(item_scores.items(), key=lambda x: x[1], reverse=True)\n",
    "    item_based_recommendations = [item_id for item_id, _ in sorted_items]\n",
    "    item_based_recommendations = list(set(item_based_recommendations))\n",
    "\n",
    "    # Combine user-based and item-based recommendations using a weighted average\n",
    "    user_weight = 0.3 \n",
    "    item_weight = 1 - user_weight\n",
    "\n",
    "    combined_recommendations = []\n",
    "    for item_id in user_based_recommendations:\n",
    "        user_score = 1 \n",
    "        item_score = item_scores.get(item_id, 0)\n",
    "        combined_score = (user_weight * user_score) + (item_weight * item_score)\n",
    "\n",
    "        combined_recommendations.append((item_id, combined_score))\n",
    "\n",
    "    # Sort the combined recommendations by their scores\n",
    "    combined_recommendations.sort(key=lambda x: x[1], reverse=True)\n",
    "\n",
    "    # Bring the IDs back to their original values\n",
    "    combined_recommendations = [(item_id + 1, combined_score) for item_id, combined_score in combined_recommendations]\n",
    "\n",
    "    # Extract the recommended item IDs\n",
    "    final_items = [item_id for item_id, _ in combined_recommendations]\n",
    "\n",
    "    return final_items\n",
    "\n",
    "# Example usage:\n",
    "user_interactions = [0, 1, 0, 1, 0, 0, 1, 0]  # Replace with the interaction history of a child\n",
    "target_matrix = pd.DataFrame(...)  # Replace with the interaction history matrix for all children\n",
    "itemsim = np.array(...)  # Replace with the item similarity matrix\n",
    "\n",
    "recommendations = get_recommendations(user_interactions, target_matrix, itemsim)\n",
    "print(\"Final Recommendations:\", recommendations)\n"
   ]
  },
  {
   "cell_type": "code",
   "execution_count": 162,
   "id": "32d62cd3",
   "metadata": {},
   "outputs": [
    {
     "name": "stderr",
     "output_type": "stream",
     "text": [
      "/Users/sonia/anaconda3/lib/python3.10/site-packages/sklearn/base.py:464: UserWarning: X does not have valid feature names, but NearestNeighbors was fitted with feature names\n",
      "  warnings.warn(\n",
      "/Users/sonia/anaconda3/lib/python3.10/site-packages/sklearn/metrics/pairwise.py:2181: DataConversionWarning: Data was converted to boolean for metric jaccard\n",
      "  warnings.warn(msg, DataConversionWarning)\n"
     ]
    },
    {
     "name": "stdout",
     "output_type": "stream",
     "text": [
      "Final Recommendations (w/ Scores): [(181, 103.71465831032151), (436, 96.3837804632133), (640, 96.17399490683499), (330, 90.92694293778204), (547, 90.88487061467883), (178, 88.23202136197749), (328, 85.39501282613722), (326, 85.08402874928659), (343, 84.94046716375139), (257, 81.94924005476018), (590, 80.72474628423164), (156, 80.49406691976436), (172, 79.81458963457685), (64, 78.87192608851717), (646, 78.60349603588718), (152, 78.56147976048123), (327, 77.14996442826008), (151, 76.80550271311337), (589, 76.74455813940267), (650, 76.15488180413901), (34, 75.93206362506996), (475, 75.5293522757116), (355, 74.54926937096344), (574, 74.41375841496323), (230, 74.04143031619098), (140, 73.61846831075451), (583, 73.25869265780797), (266, 73.07550657323381), (146, 73.06677924758024), (598, 72.38501904650983), (184, 71.67400672557312), (350, 71.61943761571274), (580, 71.04122230052323), (613, 70.98123910737678), (40, 70.74529123092609), (373, 69.66767742594655), (591, 69.66358749913138), (80, 69.49257190889979), (153, 68.52984343524345), (27, 68.42577898202454), (315, 68.0248700476906), (567, 67.84109662679434), (54, 66.98927094903107), (665, 66.97226537974218), (602, 66.9518101720644), (649, 66.85965619097271), (619, 66.51297531630364), (143, 66.27842300161026), (114, 66.0350000512616), (617, 65.80097813335918), (33, 65.78848206523456), (614, 65.70478730489233), (282, 65.38129868613352), (621, 65.22418160264188), (47, 64.00688460428258), (37, 63.770274330814395), (176, 63.71245691683363), (76, 63.363410582913694), (609, 63.203705597378026), (167, 63.05425833252383), (307, 63.01874393229781), (25, 62.916979424994125), (145, 62.84970078645329), (346, 62.548377614536605), (52, 62.42352462031165), (139, 62.41627232655198), (238, 62.34143008703449), (298, 61.94352809873873), (570, 61.8847254119601), (89, 61.793859363824055), (72, 61.760120009417214), (666, 61.720804835711554), (332, 61.54670639804902), (648, 61.53073856778624), (83, 61.20494503171348), (407, 61.10380205203496), (3, 61.09963540853477), (302, 61.03766060164459), (314, 60.66081255760167), (331, 60.26217579267117), (652, 60.261132625621045), (615, 60.168062250142306), (410, 60.16051631176693), (294, 60.13694705717976), (10, 59.87488022611089), (585, 59.84094445152802), (180, 59.66366601423954), (296, 59.5568539170317), (158, 59.281495044553175), (110, 59.15342850007455), (5, 59.02591909457056), (15, 58.97440195844979), (616, 58.93644627386645), (348, 58.859760962066524), (11, 58.81832665544104), (675, 58.804998981279695), (274, 58.67796339818625), (2, 58.66363625824348), (6, 58.65823861372387), (653, 58.496523233939946), (227, 58.31504194485762), (131, 58.22811273847796), (300, 58.20265557286456), (482, 58.185171659251296), (406, 58.01679976870165), (525, 58.007367375990775), (588, 57.90174867593369), (313, 57.877996011051245), (8, 57.87389817922397), (597, 57.76831306692218), (607, 57.59017040417228), (66, 57.536973046963844), (211, 57.535392666419064), (102, 57.43071619743455), (204, 57.42322444811702), (456, 57.4052820746723), (359, 57.376229235938354), (155, 57.24080779648727), (49, 57.06211506348245), (93, 56.93745440924554), (218, 56.89731906563822), (605, 56.83967394229756), (55, 56.836535198119606), (48, 56.745616567397306), (502, 56.728404779627056), (565, 56.7262633770892), (183, 56.695148722428726), (601, 56.6183183221933), (13, 56.379764688398225), (418, 56.32352266704639), (138, 56.30341833570291), (358, 56.28830811415308), (17, 56.28322357116374), (24, 56.07346512193107), (301, 56.056386352102585), (42, 55.84681674479354), (344, 55.71622661185556), (229, 55.689592062423294), (51, 55.59860618190907), (415, 55.46376228317683), (53, 55.455291358961645), (85, 55.43845439769996), (228, 55.43770936931199), (44, 55.42724697135141), (32, 55.358934882266055), (403, 55.31063086070415), (395, 55.281190676866714), (240, 55.08846600797381), (215, 54.95998767602793), (21, 54.841087179141184), (38, 54.79912816899265), (29, 54.71913216505262), (160, 54.7065570877751), (31, 54.60378173584161)]\n"
     ]
    }
   ],
   "source": [
    "# Calculate (user-based) neighbours and their distances\n",
    "distance, neighbor_indices = knn.kneighbors([user_interactions])\n",
    "\n",
    "# Get the interaction history of the identified neighbours for all 680 items\n",
    "user_based_recommendations = []\n",
    "for neighbor_index in neighbor_indices[0]:\n",
    "    neighbor_interactions = target_matrix.iloc[neighbor_index]\n",
    "    \n",
    "    # For the items that the neighbours have interacted with (1's), convert the item names\n",
    "    # into integers and append them to our empty list \"user_based_recommendations\"\n",
    "    user_based_recommendations.extend([int(item.split('_')[1]) for item in neighbor_interactions[neighbor_interactions == 1].index])\n",
    "\n",
    "# Only include items that the target user has not already interacted with\n",
    "user_based_recommendations = [item for item in user_based_recommendations if 0 <= item <= len(user_interactions) and user_interactions[item] == 0]\n",
    "user_based_recommendations = list(set(user_based_recommendations))\n",
    "\n",
    "# Item-based collaborative filtering (as previously explained)\n",
    "item_scores = {}\n",
    "for item_id in range(len(itemsim)):\n",
    "    similar_items = np.argsort(itemsim[item_id])[::-1]\n",
    "    similar_items = [item for item in similar_items if user_interactions[item] == 0]\n",
    "    similarity_score = sum(itemsim[item_id][similar_items])\n",
    "    item_scores[item_id] = similarity_score\n",
    "\n",
    "sorted_items = sorted(item_scores.items(), key=lambda x: x[1], reverse=True)\n",
    "item_based_recommendations = [item_id for item_id, _ in sorted_items]\n",
    "item_based_recommendations = list(set(item_based_recommendations))\n",
    "\n",
    "# Combine user-based and item-based recommendations using a weighted average\n",
    "user_weight = 0.3 \n",
    "item_weight = 1 - user_weight\n",
    "\n",
    "combined_recommendations = []\n",
    "for item_id in user_based_recommendations:\n",
    "    user_score = 1 \n",
    "    item_score = item_scores.get(item_id, 0)\n",
    "    combined_score = (user_weight * user_score) + (item_weight * item_score)\n",
    "    \n",
    "    combined_recommendations.append((item_id, combined_score))\n",
    "\n",
    "# Sort the combined recommendations by their scores\n",
    "combined_recommendations.sort(key=lambda x: x[1], reverse=True)\n",
    "\n",
    "# Bring the IDs back to their original values\n",
    "combined_recommendations = [(item_id + 1, combined_score) for item_id, combined_score in combined_recommendations]\n",
    "\n",
    "# Extract the recommended item IDs\n",
    "final_items = [item_id for item_id, _ in combined_recommendations]\n",
    "\n",
    "print(\"Final Recommendations (w/ Scores):\", combined_recommendations)"
   ]
  },
  {
   "cell_type": "markdown",
   "id": "0abced0f",
   "metadata": {},
   "source": [
    "**Criticisms:**\n",
    "\n",
    "- It seems a bit redundant to calculate both user-based similarity **and** segment our data based on the demographics of the target user\n",
    "\n",
    "- Since we will not have complete information on which items the target user has already interacted with (i.e. the words the child has already learned) for our prototype, it is likely that many of the recommended items will be words that the user has actually already interacted with, especially since recommended items tend to be \"popular\" items\n",
    "\n",
    "- Evaluating the model will be tricky, since we cannot collect new data and are also working with binary data"
   ]
  },
  {
   "cell_type": "markdown",
   "id": "6029a368",
   "metadata": {},
   "source": [
    "**Solutions:**\n",
    "\n",
    "- Drop the data segmentation\n",
    "- Recommend not only the items with the highest score, but add some low-scoring items into the list of the recommendations. **Problem:** these words will likely not be age-appropriate for especially younger users\n",
    "- Now that the data segmentation has been dropped, we can evaluate our user-based similarities by investigating the demographical characteristics of the similar users. Will the \"nearest neighbours\" be of the same age and gender as our target user? Find out in Part 4a."
   ]
  }
 ],
 "metadata": {
  "kernelspec": {
   "display_name": "Python 3 (ipykernel)",
   "language": "python",
   "name": "python3"
  },
  "language_info": {
   "codemirror_mode": {
    "name": "ipython",
    "version": 3
   },
   "file_extension": ".py",
   "mimetype": "text/x-python",
   "name": "python",
   "nbconvert_exporter": "python",
   "pygments_lexer": "ipython3",
   "version": "3.10.9"
  }
 },
 "nbformat": 4,
 "nbformat_minor": 5
}
