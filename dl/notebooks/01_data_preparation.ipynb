{
 "cells": [
  {
   "cell_type": "code",
   "execution_count": 89,
   "metadata": {},
   "outputs": [],
   "source": [
    "import pandas as pd\n",
    "import numpy as np\n",
    "import re"
   ]
  },
  {
   "cell_type": "code",
   "execution_count": 90,
   "metadata": {},
   "outputs": [],
   "source": [
    "pd.set_option(\"display.max_columns\", 85)\n",
    "pd.set_option(\"display.max_rows\", 85)"
   ]
  },
  {
   "attachments": {},
   "cell_type": "markdown",
   "metadata": {},
   "source": [
    "### Talkapalooza - TL BL SS 23"
   ]
  },
  {
   "attachments": {},
   "cell_type": "markdown",
   "metadata": {},
   "source": [
    "# Data preparation:"
   ]
  },
  {
   "attachments": {},
   "cell_type": "markdown",
   "metadata": {},
   "source": [
    "As a source of audio files for single word recordings, I downloaded the English language dataset from [Lingualibre's Languages Gallery](https://lingualibre.org/wiki/LinguaLibre:About). LinguaLibre is a project by Wikimédia France to collectively and collaboratively preserve and provide oral recordings of languages across the globe.\n",
    "\n",
    "The English dataset consists of recordings provided by 109 unique speakers, amassing about 33 100 recordings covering 29 000 unique words. About 75% of recordings were provided by male speakers.\n",
    "\n",
    "To have an overview over the pronunciations provided, as well as to know for which there are several recordings, some data preparation and analysis has to be performed."
   ]
  },
  {
   "attachments": {},
   "cell_type": "markdown",
   "metadata": {},
   "source": [
    "## Exploring the dataset:"
   ]
  },
  {
   "attachments": {},
   "cell_type": "markdown",
   "metadata": {},
   "source": [
    "The dataset is downloaded as a folder with several subdirectories and files. Each subdirectory represents a user's recordings and file names describe the word recorded."
   ]
  },
  {
   "attachments": {},
   "cell_type": "markdown",
   "metadata": {},
   "source": [
    "### You better walk that OS"
   ]
  },
  {
   "cell_type": "code",
   "execution_count": 91,
   "metadata": {},
   "outputs": [],
   "source": [
    "import os\n",
    "\n",
    "root = \"../.source/lingualibre_en/\""
   ]
  },
  {
   "cell_type": "code",
   "execution_count": 92,
   "metadata": {},
   "outputs": [
    {
     "data": {
      "text/html": [
       "<div>\n",
       "<style scoped>\n",
       "    .dataframe tbody tr th:only-of-type {\n",
       "        vertical-align: middle;\n",
       "    }\n",
       "\n",
       "    .dataframe tbody tr th {\n",
       "        vertical-align: top;\n",
       "    }\n",
       "\n",
       "    .dataframe thead th {\n",
       "        text-align: right;\n",
       "    }\n",
       "</style>\n",
       "<table border=\"1\" class=\"dataframe\">\n",
       "  <thead>\n",
       "    <tr style=\"text-align: right;\">\n",
       "      <th></th>\n",
       "      <th>path</th>\n",
       "      <th>name</th>\n",
       "    </tr>\n",
       "  </thead>\n",
       "  <tbody>\n",
       "  </tbody>\n",
       "</table>\n",
       "</div>"
      ],
      "text/plain": [
       "Empty DataFrame\n",
       "Columns: [path, name]\n",
       "Index: []"
      ]
     },
     "execution_count": 92,
     "metadata": {},
     "output_type": "execute_result"
    }
   ],
   "source": [
    "recordings_df = pd.DataFrame(columns=['path', 'name'])\n",
    "recordings_df.head()"
   ]
  },
  {
   "attachments": {},
   "cell_type": "markdown",
   "metadata": {},
   "source": [
    "Treat subdirs?"
   ]
  },
  {
   "cell_type": "code",
   "execution_count": 93,
   "metadata": {},
   "outputs": [],
   "source": [
    "for path, subdirs, files in os.walk(root):\n",
    "    for name in files:\n",
    "        temp_df = pd.DataFrame([[path, name]], columns=['path', 'name'])\n",
    "        recordings_df= pd.concat([recordings_df, temp_df])"
   ]
  },
  {
   "cell_type": "code",
   "execution_count": 94,
   "metadata": {},
   "outputs": [],
   "source": [
    "recordings_df = recordings_df.reset_index()\n",
    "recordings_df = recordings_df.drop('index', axis=1)"
   ]
  },
  {
   "cell_type": "code",
   "execution_count": 95,
   "metadata": {},
   "outputs": [
    {
     "data": {
      "text/plain": [
       "(31756, 2)"
      ]
     },
     "execution_count": 95,
     "metadata": {},
     "output_type": "execute_result"
    }
   ],
   "source": [
    "recordings_df.shape"
   ]
  },
  {
   "cell_type": "code",
   "execution_count": 96,
   "metadata": {},
   "outputs": [
    {
     "data": {
      "text/html": [
       "<div>\n",
       "<style scoped>\n",
       "    .dataframe tbody tr th:only-of-type {\n",
       "        vertical-align: middle;\n",
       "    }\n",
       "\n",
       "    .dataframe tbody tr th {\n",
       "        vertical-align: top;\n",
       "    }\n",
       "\n",
       "    .dataframe thead th {\n",
       "        text-align: right;\n",
       "    }\n",
       "</style>\n",
       "<table border=\"1\" class=\"dataframe\">\n",
       "  <thead>\n",
       "    <tr style=\"text-align: right;\">\n",
       "      <th></th>\n",
       "      <th>path</th>\n",
       "      <th>name</th>\n",
       "    </tr>\n",
       "  </thead>\n",
       "  <tbody>\n",
       "    <tr>\n",
       "      <th>0</th>\n",
       "      <td>../.source/lingualibre_en/Eric.LEWIN</td>\n",
       "      <td>TBD.ogg</td>\n",
       "    </tr>\n",
       "    <tr>\n",
       "      <th>50</th>\n",
       "      <td>../.source/lingualibre_en/Fredericknoronha</td>\n",
       "      <td>Rosary College of Commerce and Arts.ogg</td>\n",
       "    </tr>\n",
       "    <tr>\n",
       "      <th>100</th>\n",
       "      <td>../.source/lingualibre_en/Opsylac</td>\n",
       "      <td>they.ogg</td>\n",
       "    </tr>\n",
       "    <tr>\n",
       "      <th>150</th>\n",
       "      <td>../.source/lingualibre_en/I learned some phrases</td>\n",
       "      <td>chary.ogg</td>\n",
       "    </tr>\n",
       "    <tr>\n",
       "      <th>200</th>\n",
       "      <td>../.source/lingualibre_en/I learned some phrases</td>\n",
       "      <td>sear.ogg</td>\n",
       "    </tr>\n",
       "    <tr>\n",
       "      <th>250</th>\n",
       "      <td>../.source/lingualibre_en/I learned some phrases</td>\n",
       "      <td>rusts.ogg</td>\n",
       "    </tr>\n",
       "    <tr>\n",
       "      <th>300</th>\n",
       "      <td>../.source/lingualibre_en/I learned some phrases</td>\n",
       "      <td>obligatory.ogg</td>\n",
       "    </tr>\n",
       "    <tr>\n",
       "      <th>350</th>\n",
       "      <td>../.source/lingualibre_en/I learned some phrases</td>\n",
       "      <td>quintessential.ogg</td>\n",
       "    </tr>\n",
       "    <tr>\n",
       "      <th>400</th>\n",
       "      <td>../.source/lingualibre_en/I learned some phrases</td>\n",
       "      <td>philately.ogg</td>\n",
       "    </tr>\n",
       "    <tr>\n",
       "      <th>450</th>\n",
       "      <td>../.source/lingualibre_en/I learned some phrases</td>\n",
       "      <td>fresco.ogg</td>\n",
       "    </tr>\n",
       "    <tr>\n",
       "      <th>500</th>\n",
       "      <td>../.source/lingualibre_en/I learned some phrases</td>\n",
       "      <td>calabash.ogg</td>\n",
       "    </tr>\n",
       "    <tr>\n",
       "      <th>550</th>\n",
       "      <td>../.source/lingualibre_en/I learned some phrases</td>\n",
       "      <td>sericulture.ogg</td>\n",
       "    </tr>\n",
       "    <tr>\n",
       "      <th>600</th>\n",
       "      <td>../.source/lingualibre_en/I learned some phrases</td>\n",
       "      <td>Gilgamesh.ogg</td>\n",
       "    </tr>\n",
       "    <tr>\n",
       "      <th>650</th>\n",
       "      <td>../.source/lingualibre_en/I learned some phrases</td>\n",
       "      <td>Lancashire.ogg</td>\n",
       "    </tr>\n",
       "    <tr>\n",
       "      <th>700</th>\n",
       "      <td>../.source/lingualibre_en/John Adams VI</td>\n",
       "      <td>Michael Bay.ogg</td>\n",
       "    </tr>\n",
       "    <tr>\n",
       "      <th>750</th>\n",
       "      <td>../.source/lingualibre_en/John Adams VI</td>\n",
       "      <td>Gordon Parks.ogg</td>\n",
       "    </tr>\n",
       "    <tr>\n",
       "      <th>800</th>\n",
       "      <td>../.source/lingualibre_en/John Adams VI</td>\n",
       "      <td>Donald Sutherland.ogg</td>\n",
       "    </tr>\n",
       "    <tr>\n",
       "      <th>850</th>\n",
       "      <td>../.source/lingualibre_en/John.d.new77</td>\n",
       "      <td>Owasso.ogg</td>\n",
       "    </tr>\n",
       "    <tr>\n",
       "      <th>900</th>\n",
       "      <td>../.source/lingualibre_en/Benluks</td>\n",
       "      <td>clavicle.ogg</td>\n",
       "    </tr>\n",
       "    <tr>\n",
       "      <th>950</th>\n",
       "      <td>../.source/lingualibre_en/Rho9998</td>\n",
       "      <td>Eltham.ogg</td>\n",
       "    </tr>\n",
       "  </tbody>\n",
       "</table>\n",
       "</div>"
      ],
      "text/plain": [
       "                                                 path  \\\n",
       "0                ../.source/lingualibre_en/Eric.LEWIN   \n",
       "50         ../.source/lingualibre_en/Fredericknoronha   \n",
       "100                 ../.source/lingualibre_en/Opsylac   \n",
       "150  ../.source/lingualibre_en/I learned some phrases   \n",
       "200  ../.source/lingualibre_en/I learned some phrases   \n",
       "250  ../.source/lingualibre_en/I learned some phrases   \n",
       "300  ../.source/lingualibre_en/I learned some phrases   \n",
       "350  ../.source/lingualibre_en/I learned some phrases   \n",
       "400  ../.source/lingualibre_en/I learned some phrases   \n",
       "450  ../.source/lingualibre_en/I learned some phrases   \n",
       "500  ../.source/lingualibre_en/I learned some phrases   \n",
       "550  ../.source/lingualibre_en/I learned some phrases   \n",
       "600  ../.source/lingualibre_en/I learned some phrases   \n",
       "650  ../.source/lingualibre_en/I learned some phrases   \n",
       "700           ../.source/lingualibre_en/John Adams VI   \n",
       "750           ../.source/lingualibre_en/John Adams VI   \n",
       "800           ../.source/lingualibre_en/John Adams VI   \n",
       "850            ../.source/lingualibre_en/John.d.new77   \n",
       "900                 ../.source/lingualibre_en/Benluks   \n",
       "950                 ../.source/lingualibre_en/Rho9998   \n",
       "\n",
       "                                        name  \n",
       "0                                    TBD.ogg  \n",
       "50   Rosary College of Commerce and Arts.ogg  \n",
       "100                                 they.ogg  \n",
       "150                                chary.ogg  \n",
       "200                                 sear.ogg  \n",
       "250                                rusts.ogg  \n",
       "300                           obligatory.ogg  \n",
       "350                       quintessential.ogg  \n",
       "400                            philately.ogg  \n",
       "450                               fresco.ogg  \n",
       "500                             calabash.ogg  \n",
       "550                          sericulture.ogg  \n",
       "600                            Gilgamesh.ogg  \n",
       "650                           Lancashire.ogg  \n",
       "700                          Michael Bay.ogg  \n",
       "750                         Gordon Parks.ogg  \n",
       "800                    Donald Sutherland.ogg  \n",
       "850                               Owasso.ogg  \n",
       "900                             clavicle.ogg  \n",
       "950                               Eltham.ogg  "
      ]
     },
     "execution_count": 96,
     "metadata": {},
     "output_type": "execute_result"
    }
   ],
   "source": [
    "recordings_df[::50].head(20)"
   ]
  },
  {
   "attachments": {},
   "cell_type": "markdown",
   "metadata": {},
   "source": [
    "### Clean up"
   ]
  },
  {
   "attachments": {},
   "cell_type": "markdown",
   "metadata": {},
   "source": [
    "Use regex to clean up path and file names. "
   ]
  },
  {
   "cell_type": "code",
   "execution_count": 97,
   "metadata": {},
   "outputs": [],
   "source": [
    "pattern_path = re.compile(\".*/lingualibre_en/\")\n",
    "pattern_name = re.compile(\"\\.ogg\")\n",
    "\n",
    "recordings_df['path'] =  [re.sub(pattern_path, '', str(x)) for x in recordings_df['path']]\n",
    "recordings_df['name'] =  [x.lower() for x in recordings_df['name']]\n",
    "recordings_df['name'] =  [re.sub(pattern_name, '', str(x)) for x in recordings_df['name']]"
   ]
  },
  {
   "cell_type": "code",
   "execution_count": 98,
   "metadata": {},
   "outputs": [
    {
     "data": {
      "text/html": [
       "<div>\n",
       "<style scoped>\n",
       "    .dataframe tbody tr th:only-of-type {\n",
       "        vertical-align: middle;\n",
       "    }\n",
       "\n",
       "    .dataframe tbody tr th {\n",
       "        vertical-align: top;\n",
       "    }\n",
       "\n",
       "    .dataframe thead th {\n",
       "        text-align: right;\n",
       "    }\n",
       "</style>\n",
       "<table border=\"1\" class=\"dataframe\">\n",
       "  <thead>\n",
       "    <tr style=\"text-align: right;\">\n",
       "      <th></th>\n",
       "      <th>path</th>\n",
       "      <th>name</th>\n",
       "      <th>count</th>\n",
       "    </tr>\n",
       "  </thead>\n",
       "  <tbody>\n",
       "    <tr>\n",
       "      <th>0</th>\n",
       "      <td>Eric.LEWIN</td>\n",
       "      <td>tbd</td>\n",
       "      <td>1</td>\n",
       "    </tr>\n",
       "    <tr>\n",
       "      <th>1</th>\n",
       "      <td>Fredericknoronha</td>\n",
       "      <td>central bank of india calangute branch</td>\n",
       "      <td>1</td>\n",
       "    </tr>\n",
       "    <tr>\n",
       "      <th>2</th>\n",
       "      <td>Fredericknoronha</td>\n",
       "      <td>icici bank limited, calangute, goa branch</td>\n",
       "      <td>1</td>\n",
       "    </tr>\n",
       "    <tr>\n",
       "      <th>3</th>\n",
       "      <td>Fredericknoronha</td>\n",
       "      <td>curtorim vidhan sabha constituency</td>\n",
       "      <td>1</td>\n",
       "    </tr>\n",
       "    <tr>\n",
       "      <th>4</th>\n",
       "      <td>Fredericknoronha</td>\n",
       "      <td>vagator</td>\n",
       "      <td>1</td>\n",
       "    </tr>\n",
       "  </tbody>\n",
       "</table>\n",
       "</div>"
      ],
      "text/plain": [
       "               path                                       name  count\n",
       "0        Eric.LEWIN                                        tbd      1\n",
       "1  Fredericknoronha     central bank of india calangute branch      1\n",
       "2  Fredericknoronha  icici bank limited, calangute, goa branch      1\n",
       "3  Fredericknoronha         curtorim vidhan sabha constituency      1\n",
       "4  Fredericknoronha                                    vagator      1"
      ]
     },
     "execution_count": 98,
     "metadata": {},
     "output_type": "execute_result"
    }
   ],
   "source": [
    "recordings_df['count'] = 1\n",
    "recordings_df.head()"
   ]
  },
  {
   "cell_type": "code",
   "execution_count": 99,
   "metadata": {},
   "outputs": [],
   "source": [
    "recordings_df = recordings_df.sort_values(by=['path', 'name'])"
   ]
  },
  {
   "cell_type": "code",
   "execution_count": 100,
   "metadata": {},
   "outputs": [
    {
     "data": {
      "text/html": [
       "<div>\n",
       "<style scoped>\n",
       "    .dataframe tbody tr th:only-of-type {\n",
       "        vertical-align: middle;\n",
       "    }\n",
       "\n",
       "    .dataframe tbody tr th {\n",
       "        vertical-align: top;\n",
       "    }\n",
       "\n",
       "    .dataframe thead th {\n",
       "        text-align: right;\n",
       "    }\n",
       "</style>\n",
       "<table border=\"1\" class=\"dataframe\">\n",
       "  <thead>\n",
       "    <tr style=\"text-align: right;\">\n",
       "      <th></th>\n",
       "      <th>path</th>\n",
       "      <th>name</th>\n",
       "      <th>count</th>\n",
       "    </tr>\n",
       "  </thead>\n",
       "  <tbody>\n",
       "    <tr>\n",
       "      <th>0</th>\n",
       "      <td>Acadienenexil</td>\n",
       "      <td>dragon</td>\n",
       "      <td>1</td>\n",
       "    </tr>\n",
       "    <tr>\n",
       "      <th>1</th>\n",
       "      <td>Acadienenexil</td>\n",
       "      <td>tomorrow</td>\n",
       "      <td>1</td>\n",
       "    </tr>\n",
       "    <tr>\n",
       "      <th>2</th>\n",
       "      <td>Acadienenexil</td>\n",
       "      <td>winner</td>\n",
       "      <td>1</td>\n",
       "    </tr>\n",
       "    <tr>\n",
       "      <th>3</th>\n",
       "      <td>Accuratecy051</td>\n",
       "      <td>see</td>\n",
       "      <td>1</td>\n",
       "    </tr>\n",
       "    <tr>\n",
       "      <th>4</th>\n",
       "      <td>AcpoKrane</td>\n",
       "      <td>disproportion</td>\n",
       "      <td>1</td>\n",
       "    </tr>\n",
       "  </tbody>\n",
       "</table>\n",
       "</div>"
      ],
      "text/plain": [
       "            path           name  count\n",
       "0  Acadienenexil         dragon      1\n",
       "1  Acadienenexil       tomorrow      1\n",
       "2  Acadienenexil         winner      1\n",
       "3  Accuratecy051            see      1\n",
       "4      AcpoKrane  disproportion      1"
      ]
     },
     "execution_count": 100,
     "metadata": {},
     "output_type": "execute_result"
    }
   ],
   "source": [
    "recordings_df = recordings_df.reset_index().drop('index', axis=1)\n",
    "recordings_df.head()"
   ]
  },
  {
   "attachments": {},
   "cell_type": "markdown",
   "metadata": {},
   "source": [
    "### Insights"
   ]
  },
  {
   "attachments": {},
   "cell_type": "markdown",
   "metadata": {},
   "source": [
    "Unique users, find counts of unique words. Ideally we want to work with terms that have multiple recordings available."
   ]
  },
  {
   "cell_type": "code",
   "execution_count": 101,
   "metadata": {},
   "outputs": [
    {
     "data": {
      "text/plain": [
       "(104,)"
      ]
     },
     "execution_count": 101,
     "metadata": {},
     "output_type": "execute_result"
    }
   ],
   "source": [
    "users = recordings_df['path'].unique()\n",
    "users.shape"
   ]
  },
  {
   "attachments": {},
   "cell_type": "markdown",
   "metadata": {},
   "source": [
    "Subdirectories are also present (in any case negligible data for us)."
   ]
  },
  {
   "cell_type": "code",
   "execution_count": 102,
   "metadata": {},
   "outputs": [
    {
     "name": "stdout",
     "output_type": "stream",
     "text": [
      "Acadienenexil | Accuratecy051 | AcpoKrane | Adithyak1997 | Adélaïde Calais WMFr | Ajshul | Ali Farhi | AlpOktem | Amaranorah | Arlo Barnes | Atudu | BANFECE | BANFECE (Sarah Han) | Back ache | Back ache/Attribution | Back ache/singer | Benluks | Benoît Prieur | Berrely | Bibisuccess | Bluerasberry | Brazal.dang | Brian-emurse | Btrombley | CKali | Clifflandis | Cloud atlas | Commander Keane | Daberechi16 | Daniel Mietchen | Darmo117 | Eric.LEWIN | Exilexi | Fake estate | Foobarista2 | Frankincense Diala | Fredericknoronha | Gibraltar Rocks | Graycier | Greenman | Grendelkhan | I JethroBT | I JethroBT/42nd Precinct  | I learned some phrases | Izundu Okechukwu | Jjamesryan | Jmpmann | John Adams VI | John.d.new77 | Jshlanta | Julie Samothrace | Justinrleung | Kasyap | Kateregga1 | Lepticed7 | Lirazelf | Ltrlg | Lyokoï | Mathieu Kappler | Maxewan | Middle river exports (عُثمان) | Mélange a trois | Mélody Xu YANG WMFr | Nattes à chat | Oge ogu | Onuugu | Opsylac | Opsylac (Marie-Sarah) | PRB | PerfectSoundWhatever | PizzaforDerrida | Poslovitch | QueerEcofeminist | RedAuburn | Rho9998 | RiLiu | Rodrigo5260 | Semperosculto | She animates | Simplificationalizer | Skeyapp | SpringProof | StuckInLagToad | Thatfamouseditor | Theallsource (James Barnett) | Tkarcher | Tsaag Valren | Uchembila | Umairdvg | VCcortex | VPaleontologist | Vanderdecken | Vealhurl | Vealhurl/overlight-a | Vininn126 | Vivekteraiyavt | Waveymaster2244 | Weird green frog | WikiLucas00 | Y. Dongchen | Yahya | Yahya (ইয়াহিয়া) | Zenyth1234 | Zērō RTT\n"
     ]
    }
   ],
   "source": [
    "print(*users, sep=\" | \")"
   ]
  },
  {
   "cell_type": "code",
   "execution_count": 103,
   "metadata": {},
   "outputs": [
    {
     "data": {
      "text/plain": [
       "array(['dragon', 'tomorrow', 'winner', ..., 'ogbono soup',\n",
       "       'asad ali palijo', 'اسد علي پليجو'], dtype=object)"
      ]
     },
     "execution_count": 103,
     "metadata": {},
     "output_type": "execute_result"
    }
   ],
   "source": [
    "recordings_df[\"name\"].unique()"
   ]
  },
  {
   "cell_type": "code",
   "execution_count": 104,
   "metadata": {},
   "outputs": [
    {
     "data": {
      "text/plain": [
       "(27549,)"
      ]
     },
     "execution_count": 104,
     "metadata": {},
     "output_type": "execute_result"
    }
   ],
   "source": [
    "words = recordings_df[\"name\"].value_counts()\n",
    "words.shape"
   ]
  },
  {
   "cell_type": "code",
   "execution_count": 105,
   "metadata": {},
   "outputs": [],
   "source": [
    "words = pd.DataFrame(words).reset_index().rename(columns={'index': 'word', 'name': 'count'})"
   ]
  },
  {
   "cell_type": "code",
   "execution_count": 106,
   "metadata": {},
   "outputs": [
    {
     "data": {
      "text/html": [
       "<div>\n",
       "<style scoped>\n",
       "    .dataframe tbody tr th:only-of-type {\n",
       "        vertical-align: middle;\n",
       "    }\n",
       "\n",
       "    .dataframe tbody tr th {\n",
       "        vertical-align: top;\n",
       "    }\n",
       "\n",
       "    .dataframe thead th {\n",
       "        text-align: right;\n",
       "    }\n",
       "</style>\n",
       "<table border=\"1\" class=\"dataframe\">\n",
       "  <thead>\n",
       "    <tr style=\"text-align: right;\">\n",
       "      <th></th>\n",
       "      <th>word</th>\n",
       "      <th>count</th>\n",
       "    </tr>\n",
       "  </thead>\n",
       "  <tbody>\n",
       "    <tr>\n",
       "      <th>0</th>\n",
       "      <td>thin</td>\n",
       "      <td>10</td>\n",
       "    </tr>\n",
       "    <tr>\n",
       "      <th>2500</th>\n",
       "      <td>quadratic</td>\n",
       "      <td>2</td>\n",
       "    </tr>\n",
       "    <tr>\n",
       "      <th>5000</th>\n",
       "      <td>hyphenate</td>\n",
       "      <td>1</td>\n",
       "    </tr>\n",
       "    <tr>\n",
       "      <th>7500</th>\n",
       "      <td>fabaceous</td>\n",
       "      <td>1</td>\n",
       "    </tr>\n",
       "    <tr>\n",
       "      <th>10000</th>\n",
       "      <td>sny</td>\n",
       "      <td>1</td>\n",
       "    </tr>\n",
       "  </tbody>\n",
       "</table>\n",
       "</div>"
      ],
      "text/plain": [
       "            word  count\n",
       "0           thin     10\n",
       "2500   quadratic      2\n",
       "5000   hyphenate      1\n",
       "7500   fabaceous      1\n",
       "10000        sny      1"
      ]
     },
     "execution_count": 106,
     "metadata": {},
     "output_type": "execute_result"
    }
   ],
   "source": [
    "words[::2500].head()"
   ]
  },
  {
   "attachments": {},
   "cell_type": "markdown",
   "metadata": {},
   "source": [
    "### Reshape"
   ]
  },
  {
   "attachments": {},
   "cell_type": "markdown",
   "metadata": {},
   "source": [
    "Reshape by looking at words, include count and usernames per word."
   ]
  },
  {
   "cell_type": "code",
   "execution_count": 107,
   "metadata": {},
   "outputs": [],
   "source": [
    "words_df = pd.DataFrame()"
   ]
  },
  {
   "cell_type": "code",
   "execution_count": 108,
   "metadata": {},
   "outputs": [],
   "source": [
    "words_df[['word', 'count', 'user']] = (\n",
    "    recordings_df.groupby(\n",
    "        ['name']\n",
    "    ).count().reset_index()\n",
    ")"
   ]
  },
  {
   "cell_type": "code",
   "execution_count": 109,
   "metadata": {},
   "outputs": [
    {
     "data": {
      "text/html": [
       "<div>\n",
       "<style scoped>\n",
       "    .dataframe tbody tr th:only-of-type {\n",
       "        vertical-align: middle;\n",
       "    }\n",
       "\n",
       "    .dataframe tbody tr th {\n",
       "        vertical-align: top;\n",
       "    }\n",
       "\n",
       "    .dataframe thead th {\n",
       "        text-align: right;\n",
       "    }\n",
       "</style>\n",
       "<table border=\"1\" class=\"dataframe\">\n",
       "  <thead>\n",
       "    <tr style=\"text-align: right;\">\n",
       "      <th></th>\n",
       "      <th>word</th>\n",
       "      <th>count</th>\n",
       "      <th>user</th>\n",
       "    </tr>\n",
       "  </thead>\n",
       "  <tbody>\n",
       "    <tr>\n",
       "      <th>24287</th>\n",
       "      <td>thin</td>\n",
       "      <td>10</td>\n",
       "      <td>10</td>\n",
       "    </tr>\n",
       "    <tr>\n",
       "      <th>26541</th>\n",
       "      <td>what</td>\n",
       "      <td>9</td>\n",
       "      <td>9</td>\n",
       "    </tr>\n",
       "    <tr>\n",
       "      <th>11569</th>\n",
       "      <td>he</td>\n",
       "      <td>9</td>\n",
       "      <td>9</td>\n",
       "    </tr>\n",
       "    <tr>\n",
       "      <th>24275</th>\n",
       "      <td>they</td>\n",
       "      <td>9</td>\n",
       "      <td>9</td>\n",
       "    </tr>\n",
       "    <tr>\n",
       "      <th>24317</th>\n",
       "      <td>this</td>\n",
       "      <td>9</td>\n",
       "      <td>9</td>\n",
       "    </tr>\n",
       "    <tr>\n",
       "      <th>...</th>\n",
       "      <td>...</td>\n",
       "      <td>...</td>\n",
       "      <td>...</td>\n",
       "    </tr>\n",
       "    <tr>\n",
       "      <th>8831</th>\n",
       "      <td>even</td>\n",
       "      <td>3</td>\n",
       "      <td>3</td>\n",
       "    </tr>\n",
       "    <tr>\n",
       "      <th>24551</th>\n",
       "      <td>to sit</td>\n",
       "      <td>3</td>\n",
       "      <td>3</td>\n",
       "    </tr>\n",
       "    <tr>\n",
       "      <th>16405</th>\n",
       "      <td>near</td>\n",
       "      <td>3</td>\n",
       "      <td>3</td>\n",
       "    </tr>\n",
       "    <tr>\n",
       "      <th>1286</th>\n",
       "      <td>an</td>\n",
       "      <td>3</td>\n",
       "      <td>3</td>\n",
       "    </tr>\n",
       "    <tr>\n",
       "      <th>24581</th>\n",
       "      <td>today</td>\n",
       "      <td>3</td>\n",
       "      <td>3</td>\n",
       "    </tr>\n",
       "  </tbody>\n",
       "</table>\n",
       "<p>400 rows × 3 columns</p>\n",
       "</div>"
      ],
      "text/plain": [
       "         word  count  user\n",
       "24287    thin     10    10\n",
       "26541    what      9     9\n",
       "11569      he      9     9\n",
       "24275    they      9     9\n",
       "24317    this      9     9\n",
       "...       ...    ...   ...\n",
       "8831     even      3     3\n",
       "24551  to sit      3     3\n",
       "16405    near      3     3\n",
       "1286       an      3     3\n",
       "24581   today      3     3\n",
       "\n",
       "[400 rows x 3 columns]"
      ]
     },
     "execution_count": 109,
     "metadata": {},
     "output_type": "execute_result"
    }
   ],
   "source": [
    "words_df.sort_values(by='count', ascending=False).head(400)"
   ]
  },
  {
   "cell_type": "code",
   "execution_count": 110,
   "metadata": {},
   "outputs": [],
   "source": [
    "words_df['user'] = ''\n",
    "words_df['user'] = (\n",
    "    recordings_df.groupby(\n",
    "        ['name'],\n",
    "        as_index=False\n",
    "    )['path']\n",
    ")"
   ]
  },
  {
   "cell_type": "code",
   "execution_count": 111,
   "metadata": {},
   "outputs": [
    {
     "data": {
      "text/html": [
       "<div>\n",
       "<style scoped>\n",
       "    .dataframe tbody tr th:only-of-type {\n",
       "        vertical-align: middle;\n",
       "    }\n",
       "\n",
       "    .dataframe tbody tr th {\n",
       "        vertical-align: top;\n",
       "    }\n",
       "\n",
       "    .dataframe thead th {\n",
       "        text-align: right;\n",
       "    }\n",
       "</style>\n",
       "<table border=\"1\" class=\"dataframe\">\n",
       "  <thead>\n",
       "    <tr style=\"text-align: right;\">\n",
       "      <th></th>\n",
       "      <th>word</th>\n",
       "      <th>count</th>\n",
       "      <th>user</th>\n",
       "    </tr>\n",
       "  </thead>\n",
       "  <tbody>\n",
       "    <tr>\n",
       "      <th>0</th>\n",
       "      <td>town hall police station</td>\n",
       "      <td>1</td>\n",
       "      <td>( town hall police station, [I JethroBT/42nd P...</td>\n",
       "    </tr>\n",
       "    <tr>\n",
       "      <th>1</th>\n",
       "      <td>&amp;</td>\n",
       "      <td>1</td>\n",
       "      <td>(&amp;, [Back ache])</td>\n",
       "    </tr>\n",
       "    <tr>\n",
       "      <th>2</th>\n",
       "      <td>'an</td>\n",
       "      <td>1</td>\n",
       "      <td>('an, [Arlo Barnes])</td>\n",
       "    </tr>\n",
       "    <tr>\n",
       "      <th>3</th>\n",
       "      <td>'d</td>\n",
       "      <td>1</td>\n",
       "      <td>('d, [She animates])</td>\n",
       "    </tr>\n",
       "    <tr>\n",
       "      <th>4</th>\n",
       "      <td>'hara</td>\n",
       "      <td>1</td>\n",
       "      <td>('hara, [Arlo Barnes])</td>\n",
       "    </tr>\n",
       "  </tbody>\n",
       "</table>\n",
       "</div>"
      ],
      "text/plain": [
       "                        word  count  \\\n",
       "0   town hall police station      1   \n",
       "1                          &      1   \n",
       "2                        'an      1   \n",
       "3                         'd      1   \n",
       "4                      'hara      1   \n",
       "\n",
       "                                                user  \n",
       "0  ( town hall police station, [I JethroBT/42nd P...  \n",
       "1                                   (&, [Back ache])  \n",
       "2                               ('an, [Arlo Barnes])  \n",
       "3                               ('d, [She animates])  \n",
       "4                             ('hara, [Arlo Barnes])  "
      ]
     },
     "execution_count": 111,
     "metadata": {},
     "output_type": "execute_result"
    }
   ],
   "source": [
    "words_df.head()"
   ]
  },
  {
   "cell_type": "code",
   "execution_count": 115,
   "metadata": {},
   "outputs": [
    {
     "data": {
      "text/plain": [
       "0    ( town hall police station, [I JethroBT/42nd P...\n",
       "1                                     (&, [Back ache])\n",
       "2                                 ('an, [Arlo Barnes])\n",
       "3                                 ('d, [She animates])\n",
       "4                               ('hara, [Arlo Barnes])\n",
       "Name: user, dtype: object"
      ]
     },
     "execution_count": 115,
     "metadata": {},
     "output_type": "execute_result"
    }
   ],
   "source": [
    "user_vals = words_df['user']\n",
    "user_vals[:5]"
   ]
  },
  {
   "cell_type": "code",
   "execution_count": 116,
   "metadata": {},
   "outputs": [],
   "source": [
    "for i, val in enumerate(user_vals):\n",
    "    words_df.loc[i, 'user'] = ';'.join(user_vals[i][1].values)"
   ]
  },
  {
   "cell_type": "code",
   "execution_count": 121,
   "metadata": {},
   "outputs": [
    {
     "data": {
      "text/html": [
       "<div>\n",
       "<style scoped>\n",
       "    .dataframe tbody tr th:only-of-type {\n",
       "        vertical-align: middle;\n",
       "    }\n",
       "\n",
       "    .dataframe tbody tr th {\n",
       "        vertical-align: top;\n",
       "    }\n",
       "\n",
       "    .dataframe thead th {\n",
       "        text-align: right;\n",
       "    }\n",
       "</style>\n",
       "<table border=\"1\" class=\"dataframe\">\n",
       "  <thead>\n",
       "    <tr style=\"text-align: right;\">\n",
       "      <th></th>\n",
       "      <th>word</th>\n",
       "      <th>count</th>\n",
       "      <th>user</th>\n",
       "    </tr>\n",
       "  </thead>\n",
       "  <tbody>\n",
       "    <tr>\n",
       "      <th>24287</th>\n",
       "      <td>thin</td>\n",
       "      <td>10</td>\n",
       "      <td>Back ache;Exilexi;Fake estate;Greenman;Lirazel...</td>\n",
       "    </tr>\n",
       "    <tr>\n",
       "      <th>26541</th>\n",
       "      <td>what</td>\n",
       "      <td>9</td>\n",
       "      <td>Back ache;Exilexi;Greenman;Lirazelf;Mathieu Ka...</td>\n",
       "    </tr>\n",
       "    <tr>\n",
       "      <th>11569</th>\n",
       "      <td>he</td>\n",
       "      <td>9</td>\n",
       "      <td>Back ache;Greenman;Lirazelf;Mathieu Kappler;Mé...</td>\n",
       "    </tr>\n",
       "    <tr>\n",
       "      <th>24275</th>\n",
       "      <td>they</td>\n",
       "      <td>9</td>\n",
       "      <td>Back ache;Exilexi;Greenman;Lirazelf;Nattes à c...</td>\n",
       "    </tr>\n",
       "    <tr>\n",
       "      <th>24317</th>\n",
       "      <td>this</td>\n",
       "      <td>9</td>\n",
       "      <td>Back ache;Exilexi;Greenman;Lirazelf;Mathieu Ka...</td>\n",
       "    </tr>\n",
       "    <tr>\n",
       "      <th>14592</th>\n",
       "      <td>long</td>\n",
       "      <td>9</td>\n",
       "      <td>Back ache;Fake estate;Greenman;Lirazelf;Nattes...</td>\n",
       "    </tr>\n",
       "    <tr>\n",
       "      <th>24195</th>\n",
       "      <td>that</td>\n",
       "      <td>9</td>\n",
       "      <td>Back ache;Greenman;Lirazelf;Mathieu Kappler;Na...</td>\n",
       "    </tr>\n",
       "    <tr>\n",
       "      <th>22600</th>\n",
       "      <td>some</td>\n",
       "      <td>8</td>\n",
       "      <td>Back ache;Exilexi;Greenman;Lirazelf;Nattes à c...</td>\n",
       "    </tr>\n",
       "    <tr>\n",
       "      <th>16765</th>\n",
       "      <td>not</td>\n",
       "      <td>8</td>\n",
       "      <td>Back ache;Greenman;Lirazelf;Mathieu Kappler;Na...</td>\n",
       "    </tr>\n",
       "    <tr>\n",
       "      <th>27041</th>\n",
       "      <td>you</td>\n",
       "      <td>8</td>\n",
       "      <td>Back ache;Greenman;Lirazelf;Mathieu Kappler;Mé...</td>\n",
       "    </tr>\n",
       "  </tbody>\n",
       "</table>\n",
       "</div>"
      ],
      "text/plain": [
       "       word  count                                               user\n",
       "24287  thin     10  Back ache;Exilexi;Fake estate;Greenman;Lirazel...\n",
       "26541  what      9  Back ache;Exilexi;Greenman;Lirazelf;Mathieu Ka...\n",
       "11569    he      9  Back ache;Greenman;Lirazelf;Mathieu Kappler;Mé...\n",
       "24275  they      9  Back ache;Exilexi;Greenman;Lirazelf;Nattes à c...\n",
       "24317  this      9  Back ache;Exilexi;Greenman;Lirazelf;Mathieu Ka...\n",
       "14592  long      9  Back ache;Fake estate;Greenman;Lirazelf;Nattes...\n",
       "24195  that      9  Back ache;Greenman;Lirazelf;Mathieu Kappler;Na...\n",
       "22600  some      8  Back ache;Exilexi;Greenman;Lirazelf;Nattes à c...\n",
       "16765   not      8  Back ache;Greenman;Lirazelf;Mathieu Kappler;Na...\n",
       "27041   you      8  Back ache;Greenman;Lirazelf;Mathieu Kappler;Mé..."
      ]
     },
     "execution_count": 121,
     "metadata": {},
     "output_type": "execute_result"
    }
   ],
   "source": [
    "words_df.sort_values(by='count', ascending=False).head(10)"
   ]
  },
  {
   "cell_type": "code",
   "execution_count": 120,
   "metadata": {},
   "outputs": [
    {
     "data": {
      "text/plain": [
       "'Back ache;Exilexi;Fake estate;Greenman;Lirazelf;Nattes à chat;Opsylac;Simplificationalizer;SpringProof;Vivekteraiyavt'"
      ]
     },
     "execution_count": 120,
     "metadata": {},
     "output_type": "execute_result"
    }
   ],
   "source": [
    "words_df.iloc[24287]['user']"
   ]
  },
  {
   "attachments": {},
   "cell_type": "markdown",
   "metadata": {},
   "source": [
    "### Examine counts"
   ]
  },
  {
   "cell_type": "code",
   "execution_count": 122,
   "metadata": {},
   "outputs": [],
   "source": [
    "filter_5 = (words_df['count'] >= 5)\n",
    "filter_4 = (words_df['count'] >= 4)\n",
    "filter_3 = (words_df['count'] >= 3)\n",
    "filter_2 = (words_df['count'] >= 2)"
   ]
  },
  {
   "cell_type": "code",
   "execution_count": 127,
   "metadata": {},
   "outputs": [
    {
     "name": "stdout",
     "output_type": "stream",
     "text": [
      "(122, 3)\n"
     ]
    },
    {
     "data": {
      "text/html": [
       "<div>\n",
       "<style scoped>\n",
       "    .dataframe tbody tr th:only-of-type {\n",
       "        vertical-align: middle;\n",
       "    }\n",
       "\n",
       "    .dataframe tbody tr th {\n",
       "        vertical-align: top;\n",
       "    }\n",
       "\n",
       "    .dataframe thead th {\n",
       "        text-align: right;\n",
       "    }\n",
       "</style>\n",
       "<table border=\"1\" class=\"dataframe\">\n",
       "  <thead>\n",
       "    <tr style=\"text-align: right;\">\n",
       "      <th></th>\n",
       "      <th>word</th>\n",
       "      <th>count</th>\n",
       "      <th>user</th>\n",
       "    </tr>\n",
       "  </thead>\n",
       "  <tbody>\n",
       "    <tr>\n",
       "      <th>24287</th>\n",
       "      <td>thin</td>\n",
       "      <td>10</td>\n",
       "      <td>Back ache;Exilexi;Fake estate;Greenman;Lirazel...</td>\n",
       "    </tr>\n",
       "    <tr>\n",
       "      <th>4603</th>\n",
       "      <td>child</td>\n",
       "      <td>8</td>\n",
       "      <td>Back ache;Greenman;Lepticed7;Lirazelf;Nattes à...</td>\n",
       "    </tr>\n",
       "    <tr>\n",
       "      <th>9433</th>\n",
       "      <td>few</td>\n",
       "      <td>7</td>\n",
       "      <td>Back ache;Exilexi;Greenman;Lirazelf;Nattes à c...</td>\n",
       "    </tr>\n",
       "    <tr>\n",
       "      <th>10007</th>\n",
       "      <td>four</td>\n",
       "      <td>6</td>\n",
       "      <td>Back ache;Greenman;Lirazelf;Nattes à chat;Spri...</td>\n",
       "    </tr>\n",
       "    <tr>\n",
       "      <th>26533</th>\n",
       "      <td>whale</td>\n",
       "      <td>5</td>\n",
       "      <td>Arlo Barnes;Back ache;Graycier;Lirazelf;Nattes...</td>\n",
       "    </tr>\n",
       "    <tr>\n",
       "      <th>9848</th>\n",
       "      <td>for</td>\n",
       "      <td>5</td>\n",
       "      <td>Back ache;Grendelkhan;Mathieu Kappler;Nattes à...</td>\n",
       "    </tr>\n",
       "    <tr>\n",
       "      <th>22233</th>\n",
       "      <td>skin</td>\n",
       "      <td>5</td>\n",
       "      <td>Back ache;Greenman;Lirazelf;Nattes à chat;Spri...</td>\n",
       "    </tr>\n",
       "  </tbody>\n",
       "</table>\n",
       "</div>"
      ],
      "text/plain": [
       "        word  count                                               user\n",
       "24287   thin     10  Back ache;Exilexi;Fake estate;Greenman;Lirazel...\n",
       "4603   child      8  Back ache;Greenman;Lepticed7;Lirazelf;Nattes à...\n",
       "9433     few      7  Back ache;Exilexi;Greenman;Lirazelf;Nattes à c...\n",
       "10007   four      6  Back ache;Greenman;Lirazelf;Nattes à chat;Spri...\n",
       "26533  whale      5  Arlo Barnes;Back ache;Graycier;Lirazelf;Nattes...\n",
       "9848     for      5  Back ache;Grendelkhan;Mathieu Kappler;Nattes à...\n",
       "22233   skin      5  Back ache;Greenman;Lirazelf;Nattes à chat;Spri..."
      ]
     },
     "execution_count": 127,
     "metadata": {},
     "output_type": "execute_result"
    }
   ],
   "source": [
    "print(words_df[filter_5].shape)\n",
    "words_df[filter_5].sort_values(by='count', ascending=False)[::20].head(10)"
   ]
  },
  {
   "cell_type": "code",
   "execution_count": 129,
   "metadata": {},
   "outputs": [
    {
     "name": "stdout",
     "output_type": "stream",
     "text": [
      "(225, 3)\n",
      "(574, 3)\n",
      "(3148, 3)\n"
     ]
    },
    {
     "data": {
      "text/html": [
       "<div>\n",
       "<style scoped>\n",
       "    .dataframe tbody tr th:only-of-type {\n",
       "        vertical-align: middle;\n",
       "    }\n",
       "\n",
       "    .dataframe tbody tr th {\n",
       "        vertical-align: top;\n",
       "    }\n",
       "\n",
       "    .dataframe thead th {\n",
       "        text-align: right;\n",
       "    }\n",
       "</style>\n",
       "<table border=\"1\" class=\"dataframe\">\n",
       "  <thead>\n",
       "    <tr style=\"text-align: right;\">\n",
       "      <th></th>\n",
       "      <th>word</th>\n",
       "      <th>count</th>\n",
       "      <th>user</th>\n",
       "    </tr>\n",
       "  </thead>\n",
       "  <tbody>\n",
       "    <tr>\n",
       "      <th>24287</th>\n",
       "      <td>thin</td>\n",
       "      <td>10</td>\n",
       "      <td>Back ache;Exilexi;Fake estate;Greenman;Lirazel...</td>\n",
       "    </tr>\n",
       "    <tr>\n",
       "      <th>14953</th>\n",
       "      <td>man</td>\n",
       "      <td>8</td>\n",
       "      <td>Back ache;Greenman;Lirazelf;Nattes à chat;Opsy...</td>\n",
       "    </tr>\n",
       "    <tr>\n",
       "      <th>9433</th>\n",
       "      <td>few</td>\n",
       "      <td>7</td>\n",
       "      <td>Back ache;Exilexi;Greenman;Lirazelf;Nattes à c...</td>\n",
       "    </tr>\n",
       "    <tr>\n",
       "      <th>2904</th>\n",
       "      <td>bird</td>\n",
       "      <td>6</td>\n",
       "      <td>Back ache;Greenman;Lirazelf;Nattes à chat;Spri...</td>\n",
       "    </tr>\n",
       "    <tr>\n",
       "      <th>24405</th>\n",
       "      <td>thunder</td>\n",
       "      <td>5</td>\n",
       "      <td>Arlo Barnes;Back ache;Graycier;Lirazelf;Nattes...</td>\n",
       "    </tr>\n",
       "    <tr>\n",
       "      <th>6187</th>\n",
       "      <td>cruel</td>\n",
       "      <td>5</td>\n",
       "      <td>Arlo Barnes;Back ache;Graycier;Lirazelf;Nattes...</td>\n",
       "    </tr>\n",
       "    <tr>\n",
       "      <th>11396</th>\n",
       "      <td>hand</td>\n",
       "      <td>5</td>\n",
       "      <td>Back ache;Exilexi;Lirazelf;Nattes à chat;Sprin...</td>\n",
       "    </tr>\n",
       "    <tr>\n",
       "      <th>9250</th>\n",
       "      <td>fat</td>\n",
       "      <td>4</td>\n",
       "      <td>Back ache;Lirazelf;Nattes à chat;SpringProof</td>\n",
       "    </tr>\n",
       "    <tr>\n",
       "      <th>23853</th>\n",
       "      <td>tail</td>\n",
       "      <td>4</td>\n",
       "      <td>Back ache;Lirazelf;Nattes à chat;SpringProof</td>\n",
       "    </tr>\n",
       "    <tr>\n",
       "      <th>21972</th>\n",
       "      <td>should</td>\n",
       "      <td>4</td>\n",
       "      <td>Back ache;Nattes à chat;She animates;Vealhurl</td>\n",
       "    </tr>\n",
       "  </tbody>\n",
       "</table>\n",
       "</div>"
      ],
      "text/plain": [
       "          word  count                                               user\n",
       "24287     thin     10  Back ache;Exilexi;Fake estate;Greenman;Lirazel...\n",
       "14953      man      8  Back ache;Greenman;Lirazelf;Nattes à chat;Opsy...\n",
       "9433       few      7  Back ache;Exilexi;Greenman;Lirazelf;Nattes à c...\n",
       "2904      bird      6  Back ache;Greenman;Lirazelf;Nattes à chat;Spri...\n",
       "24405  thunder      5  Arlo Barnes;Back ache;Graycier;Lirazelf;Nattes...\n",
       "6187     cruel      5  Arlo Barnes;Back ache;Graycier;Lirazelf;Nattes...\n",
       "11396     hand      5  Back ache;Exilexi;Lirazelf;Nattes à chat;Sprin...\n",
       "9250       fat      4       Back ache;Lirazelf;Nattes à chat;SpringProof\n",
       "23853     tail      4       Back ache;Lirazelf;Nattes à chat;SpringProof\n",
       "21972   should      4      Back ache;Nattes à chat;She animates;Vealhurl"
      ]
     },
     "execution_count": 129,
     "metadata": {},
     "output_type": "execute_result"
    }
   ],
   "source": [
    "print(words_df[filter_4].shape)\n",
    "print(words_df[filter_3].shape)\n",
    "print(words_df[filter_2].shape)\n",
    "words_df[filter_2].sort_values(by='count', ascending=False)[::20].head(10)"
   ]
  },
  {
   "attachments": {},
   "cell_type": "markdown",
   "metadata": {},
   "source": [
    "## Cross Reference"
   ]
  },
  {
   "attachments": {},
   "cell_type": "markdown",
   "metadata": {},
   "source": [
    "### Read the csv used by Data Science team:"
   ]
  },
  {
   "cell_type": "code",
   "execution_count": 130,
   "metadata": {},
   "outputs": [],
   "source": [
    "wordbank_df = pd.read_csv('../.source/wordbank_item_data.csv')"
   ]
  },
  {
   "cell_type": "code",
   "execution_count": 135,
   "metadata": {},
   "outputs": [
    {
     "name": "stdout",
     "output_type": "stream",
     "text": [
      "(680, 19)\n"
     ]
    },
    {
     "data": {
      "text/html": [
       "<div>\n",
       "<style scoped>\n",
       "    .dataframe tbody tr th:only-of-type {\n",
       "        vertical-align: middle;\n",
       "    }\n",
       "\n",
       "    .dataframe tbody tr th {\n",
       "        vertical-align: top;\n",
       "    }\n",
       "\n",
       "    .dataframe thead th {\n",
       "        text-align: right;\n",
       "    }\n",
       "</style>\n",
       "<table border=\"1\" class=\"dataframe\">\n",
       "  <thead>\n",
       "    <tr style=\"text-align: right;\">\n",
       "      <th></th>\n",
       "      <th>downloaded</th>\n",
       "      <th>item_id</th>\n",
       "      <th>item_definition</th>\n",
       "      <th>category</th>\n",
       "      <th>16</th>\n",
       "      <th>17</th>\n",
       "      <th>18</th>\n",
       "      <th>19</th>\n",
       "      <th>20</th>\n",
       "      <th>21</th>\n",
       "      <th>22</th>\n",
       "      <th>23</th>\n",
       "      <th>24</th>\n",
       "      <th>25</th>\n",
       "      <th>26</th>\n",
       "      <th>27</th>\n",
       "      <th>28</th>\n",
       "      <th>29</th>\n",
       "      <th>30</th>\n",
       "    </tr>\n",
       "  </thead>\n",
       "  <tbody>\n",
       "    <tr>\n",
       "      <th>0</th>\n",
       "      <td>2023-09-03</td>\n",
       "      <td>1</td>\n",
       "      <td>baa baa</td>\n",
       "      <td>sounds</td>\n",
       "      <td>0.47</td>\n",
       "      <td>0.52</td>\n",
       "      <td>0.56</td>\n",
       "      <td>0.67</td>\n",
       "      <td>0.71</td>\n",
       "      <td>0.70</td>\n",
       "      <td>0.68</td>\n",
       "      <td>0.78</td>\n",
       "      <td>0.78</td>\n",
       "      <td>0.80</td>\n",
       "      <td>0.80</td>\n",
       "      <td>0.84</td>\n",
       "      <td>0.89</td>\n",
       "      <td>0.80</td>\n",
       "      <td>0.82</td>\n",
       "    </tr>\n",
       "    <tr>\n",
       "      <th>1</th>\n",
       "      <td>2023-09-03</td>\n",
       "      <td>2</td>\n",
       "      <td>choo choo</td>\n",
       "      <td>sounds</td>\n",
       "      <td>0.21</td>\n",
       "      <td>0.32</td>\n",
       "      <td>0.39</td>\n",
       "      <td>0.52</td>\n",
       "      <td>0.58</td>\n",
       "      <td>0.60</td>\n",
       "      <td>0.65</td>\n",
       "      <td>0.70</td>\n",
       "      <td>0.76</td>\n",
       "      <td>0.84</td>\n",
       "      <td>0.81</td>\n",
       "      <td>0.85</td>\n",
       "      <td>0.92</td>\n",
       "      <td>0.85</td>\n",
       "      <td>0.89</td>\n",
       "    </tr>\n",
       "    <tr>\n",
       "      <th>2</th>\n",
       "      <td>2023-09-03</td>\n",
       "      <td>3</td>\n",
       "      <td>cockadoodledoo</td>\n",
       "      <td>sounds</td>\n",
       "      <td>0.12</td>\n",
       "      <td>0.11</td>\n",
       "      <td>0.15</td>\n",
       "      <td>0.23</td>\n",
       "      <td>0.25</td>\n",
       "      <td>0.31</td>\n",
       "      <td>0.34</td>\n",
       "      <td>0.37</td>\n",
       "      <td>0.44</td>\n",
       "      <td>0.48</td>\n",
       "      <td>0.50</td>\n",
       "      <td>0.54</td>\n",
       "      <td>0.71</td>\n",
       "      <td>0.54</td>\n",
       "      <td>0.60</td>\n",
       "    </tr>\n",
       "    <tr>\n",
       "      <th>3</th>\n",
       "      <td>2023-09-03</td>\n",
       "      <td>4</td>\n",
       "      <td>grrr</td>\n",
       "      <td>sounds</td>\n",
       "      <td>0.48</td>\n",
       "      <td>0.49</td>\n",
       "      <td>0.55</td>\n",
       "      <td>0.64</td>\n",
       "      <td>0.65</td>\n",
       "      <td>0.67</td>\n",
       "      <td>0.65</td>\n",
       "      <td>0.74</td>\n",
       "      <td>0.77</td>\n",
       "      <td>0.78</td>\n",
       "      <td>0.76</td>\n",
       "      <td>0.80</td>\n",
       "      <td>0.90</td>\n",
       "      <td>0.79</td>\n",
       "      <td>0.82</td>\n",
       "    </tr>\n",
       "    <tr>\n",
       "      <th>4</th>\n",
       "      <td>2023-09-03</td>\n",
       "      <td>5</td>\n",
       "      <td>meow</td>\n",
       "      <td>sounds</td>\n",
       "      <td>0.41</td>\n",
       "      <td>0.48</td>\n",
       "      <td>0.56</td>\n",
       "      <td>0.68</td>\n",
       "      <td>0.71</td>\n",
       "      <td>0.78</td>\n",
       "      <td>0.77</td>\n",
       "      <td>0.81</td>\n",
       "      <td>0.86</td>\n",
       "      <td>0.89</td>\n",
       "      <td>0.88</td>\n",
       "      <td>0.92</td>\n",
       "      <td>0.96</td>\n",
       "      <td>0.91</td>\n",
       "      <td>0.93</td>\n",
       "    </tr>\n",
       "  </tbody>\n",
       "</table>\n",
       "</div>"
      ],
      "text/plain": [
       "   downloaded  item_id item_definition category    16    17    18    19    20  \\\n",
       "0  2023-09-03        1         baa baa   sounds  0.47  0.52  0.56  0.67  0.71   \n",
       "1  2023-09-03        2       choo choo   sounds  0.21  0.32  0.39  0.52  0.58   \n",
       "2  2023-09-03        3  cockadoodledoo   sounds  0.12  0.11  0.15  0.23  0.25   \n",
       "3  2023-09-03        4            grrr   sounds  0.48  0.49  0.55  0.64  0.65   \n",
       "4  2023-09-03        5            meow   sounds  0.41  0.48  0.56  0.68  0.71   \n",
       "\n",
       "     21    22    23    24    25    26    27    28    29    30  \n",
       "0  0.70  0.68  0.78  0.78  0.80  0.80  0.84  0.89  0.80  0.82  \n",
       "1  0.60  0.65  0.70  0.76  0.84  0.81  0.85  0.92  0.85  0.89  \n",
       "2  0.31  0.34  0.37  0.44  0.48  0.50  0.54  0.71  0.54  0.60  \n",
       "3  0.67  0.65  0.74  0.77  0.78  0.76  0.80  0.90  0.79  0.82  \n",
       "4  0.78  0.77  0.81  0.86  0.89  0.88  0.92  0.96  0.91  0.93  "
      ]
     },
     "execution_count": 135,
     "metadata": {},
     "output_type": "execute_result"
    }
   ],
   "source": [
    "print(wordbank_df.shape)\n",
    "wordbank_df.head()"
   ]
  },
  {
   "cell_type": "code",
   "execution_count": 151,
   "metadata": {},
   "outputs": [
    {
     "name": "stdout",
     "output_type": "stream",
     "text": [
      "['baa baa' 'frog' 'firetruck' 'beans' 'juice' 'tuna' 'tights' 'basket'\n",
      " 'penny' 'door' 'ladder' 'farm' 'grandma*' 'peekaboo' 'drink (action)'\n",
      " 'listen' 'stand' 'blue' 'naughty' 'morning' 'you' 'over' 'does']\n"
     ]
    }
   ],
   "source": [
    "wordbank_words = wordbank_df['item_definition'].unique()\n",
    "print(wordbank_words[::30])"
   ]
  },
  {
   "cell_type": "code",
   "execution_count": 152,
   "metadata": {},
   "outputs": [
    {
     "name": "stdout",
     "output_type": "stream",
     "text": [
      "['baa baa', 'frog', 'firetruck', 'beans', 'juice', 'tuna', 'tights', 'basket', 'penny', 'door', 'ladder', 'farm', 'grandma', 'peekaboo', 'drink', 'listen', 'stand', 'blue', 'naughty', 'morning', 'you', 'over', 'does']\n"
     ]
    }
   ],
   "source": [
    "pattern_asterisk = re.compile('\\*')\n",
    "pattern_indicator = re.compile('\\s\\(.*\\)')\n",
    "\n",
    "wordbank_words = [re.sub(pattern_asterisk, '', str(x)) for x in wordbank_words]\n",
    "wordbank_words = [re.sub(pattern_indicator, '', str(x)) for x in wordbank_words]\n",
    "\n",
    "print(wordbank_words[::30])"
   ]
  },
  {
   "cell_type": "code",
   "execution_count": 161,
   "metadata": {},
   "outputs": [],
   "source": [
    "filter_wordbank = (words_df['word'].isin(wordbank_words))\n",
    "filter_wordbank_ext = ~(words_df['word'].isin(wordbank_words))"
   ]
  },
  {
   "cell_type": "code",
   "execution_count": 173,
   "metadata": {},
   "outputs": [
    {
     "name": "stdout",
     "output_type": "stream",
     "text": [
      "477 words match in both\n"
     ]
    },
    {
     "data": {
      "text/html": [
       "<div>\n",
       "<style scoped>\n",
       "    .dataframe tbody tr th:only-of-type {\n",
       "        vertical-align: middle;\n",
       "    }\n",
       "\n",
       "    .dataframe tbody tr th {\n",
       "        vertical-align: top;\n",
       "    }\n",
       "\n",
       "    .dataframe thead th {\n",
       "        text-align: right;\n",
       "    }\n",
       "</style>\n",
       "<table border=\"1\" class=\"dataframe\">\n",
       "  <thead>\n",
       "    <tr style=\"text-align: right;\">\n",
       "      <th></th>\n",
       "      <th>word</th>\n",
       "      <th>count</th>\n",
       "      <th>user</th>\n",
       "    </tr>\n",
       "  </thead>\n",
       "  <tbody>\n",
       "    <tr>\n",
       "      <th>188</th>\n",
       "      <td>a</td>\n",
       "      <td>4</td>\n",
       "      <td>Back ache;Lyokoï;Mathieu Kappler;Nattes à chat</td>\n",
       "    </tr>\n",
       "    <tr>\n",
       "      <th>319</th>\n",
       "      <td>about</td>\n",
       "      <td>3</td>\n",
       "      <td>Back ache;Nattes à chat;She animates</td>\n",
       "    </tr>\n",
       "    <tr>\n",
       "      <th>321</th>\n",
       "      <td>above</td>\n",
       "      <td>2</td>\n",
       "      <td>Back ache;Nattes à chat</td>\n",
       "    </tr>\n",
       "    <tr>\n",
       "      <th>826</th>\n",
       "      <td>after</td>\n",
       "      <td>4</td>\n",
       "      <td>Back ache;Nattes à chat;She animates;Simplific...</td>\n",
       "    </tr>\n",
       "    <tr>\n",
       "      <th>1077</th>\n",
       "      <td>all</td>\n",
       "      <td>7</td>\n",
       "      <td>Back ache;Greenman;Lirazelf;Nattes à chat;Opsy...</td>\n",
       "    </tr>\n",
       "  </tbody>\n",
       "</table>\n",
       "</div>"
      ],
      "text/plain": [
       "       word  count                                               user\n",
       "188       a      4     Back ache;Lyokoï;Mathieu Kappler;Nattes à chat\n",
       "319   about      3               Back ache;Nattes à chat;She animates\n",
       "321   above      2                            Back ache;Nattes à chat\n",
       "826   after      4  Back ache;Nattes à chat;She animates;Simplific...\n",
       "1077    all      7  Back ache;Greenman;Lirazelf;Nattes à chat;Opsy..."
      ]
     },
     "execution_count": 173,
     "metadata": {},
     "output_type": "execute_result"
    }
   ],
   "source": [
    "print(len(words_df[filter_wordbank]), 'words match in both')\n",
    "words_df[filter_wordbank].head()"
   ]
  },
  {
   "attachments": {},
   "cell_type": "markdown",
   "metadata": {},
   "source": [
    "#### Export"
   ]
  },
  {
   "cell_type": "code",
   "execution_count": 214,
   "metadata": {},
   "outputs": [],
   "source": [
    "# words_df[filter_wordbank][['word', 'count']].to_csv('../output/wordbank_crossref.csv')"
   ]
  },
  {
   "attachments": {},
   "cell_type": "markdown",
   "metadata": {},
   "source": [
    "### Closer look at missing terms"
   ]
  },
  {
   "cell_type": "code",
   "execution_count": 180,
   "metadata": {},
   "outputs": [
    {
     "name": "stdout",
     "output_type": "stream",
     "text": [
      "192\n"
     ]
    }
   ],
   "source": [
    "wordbank_missing = list()\n",
    "[wordbank_missing.append(w) for w in wordbank_words if w not in words_df[filter_wordbank]['word'].values]\n",
    "print(len(wordbank_missing))"
   ]
  },
  {
   "cell_type": "code",
   "execution_count": 182,
   "metadata": {},
   "outputs": [
    {
     "name": "stdout",
     "output_type": "stream",
     "text": [
      "['baa baa', 'choo choo', 'cockadoodledoo', 'quack quack', 'uh oh', 'woof woof', 'yum yum', 'ant', 'bee', 'cow', 'donkey', 'frog', 'giraffe', 'goose', 'kitty', 'lamb', 'moose', 'mouse', 'owl', 'pony', 'puppy', 'rooster', 'teddybear', 'tiger', 'turtle', 'wolf', 'airplane', 'firetruck', 'helicopter', 'sled', 'stroller', 'tractor', 'tricycle', 'truck', 'balloon', 'bat', 'bubbles', 'chalk', 'doll', 'play dough', 'puzzle', 'toy', 'applesauce', 'beans', 'butter', 'candy', 'carrots', 'cereal', 'cheerios', 'coke', 'donut', 'green beans', 'gum', 'ice cream', 'jello', 'lollipop', 'muffin', 'noodles', 'nuts', 'peas', 'peanut butter', 'pickle', 'popsicle', 'potato chip', 'pretzel', 'raisin', 'sandwich', 'sauce', 'soda/pop', 'toast', 'tuna', 'vanilla', 'belt', 'bib', 'boots', 'button', 'diaper', 'gloves', 'mittens', 'pajamas', 'pants', 'slipper', 'sneaker', 'snowsuit', 'ankle', 'belly button', 'buttocks/bottom', 'cheek', 'chin', 'lips', 'owie/boo boo', 'tummy', 'vagina', 'blanket', 'broom', 'garbage', 'jar', 'keys', 'mop', 'nail', 'penny', 'purse', 'tape', 'tissue/kleenex', 'toothbrush', 'towel', 'trash', 'tray', 'basement', 'bathroom', 'bench', 'couch', 'crib', 'drawer', 'high chair', 'oven', 'play pen', 'porch', 'rocking chair', 'refrigerator', 'shower', 'sofa', 'stairs', 'stove', 'TV', 'lawn mower', 'roof', 'sandbox', 'shovel', 'sidewalk', 'slide', 'snowman', 'church', 'circus', 'movie', 'playground', 'woods', 'zoo', \"babysitter's name\", 'cowboy', 'mommy', \"child's own name\", \"pet's name\", 'give me five!', 'gonna get you!', 'go potty', 'lunch', 'night night', 'pattycake', 'peekaboo', 'shh/shush/hush', 'so big!', 'thank you', 'this little piggy', 'turn around', 'bump', 'hug', 'kiss', 'lick', 'pretend', 'rip', 'skate', 'slide', 'spill', 'splash', 'sweep', 'wipe', 'all gone', 'awake', 'gentle', 'loud', 'mad', 'naughty', 'noisy', 'sleepy', 'thirsty', 'tired', 'yucky', 'I', 'beside', 'inside/in', 'on top of', 'a lot', 'did/did ya', \"don't\", 'gonna/going to', 'gotta/got to', 'hafta/have to', 'lemme/let me', 'need/need to', 'try/try to', 'wanna/want to']\n"
     ]
    }
   ],
   "source": [
    "print(wordbank_missing)"
   ]
  },
  {
   "cell_type": "code",
   "execution_count": 207,
   "metadata": {},
   "outputs": [
    {
     "data": {
      "text/html": [
       "<div>\n",
       "<style scoped>\n",
       "    .dataframe tbody tr th:only-of-type {\n",
       "        vertical-align: middle;\n",
       "    }\n",
       "\n",
       "    .dataframe tbody tr th {\n",
       "        vertical-align: top;\n",
       "    }\n",
       "\n",
       "    .dataframe thead th {\n",
       "        text-align: right;\n",
       "    }\n",
       "</style>\n",
       "<table border=\"1\" class=\"dataframe\">\n",
       "  <thead>\n",
       "    <tr style=\"text-align: right;\">\n",
       "      <th></th>\n",
       "      <th>word</th>\n",
       "      <th>count</th>\n",
       "      <th>user</th>\n",
       "    </tr>\n",
       "  </thead>\n",
       "  <tbody>\n",
       "    <tr>\n",
       "      <th>10922</th>\n",
       "      <td>gotta</td>\n",
       "      <td>2</td>\n",
       "      <td>Back ache;Vealhurl</td>\n",
       "    </tr>\n",
       "  </tbody>\n",
       "</table>\n",
       "</div>"
      ],
      "text/plain": [
       "        word  count                user\n",
       "10922  gotta      2  Back ache;Vealhurl"
      ]
     },
     "execution_count": 207,
     "metadata": {},
     "output_type": "execute_result"
    }
   ],
   "source": [
    "filter_gotta = (words_df['word'] == 'gotta')\n",
    "\n",
    "words_df[filter_gotta]"
   ]
  },
  {
   "cell_type": "code",
   "execution_count": 209,
   "metadata": {},
   "outputs": [
    {
     "data": {
      "text/html": [
       "<div>\n",
       "<style scoped>\n",
       "    .dataframe tbody tr th:only-of-type {\n",
       "        vertical-align: middle;\n",
       "    }\n",
       "\n",
       "    .dataframe tbody tr th {\n",
       "        vertical-align: top;\n",
       "    }\n",
       "\n",
       "    .dataframe thead th {\n",
       "        text-align: right;\n",
       "    }\n",
       "</style>\n",
       "<table border=\"1\" class=\"dataframe\">\n",
       "  <thead>\n",
       "    <tr style=\"text-align: right;\">\n",
       "      <th></th>\n",
       "      <th>path</th>\n",
       "      <th>name</th>\n",
       "      <th>count</th>\n",
       "    </tr>\n",
       "  </thead>\n",
       "  <tbody>\n",
       "  </tbody>\n",
       "</table>\n",
       "</div>"
      ],
      "text/plain": [
       "Empty DataFrame\n",
       "Columns: [path, name, count]\n",
       "Index: []"
      ]
     },
     "execution_count": 209,
     "metadata": {},
     "output_type": "execute_result"
    }
   ],
   "source": [
    "filter_gotto = (recordings_df['name'] == 'got to')\n",
    "\n",
    "recordings_df[filter_gotto]"
   ]
  },
  {
   "cell_type": "code",
   "execution_count": 210,
   "metadata": {},
   "outputs": [
    {
     "data": {
      "text/html": [
       "<div>\n",
       "<style scoped>\n",
       "    .dataframe tbody tr th:only-of-type {\n",
       "        vertical-align: middle;\n",
       "    }\n",
       "\n",
       "    .dataframe tbody tr th {\n",
       "        vertical-align: top;\n",
       "    }\n",
       "\n",
       "    .dataframe thead th {\n",
       "        text-align: right;\n",
       "    }\n",
       "</style>\n",
       "<table border=\"1\" class=\"dataframe\">\n",
       "  <thead>\n",
       "    <tr style=\"text-align: right;\">\n",
       "      <th></th>\n",
       "      <th>path</th>\n",
       "      <th>name</th>\n",
       "      <th>count</th>\n",
       "    </tr>\n",
       "  </thead>\n",
       "  <tbody>\n",
       "    <tr>\n",
       "      <th>3823</th>\n",
       "      <td>Back ache</td>\n",
       "      <td>got</td>\n",
       "      <td>1</td>\n",
       "    </tr>\n",
       "    <tr>\n",
       "      <th>12593</th>\n",
       "      <td>Semperosculto</td>\n",
       "      <td>got</td>\n",
       "      <td>1</td>\n",
       "    </tr>\n",
       "    <tr>\n",
       "      <th>12828</th>\n",
       "      <td>She animates</td>\n",
       "      <td>got</td>\n",
       "      <td>1</td>\n",
       "    </tr>\n",
       "  </tbody>\n",
       "</table>\n",
       "</div>"
      ],
      "text/plain": [
       "                path name  count\n",
       "3823       Back ache  got      1\n",
       "12593  Semperosculto  got      1\n",
       "12828   She animates  got      1"
      ]
     },
     "execution_count": 210,
     "metadata": {},
     "output_type": "execute_result"
    }
   ],
   "source": [
    "filter_got = (recordings_df['name'] == 'got')\n",
    "\n",
    "recordings_df[filter_got]"
   ]
  },
  {
   "attachments": {},
   "cell_type": "markdown",
   "metadata": {},
   "source": [
    "#### Future notes"
   ]
  },
  {
   "attachments": {},
   "cell_type": "markdown",
   "metadata": {},
   "source": [
    "Make sure to include these by splitting strings at \"/\" and deleting any \" to\"'s?\n",
    "\n",
    "If we want to have speaking exercises for these, that is - it is either slang (\"gonna\") or the bare infinitive form (vs. the more common/instinctual to-infinitive etc.)."
   ]
  }
 ],
 "metadata": {
  "kernelspec": {
   "display_name": "Python 3",
   "language": "python",
   "name": "python3"
  },
  "language_info": {
   "codemirror_mode": {
    "name": "ipython",
    "version": 3
   },
   "file_extension": ".py",
   "mimetype": "text/x-python",
   "name": "python",
   "nbconvert_exporter": "python",
   "pygments_lexer": "ipython3",
   "version": "3.8.10"
  },
  "orig_nbformat": 4,
  "vscode": {
   "interpreter": {
    "hash": "31f2aee4e71d21fbe5cf8b01ff0e069b9275f58929596ceb00d14d90e3e16cd6"
   }
  }
 },
 "nbformat": 4,
 "nbformat_minor": 2
}
