{
 "cells": [
  {
   "cell_type": "code",
   "execution_count": 44,
   "metadata": {},
   "outputs": [],
   "source": [
    "import pandas as pd\n",
    "import numpy as np\n",
    "import re"
   ]
  },
  {
   "cell_type": "code",
   "execution_count": 45,
   "metadata": {},
   "outputs": [],
   "source": [
    "pd.set_option(\"display.max_columns\", 85)\n",
    "pd.set_option(\"display.max_rows\", 85)"
   ]
  },
  {
   "attachments": {},
   "cell_type": "markdown",
   "metadata": {},
   "source": [
    "### Talkapalooza - TL BL SS 23"
   ]
  },
  {
   "attachments": {},
   "cell_type": "markdown",
   "metadata": {},
   "source": [
    "# Data preparation:"
   ]
  },
  {
   "attachments": {},
   "cell_type": "markdown",
   "metadata": {},
   "source": [
    "As a source of audio files for single word recordings, I downloaded the English language dataset from [Lingualibre's Languages Gallery](https://lingualibre.org/wiki/LinguaLibre:About). LinguaLibre is a project by Wikimédia France to collectively and collaboratively preserve and provide oral recordings of languages across the globe.\n",
    "\n",
    "The English dataset consists of recordings provided by 109 unique speakers, amassing about 33 100 recordings covering 29 000 unique words. About 75% of recordings were provided by male speakers.\n",
    "\n",
    "To have an overview over the pronunciations provided, as well as to know for which there are several recordings, some data preparation and analysis has to be performed."
   ]
  },
  {
   "attachments": {},
   "cell_type": "markdown",
   "metadata": {},
   "source": [
    "## Exploring the dataset:"
   ]
  },
  {
   "cell_type": "code",
   "execution_count": 46,
   "metadata": {},
   "outputs": [],
   "source": [
    "import os\n",
    "\n",
    "root = \"../.source/lingualibre_en/\""
   ]
  },
  {
   "cell_type": "code",
   "execution_count": 58,
   "metadata": {},
   "outputs": [
    {
     "data": {
      "text/html": [
       "<div>\n",
       "<style scoped>\n",
       "    .dataframe tbody tr th:only-of-type {\n",
       "        vertical-align: middle;\n",
       "    }\n",
       "\n",
       "    .dataframe tbody tr th {\n",
       "        vertical-align: top;\n",
       "    }\n",
       "\n",
       "    .dataframe thead th {\n",
       "        text-align: right;\n",
       "    }\n",
       "</style>\n",
       "<table border=\"1\" class=\"dataframe\">\n",
       "  <thead>\n",
       "    <tr style=\"text-align: right;\">\n",
       "      <th></th>\n",
       "      <th>path</th>\n",
       "      <th>name</th>\n",
       "    </tr>\n",
       "  </thead>\n",
       "  <tbody>\n",
       "  </tbody>\n",
       "</table>\n",
       "</div>"
      ],
      "text/plain": [
       "Empty DataFrame\n",
       "Columns: [path, name]\n",
       "Index: []"
      ]
     },
     "execution_count": 58,
     "metadata": {},
     "output_type": "execute_result"
    }
   ],
   "source": [
    "recordings_df = pd.DataFrame(columns=['path', 'name'])\n",
    "recordings_df.head()"
   ]
  },
  {
   "cell_type": "code",
   "execution_count": 69,
   "metadata": {},
   "outputs": [],
   "source": [
    "for path, subdirs, files in os.walk(root):\n",
    "    for name in files:\n",
    "        temp_df = pd.DataFrame([[path, name]], columns=['path', 'name'])\n",
    "        recordings_df= pd.concat([recordings_df, temp_df])"
   ]
  },
  {
   "cell_type": "code",
   "execution_count": 93,
   "metadata": {},
   "outputs": [],
   "source": [
    "recordings_df = recordings_df.reset_index()\n",
    "recordings_df = recordings_df.drop('index', axis=1)"
   ]
  },
  {
   "cell_type": "code",
   "execution_count": 102,
   "metadata": {},
   "outputs": [
    {
     "data": {
      "text/plain": [
       "(31756, 2)"
      ]
     },
     "execution_count": 102,
     "metadata": {},
     "output_type": "execute_result"
    }
   ],
   "source": [
    "recordings_df.shape"
   ]
  },
  {
   "cell_type": "code",
   "execution_count": 101,
   "metadata": {},
   "outputs": [
    {
     "data": {
      "text/html": [
       "<div>\n",
       "<style scoped>\n",
       "    .dataframe tbody tr th:only-of-type {\n",
       "        vertical-align: middle;\n",
       "    }\n",
       "\n",
       "    .dataframe tbody tr th {\n",
       "        vertical-align: top;\n",
       "    }\n",
       "\n",
       "    .dataframe thead th {\n",
       "        text-align: right;\n",
       "    }\n",
       "</style>\n",
       "<table border=\"1\" class=\"dataframe\">\n",
       "  <thead>\n",
       "    <tr style=\"text-align: right;\">\n",
       "      <th></th>\n",
       "      <th>path</th>\n",
       "      <th>name</th>\n",
       "    </tr>\n",
       "  </thead>\n",
       "  <tbody>\n",
       "    <tr>\n",
       "      <th>0</th>\n",
       "      <td>../.source/lingualibre_en/Eric.LEWIN</td>\n",
       "      <td>TBD.ogg</td>\n",
       "    </tr>\n",
       "    <tr>\n",
       "      <th>50</th>\n",
       "      <td>../.source/lingualibre_en/Fredericknoronha</td>\n",
       "      <td>Rosary College of Commerce and Arts.ogg</td>\n",
       "    </tr>\n",
       "    <tr>\n",
       "      <th>100</th>\n",
       "      <td>../.source/lingualibre_en/Opsylac</td>\n",
       "      <td>they.ogg</td>\n",
       "    </tr>\n",
       "    <tr>\n",
       "      <th>150</th>\n",
       "      <td>../.source/lingualibre_en/I learned some phrases</td>\n",
       "      <td>chary.ogg</td>\n",
       "    </tr>\n",
       "    <tr>\n",
       "      <th>200</th>\n",
       "      <td>../.source/lingualibre_en/I learned some phrases</td>\n",
       "      <td>sear.ogg</td>\n",
       "    </tr>\n",
       "    <tr>\n",
       "      <th>250</th>\n",
       "      <td>../.source/lingualibre_en/I learned some phrases</td>\n",
       "      <td>rusts.ogg</td>\n",
       "    </tr>\n",
       "    <tr>\n",
       "      <th>300</th>\n",
       "      <td>../.source/lingualibre_en/I learned some phrases</td>\n",
       "      <td>obligatory.ogg</td>\n",
       "    </tr>\n",
       "    <tr>\n",
       "      <th>350</th>\n",
       "      <td>../.source/lingualibre_en/I learned some phrases</td>\n",
       "      <td>quintessential.ogg</td>\n",
       "    </tr>\n",
       "    <tr>\n",
       "      <th>400</th>\n",
       "      <td>../.source/lingualibre_en/I learned some phrases</td>\n",
       "      <td>philately.ogg</td>\n",
       "    </tr>\n",
       "    <tr>\n",
       "      <th>450</th>\n",
       "      <td>../.source/lingualibre_en/I learned some phrases</td>\n",
       "      <td>fresco.ogg</td>\n",
       "    </tr>\n",
       "    <tr>\n",
       "      <th>500</th>\n",
       "      <td>../.source/lingualibre_en/I learned some phrases</td>\n",
       "      <td>calabash.ogg</td>\n",
       "    </tr>\n",
       "    <tr>\n",
       "      <th>550</th>\n",
       "      <td>../.source/lingualibre_en/I learned some phrases</td>\n",
       "      <td>sericulture.ogg</td>\n",
       "    </tr>\n",
       "    <tr>\n",
       "      <th>600</th>\n",
       "      <td>../.source/lingualibre_en/I learned some phrases</td>\n",
       "      <td>Gilgamesh.ogg</td>\n",
       "    </tr>\n",
       "    <tr>\n",
       "      <th>650</th>\n",
       "      <td>../.source/lingualibre_en/I learned some phrases</td>\n",
       "      <td>Lancashire.ogg</td>\n",
       "    </tr>\n",
       "    <tr>\n",
       "      <th>700</th>\n",
       "      <td>../.source/lingualibre_en/John Adams VI</td>\n",
       "      <td>Michael Bay.ogg</td>\n",
       "    </tr>\n",
       "    <tr>\n",
       "      <th>750</th>\n",
       "      <td>../.source/lingualibre_en/John Adams VI</td>\n",
       "      <td>Gordon Parks.ogg</td>\n",
       "    </tr>\n",
       "    <tr>\n",
       "      <th>800</th>\n",
       "      <td>../.source/lingualibre_en/John Adams VI</td>\n",
       "      <td>Donald Sutherland.ogg</td>\n",
       "    </tr>\n",
       "    <tr>\n",
       "      <th>850</th>\n",
       "      <td>../.source/lingualibre_en/John.d.new77</td>\n",
       "      <td>Owasso.ogg</td>\n",
       "    </tr>\n",
       "    <tr>\n",
       "      <th>900</th>\n",
       "      <td>../.source/lingualibre_en/Benluks</td>\n",
       "      <td>clavicle.ogg</td>\n",
       "    </tr>\n",
       "    <tr>\n",
       "      <th>950</th>\n",
       "      <td>../.source/lingualibre_en/Rho9998</td>\n",
       "      <td>Eltham.ogg</td>\n",
       "    </tr>\n",
       "    <tr>\n",
       "      <th>1000</th>\n",
       "      <td>../.source/lingualibre_en/Rho9998</td>\n",
       "      <td>pathosphere.ogg</td>\n",
       "    </tr>\n",
       "    <tr>\n",
       "      <th>1050</th>\n",
       "      <td>../.source/lingualibre_en/Rho9998</td>\n",
       "      <td>vulpicide.ogg</td>\n",
       "    </tr>\n",
       "    <tr>\n",
       "      <th>1100</th>\n",
       "      <td>../.source/lingualibre_en/Rho9998</td>\n",
       "      <td>Trumpdom.ogg</td>\n",
       "    </tr>\n",
       "    <tr>\n",
       "      <th>1150</th>\n",
       "      <td>../.source/lingualibre_en/Rho9998</td>\n",
       "      <td>gliosphere.ogg</td>\n",
       "    </tr>\n",
       "    <tr>\n",
       "      <th>1200</th>\n",
       "      <td>../.source/lingualibre_en/Rho9998</td>\n",
       "      <td>Cuppers.ogg</td>\n",
       "    </tr>\n",
       "    <tr>\n",
       "      <th>1250</th>\n",
       "      <td>../.source/lingualibre_en/Rho9998</td>\n",
       "      <td>Googleverse.ogg</td>\n",
       "    </tr>\n",
       "    <tr>\n",
       "      <th>1300</th>\n",
       "      <td>../.source/lingualibre_en/I JethroBT</td>\n",
       "      <td>Buckingham Friends Meeting House.ogg</td>\n",
       "    </tr>\n",
       "    <tr>\n",
       "      <th>1350</th>\n",
       "      <td>../.source/lingualibre_en/I JethroBT</td>\n",
       "      <td>Doylestown Historic District.ogg</td>\n",
       "    </tr>\n",
       "    <tr>\n",
       "      <th>1400</th>\n",
       "      <td>../.source/lingualibre_en/I JethroBT</td>\n",
       "      <td>Lane Park.ogg</td>\n",
       "    </tr>\n",
       "    <tr>\n",
       "      <th>1450</th>\n",
       "      <td>../.source/lingualibre_en/I JethroBT</td>\n",
       "      <td>Font Hill County Park.ogg</td>\n",
       "    </tr>\n",
       "  </tbody>\n",
       "</table>\n",
       "</div>"
      ],
      "text/plain": [
       "                                                  path  \\\n",
       "0                 ../.source/lingualibre_en/Eric.LEWIN   \n",
       "50          ../.source/lingualibre_en/Fredericknoronha   \n",
       "100                  ../.source/lingualibre_en/Opsylac   \n",
       "150   ../.source/lingualibre_en/I learned some phrases   \n",
       "200   ../.source/lingualibre_en/I learned some phrases   \n",
       "250   ../.source/lingualibre_en/I learned some phrases   \n",
       "300   ../.source/lingualibre_en/I learned some phrases   \n",
       "350   ../.source/lingualibre_en/I learned some phrases   \n",
       "400   ../.source/lingualibre_en/I learned some phrases   \n",
       "450   ../.source/lingualibre_en/I learned some phrases   \n",
       "500   ../.source/lingualibre_en/I learned some phrases   \n",
       "550   ../.source/lingualibre_en/I learned some phrases   \n",
       "600   ../.source/lingualibre_en/I learned some phrases   \n",
       "650   ../.source/lingualibre_en/I learned some phrases   \n",
       "700            ../.source/lingualibre_en/John Adams VI   \n",
       "750            ../.source/lingualibre_en/John Adams VI   \n",
       "800            ../.source/lingualibre_en/John Adams VI   \n",
       "850             ../.source/lingualibre_en/John.d.new77   \n",
       "900                  ../.source/lingualibre_en/Benluks   \n",
       "950                  ../.source/lingualibre_en/Rho9998   \n",
       "1000                 ../.source/lingualibre_en/Rho9998   \n",
       "1050                 ../.source/lingualibre_en/Rho9998   \n",
       "1100                 ../.source/lingualibre_en/Rho9998   \n",
       "1150                 ../.source/lingualibre_en/Rho9998   \n",
       "1200                 ../.source/lingualibre_en/Rho9998   \n",
       "1250                 ../.source/lingualibre_en/Rho9998   \n",
       "1300              ../.source/lingualibre_en/I JethroBT   \n",
       "1350              ../.source/lingualibre_en/I JethroBT   \n",
       "1400              ../.source/lingualibre_en/I JethroBT   \n",
       "1450              ../.source/lingualibre_en/I JethroBT   \n",
       "\n",
       "                                         name  \n",
       "0                                     TBD.ogg  \n",
       "50    Rosary College of Commerce and Arts.ogg  \n",
       "100                                  they.ogg  \n",
       "150                                 chary.ogg  \n",
       "200                                  sear.ogg  \n",
       "250                                 rusts.ogg  \n",
       "300                            obligatory.ogg  \n",
       "350                        quintessential.ogg  \n",
       "400                             philately.ogg  \n",
       "450                                fresco.ogg  \n",
       "500                              calabash.ogg  \n",
       "550                           sericulture.ogg  \n",
       "600                             Gilgamesh.ogg  \n",
       "650                            Lancashire.ogg  \n",
       "700                           Michael Bay.ogg  \n",
       "750                          Gordon Parks.ogg  \n",
       "800                     Donald Sutherland.ogg  \n",
       "850                                Owasso.ogg  \n",
       "900                              clavicle.ogg  \n",
       "950                                Eltham.ogg  \n",
       "1000                          pathosphere.ogg  \n",
       "1050                            vulpicide.ogg  \n",
       "1100                             Trumpdom.ogg  \n",
       "1150                           gliosphere.ogg  \n",
       "1200                              Cuppers.ogg  \n",
       "1250                          Googleverse.ogg  \n",
       "1300     Buckingham Friends Meeting House.ogg  \n",
       "1350         Doylestown Historic District.ogg  \n",
       "1400                            Lane Park.ogg  \n",
       "1450                Font Hill County Park.ogg  "
      ]
     },
     "execution_count": 101,
     "metadata": {},
     "output_type": "execute_result"
    }
   ],
   "source": [
    "recordings_df[::50].head(30)"
   ]
  }
 ],
 "metadata": {
  "kernelspec": {
   "display_name": "Python 3",
   "language": "python",
   "name": "python3"
  },
  "language_info": {
   "codemirror_mode": {
    "name": "ipython",
    "version": 3
   },
   "file_extension": ".py",
   "mimetype": "text/x-python",
   "name": "python",
   "nbconvert_exporter": "python",
   "pygments_lexer": "ipython3",
   "version": "3.8.10"
  },
  "orig_nbformat": 4,
  "vscode": {
   "interpreter": {
    "hash": "31f2aee4e71d21fbe5cf8b01ff0e069b9275f58929596ceb00d14d90e3e16cd6"
   }
  }
 },
 "nbformat": 4,
 "nbformat_minor": 2
}
