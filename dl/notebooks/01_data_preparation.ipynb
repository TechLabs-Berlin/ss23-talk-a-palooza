{
 "cells": [
  {
   "cell_type": "code",
   "execution_count": 44,
   "metadata": {},
   "outputs": [],
   "source": [
    "import pandas as pd\n",
    "import numpy as np\n",
    "import re"
   ]
  },
  {
   "cell_type": "code",
   "execution_count": 45,
   "metadata": {},
   "outputs": [],
   "source": [
    "pd.set_option(\"display.max_columns\", 85)\n",
    "pd.set_option(\"display.max_rows\", 85)"
   ]
  },
  {
   "attachments": {},
   "cell_type": "markdown",
   "metadata": {},
   "source": [
    "### Talkapalooza - TL BL SS 23"
   ]
  },
  {
   "attachments": {},
   "cell_type": "markdown",
   "metadata": {},
   "source": [
    "# Data preparation:"
   ]
  },
  {
   "attachments": {},
   "cell_type": "markdown",
   "metadata": {},
   "source": [
    "As a source of audio files for single word recordings, I downloaded the English language dataset from [Lingualibre's Languages Gallery](https://lingualibre.org/wiki/LinguaLibre:About). LinguaLibre is a project by Wikimédia France to collectively and collaboratively preserve and provide oral recordings of languages across the globe.\n",
    "\n",
    "The English dataset consists of recordings provided by 109 unique speakers, amassing about 33 100 recordings covering 29 000 unique words. About 75% of recordings were provided by male speakers.\n",
    "\n",
    "To have an overview over the pronunciations provided, as well as to know for which there are several recordings, some data preparation and analysis has to be performed."
   ]
  },
  {
   "attachments": {},
   "cell_type": "markdown",
   "metadata": {},
   "source": [
    "## Exploring the dataset:"
   ]
  },
  {
   "attachments": {},
   "cell_type": "markdown",
   "metadata": {},
   "source": [
    "The dataset is downloaded as a folder with several subdirectories and files. Each subdirectory represents a user's recordings and file names describe the word recorded."
   ]
  },
  {
   "attachments": {},
   "cell_type": "markdown",
   "metadata": {},
   "source": [
    "### You better walk that OS"
   ]
  },
  {
   "cell_type": "code",
   "execution_count": 46,
   "metadata": {},
   "outputs": [],
   "source": [
    "import os\n",
    "\n",
    "root = \"../.source/lingualibre_en/\""
   ]
  },
  {
   "cell_type": "code",
   "execution_count": 58,
   "metadata": {},
   "outputs": [
    {
     "data": {
      "text/html": [
       "<div>\n",
       "<style scoped>\n",
       "    .dataframe tbody tr th:only-of-type {\n",
       "        vertical-align: middle;\n",
       "    }\n",
       "\n",
       "    .dataframe tbody tr th {\n",
       "        vertical-align: top;\n",
       "    }\n",
       "\n",
       "    .dataframe thead th {\n",
       "        text-align: right;\n",
       "    }\n",
       "</style>\n",
       "<table border=\"1\" class=\"dataframe\">\n",
       "  <thead>\n",
       "    <tr style=\"text-align: right;\">\n",
       "      <th></th>\n",
       "      <th>path</th>\n",
       "      <th>name</th>\n",
       "    </tr>\n",
       "  </thead>\n",
       "  <tbody>\n",
       "  </tbody>\n",
       "</table>\n",
       "</div>"
      ],
      "text/plain": [
       "Empty DataFrame\n",
       "Columns: [path, name]\n",
       "Index: []"
      ]
     },
     "execution_count": 58,
     "metadata": {},
     "output_type": "execute_result"
    }
   ],
   "source": [
    "recordings_df = pd.DataFrame(columns=['path', 'name'])\n",
    "recordings_df.head()"
   ]
  },
  {
   "attachments": {},
   "cell_type": "markdown",
   "metadata": {},
   "source": [
    "Treat subdirs?"
   ]
  },
  {
   "cell_type": "code",
   "execution_count": 69,
   "metadata": {},
   "outputs": [],
   "source": [
    "for path, subdirs, files in os.walk(root):\n",
    "    for name in files:\n",
    "        temp_df = pd.DataFrame([[path, name]], columns=['path', 'name'])\n",
    "        recordings_df= pd.concat([recordings_df, temp_df])"
   ]
  },
  {
   "cell_type": "code",
   "execution_count": 93,
   "metadata": {},
   "outputs": [],
   "source": [
    "recordings_df = recordings_df.reset_index()\n",
    "recordings_df = recordings_df.drop('index', axis=1)"
   ]
  },
  {
   "cell_type": "code",
   "execution_count": 102,
   "metadata": {},
   "outputs": [
    {
     "data": {
      "text/plain": [
       "(31756, 2)"
      ]
     },
     "execution_count": 102,
     "metadata": {},
     "output_type": "execute_result"
    }
   ],
   "source": [
    "recordings_df.shape"
   ]
  },
  {
   "cell_type": "code",
   "execution_count": 103,
   "metadata": {},
   "outputs": [
    {
     "data": {
      "text/html": [
       "<div>\n",
       "<style scoped>\n",
       "    .dataframe tbody tr th:only-of-type {\n",
       "        vertical-align: middle;\n",
       "    }\n",
       "\n",
       "    .dataframe tbody tr th {\n",
       "        vertical-align: top;\n",
       "    }\n",
       "\n",
       "    .dataframe thead th {\n",
       "        text-align: right;\n",
       "    }\n",
       "</style>\n",
       "<table border=\"1\" class=\"dataframe\">\n",
       "  <thead>\n",
       "    <tr style=\"text-align: right;\">\n",
       "      <th></th>\n",
       "      <th>path</th>\n",
       "      <th>name</th>\n",
       "    </tr>\n",
       "  </thead>\n",
       "  <tbody>\n",
       "    <tr>\n",
       "      <th>0</th>\n",
       "      <td>../.source/lingualibre_en/Eric.LEWIN</td>\n",
       "      <td>TBD.ogg</td>\n",
       "    </tr>\n",
       "    <tr>\n",
       "      <th>50</th>\n",
       "      <td>../.source/lingualibre_en/Fredericknoronha</td>\n",
       "      <td>Rosary College of Commerce and Arts.ogg</td>\n",
       "    </tr>\n",
       "    <tr>\n",
       "      <th>100</th>\n",
       "      <td>../.source/lingualibre_en/Opsylac</td>\n",
       "      <td>they.ogg</td>\n",
       "    </tr>\n",
       "    <tr>\n",
       "      <th>150</th>\n",
       "      <td>../.source/lingualibre_en/I learned some phrases</td>\n",
       "      <td>chary.ogg</td>\n",
       "    </tr>\n",
       "    <tr>\n",
       "      <th>200</th>\n",
       "      <td>../.source/lingualibre_en/I learned some phrases</td>\n",
       "      <td>sear.ogg</td>\n",
       "    </tr>\n",
       "    <tr>\n",
       "      <th>250</th>\n",
       "      <td>../.source/lingualibre_en/I learned some phrases</td>\n",
       "      <td>rusts.ogg</td>\n",
       "    </tr>\n",
       "    <tr>\n",
       "      <th>300</th>\n",
       "      <td>../.source/lingualibre_en/I learned some phrases</td>\n",
       "      <td>obligatory.ogg</td>\n",
       "    </tr>\n",
       "    <tr>\n",
       "      <th>350</th>\n",
       "      <td>../.source/lingualibre_en/I learned some phrases</td>\n",
       "      <td>quintessential.ogg</td>\n",
       "    </tr>\n",
       "    <tr>\n",
       "      <th>400</th>\n",
       "      <td>../.source/lingualibre_en/I learned some phrases</td>\n",
       "      <td>philately.ogg</td>\n",
       "    </tr>\n",
       "    <tr>\n",
       "      <th>450</th>\n",
       "      <td>../.source/lingualibre_en/I learned some phrases</td>\n",
       "      <td>fresco.ogg</td>\n",
       "    </tr>\n",
       "    <tr>\n",
       "      <th>500</th>\n",
       "      <td>../.source/lingualibre_en/I learned some phrases</td>\n",
       "      <td>calabash.ogg</td>\n",
       "    </tr>\n",
       "    <tr>\n",
       "      <th>550</th>\n",
       "      <td>../.source/lingualibre_en/I learned some phrases</td>\n",
       "      <td>sericulture.ogg</td>\n",
       "    </tr>\n",
       "    <tr>\n",
       "      <th>600</th>\n",
       "      <td>../.source/lingualibre_en/I learned some phrases</td>\n",
       "      <td>Gilgamesh.ogg</td>\n",
       "    </tr>\n",
       "    <tr>\n",
       "      <th>650</th>\n",
       "      <td>../.source/lingualibre_en/I learned some phrases</td>\n",
       "      <td>Lancashire.ogg</td>\n",
       "    </tr>\n",
       "    <tr>\n",
       "      <th>700</th>\n",
       "      <td>../.source/lingualibre_en/John Adams VI</td>\n",
       "      <td>Michael Bay.ogg</td>\n",
       "    </tr>\n",
       "    <tr>\n",
       "      <th>750</th>\n",
       "      <td>../.source/lingualibre_en/John Adams VI</td>\n",
       "      <td>Gordon Parks.ogg</td>\n",
       "    </tr>\n",
       "    <tr>\n",
       "      <th>800</th>\n",
       "      <td>../.source/lingualibre_en/John Adams VI</td>\n",
       "      <td>Donald Sutherland.ogg</td>\n",
       "    </tr>\n",
       "    <tr>\n",
       "      <th>850</th>\n",
       "      <td>../.source/lingualibre_en/John.d.new77</td>\n",
       "      <td>Owasso.ogg</td>\n",
       "    </tr>\n",
       "    <tr>\n",
       "      <th>900</th>\n",
       "      <td>../.source/lingualibre_en/Benluks</td>\n",
       "      <td>clavicle.ogg</td>\n",
       "    </tr>\n",
       "    <tr>\n",
       "      <th>950</th>\n",
       "      <td>../.source/lingualibre_en/Rho9998</td>\n",
       "      <td>Eltham.ogg</td>\n",
       "    </tr>\n",
       "  </tbody>\n",
       "</table>\n",
       "</div>"
      ],
      "text/plain": [
       "                                                 path  \\\n",
       "0                ../.source/lingualibre_en/Eric.LEWIN   \n",
       "50         ../.source/lingualibre_en/Fredericknoronha   \n",
       "100                 ../.source/lingualibre_en/Opsylac   \n",
       "150  ../.source/lingualibre_en/I learned some phrases   \n",
       "200  ../.source/lingualibre_en/I learned some phrases   \n",
       "250  ../.source/lingualibre_en/I learned some phrases   \n",
       "300  ../.source/lingualibre_en/I learned some phrases   \n",
       "350  ../.source/lingualibre_en/I learned some phrases   \n",
       "400  ../.source/lingualibre_en/I learned some phrases   \n",
       "450  ../.source/lingualibre_en/I learned some phrases   \n",
       "500  ../.source/lingualibre_en/I learned some phrases   \n",
       "550  ../.source/lingualibre_en/I learned some phrases   \n",
       "600  ../.source/lingualibre_en/I learned some phrases   \n",
       "650  ../.source/lingualibre_en/I learned some phrases   \n",
       "700           ../.source/lingualibre_en/John Adams VI   \n",
       "750           ../.source/lingualibre_en/John Adams VI   \n",
       "800           ../.source/lingualibre_en/John Adams VI   \n",
       "850            ../.source/lingualibre_en/John.d.new77   \n",
       "900                 ../.source/lingualibre_en/Benluks   \n",
       "950                 ../.source/lingualibre_en/Rho9998   \n",
       "\n",
       "                                        name  \n",
       "0                                    TBD.ogg  \n",
       "50   Rosary College of Commerce and Arts.ogg  \n",
       "100                                 they.ogg  \n",
       "150                                chary.ogg  \n",
       "200                                 sear.ogg  \n",
       "250                                rusts.ogg  \n",
       "300                           obligatory.ogg  \n",
       "350                       quintessential.ogg  \n",
       "400                            philately.ogg  \n",
       "450                               fresco.ogg  \n",
       "500                             calabash.ogg  \n",
       "550                          sericulture.ogg  \n",
       "600                            Gilgamesh.ogg  \n",
       "650                           Lancashire.ogg  \n",
       "700                          Michael Bay.ogg  \n",
       "750                         Gordon Parks.ogg  \n",
       "800                    Donald Sutherland.ogg  \n",
       "850                               Owasso.ogg  \n",
       "900                             clavicle.ogg  \n",
       "950                               Eltham.ogg  "
      ]
     },
     "execution_count": 103,
     "metadata": {},
     "output_type": "execute_result"
    }
   ],
   "source": [
    "recordings_df[::50].head(20)"
   ]
  },
  {
   "attachments": {},
   "cell_type": "markdown",
   "metadata": {},
   "source": [
    "### Clean up"
   ]
  },
  {
   "attachments": {},
   "cell_type": "markdown",
   "metadata": {},
   "source": [
    "Use regex to clean up path and file names. "
   ]
  },
  {
   "cell_type": "code",
   "execution_count": 135,
   "metadata": {},
   "outputs": [],
   "source": [
    "pattern_path = re.compile(\".*/lingualibre_en/\")\n",
    "pattern_name = re.compile(\"\\.ogg\")\n",
    "\n",
    "recordings_df['path'] =  [re.sub(pattern_path, '', str(x)) for x in recordings_df['path']]\n",
    "recordings_df['name'] =  [x.lower() for x in recordings_df['name']]\n",
    "recordings_df['name'] =  [re.sub(pattern_name, '', str(x)) for x in recordings_df['name']]"
   ]
  },
  {
   "cell_type": "code",
   "execution_count": 136,
   "metadata": {},
   "outputs": [
    {
     "data": {
      "text/html": [
       "<div>\n",
       "<style scoped>\n",
       "    .dataframe tbody tr th:only-of-type {\n",
       "        vertical-align: middle;\n",
       "    }\n",
       "\n",
       "    .dataframe tbody tr th {\n",
       "        vertical-align: top;\n",
       "    }\n",
       "\n",
       "    .dataframe thead th {\n",
       "        text-align: right;\n",
       "    }\n",
       "</style>\n",
       "<table border=\"1\" class=\"dataframe\">\n",
       "  <thead>\n",
       "    <tr style=\"text-align: right;\">\n",
       "      <th></th>\n",
       "      <th>path</th>\n",
       "      <th>name</th>\n",
       "    </tr>\n",
       "  </thead>\n",
       "  <tbody>\n",
       "    <tr>\n",
       "      <th>22125</th>\n",
       "      <td>Acadienenexil</td>\n",
       "      <td>dragon</td>\n",
       "    </tr>\n",
       "    <tr>\n",
       "      <th>22124</th>\n",
       "      <td>Acadienenexil</td>\n",
       "      <td>tomorrow</td>\n",
       "    </tr>\n",
       "    <tr>\n",
       "      <th>22126</th>\n",
       "      <td>Acadienenexil</td>\n",
       "      <td>winner</td>\n",
       "    </tr>\n",
       "    <tr>\n",
       "      <th>24542</th>\n",
       "      <td>Accuratecy051</td>\n",
       "      <td>see</td>\n",
       "    </tr>\n",
       "    <tr>\n",
       "      <th>30945</th>\n",
       "      <td>AcpoKrane</td>\n",
       "      <td>navarrese</td>\n",
       "    </tr>\n",
       "  </tbody>\n",
       "</table>\n",
       "</div>"
      ],
      "text/plain": [
       "                path       name\n",
       "22125  Acadienenexil     dragon\n",
       "22124  Acadienenexil   tomorrow\n",
       "22126  Acadienenexil     winner\n",
       "24542  Accuratecy051        see\n",
       "30945      AcpoKrane  navarrese"
      ]
     },
     "execution_count": 136,
     "metadata": {},
     "output_type": "execute_result"
    }
   ],
   "source": [
    "recordings_df.head()"
   ]
  },
  {
   "cell_type": "code",
   "execution_count": 137,
   "metadata": {},
   "outputs": [],
   "source": [
    "recordings_df = recordings_df.sort_values(by=['path', 'name'])"
   ]
  },
  {
   "cell_type": "code",
   "execution_count": 142,
   "metadata": {},
   "outputs": [
    {
     "data": {
      "text/html": [
       "<div>\n",
       "<style scoped>\n",
       "    .dataframe tbody tr th:only-of-type {\n",
       "        vertical-align: middle;\n",
       "    }\n",
       "\n",
       "    .dataframe tbody tr th {\n",
       "        vertical-align: top;\n",
       "    }\n",
       "\n",
       "    .dataframe thead th {\n",
       "        text-align: right;\n",
       "    }\n",
       "</style>\n",
       "<table border=\"1\" class=\"dataframe\">\n",
       "  <thead>\n",
       "    <tr style=\"text-align: right;\">\n",
       "      <th></th>\n",
       "      <th>path</th>\n",
       "      <th>name</th>\n",
       "    </tr>\n",
       "  </thead>\n",
       "  <tbody>\n",
       "    <tr>\n",
       "      <th>22125</th>\n",
       "      <td>Acadienenexil</td>\n",
       "      <td>dragon</td>\n",
       "    </tr>\n",
       "    <tr>\n",
       "      <th>22124</th>\n",
       "      <td>Acadienenexil</td>\n",
       "      <td>tomorrow</td>\n",
       "    </tr>\n",
       "    <tr>\n",
       "      <th>22126</th>\n",
       "      <td>Acadienenexil</td>\n",
       "      <td>winner</td>\n",
       "    </tr>\n",
       "    <tr>\n",
       "      <th>24542</th>\n",
       "      <td>Accuratecy051</td>\n",
       "      <td>see</td>\n",
       "    </tr>\n",
       "    <tr>\n",
       "      <th>30940</th>\n",
       "      <td>AcpoKrane</td>\n",
       "      <td>disproportion</td>\n",
       "    </tr>\n",
       "  </tbody>\n",
       "</table>\n",
       "</div>"
      ],
      "text/plain": [
       "                path           name\n",
       "22125  Acadienenexil         dragon\n",
       "22124  Acadienenexil       tomorrow\n",
       "22126  Acadienenexil         winner\n",
       "24542  Accuratecy051            see\n",
       "30940      AcpoKrane  disproportion"
      ]
     },
     "execution_count": 142,
     "metadata": {},
     "output_type": "execute_result"
    }
   ],
   "source": [
    "recordings_df.head()"
   ]
  },
  {
   "cell_type": "code",
   "execution_count": 143,
   "metadata": {},
   "outputs": [
    {
     "data": {
      "text/html": [
       "<div>\n",
       "<style scoped>\n",
       "    .dataframe tbody tr th:only-of-type {\n",
       "        vertical-align: middle;\n",
       "    }\n",
       "\n",
       "    .dataframe tbody tr th {\n",
       "        vertical-align: top;\n",
       "    }\n",
       "\n",
       "    .dataframe thead th {\n",
       "        text-align: right;\n",
       "    }\n",
       "</style>\n",
       "<table border=\"1\" class=\"dataframe\">\n",
       "  <thead>\n",
       "    <tr style=\"text-align: right;\">\n",
       "      <th></th>\n",
       "      <th>path</th>\n",
       "      <th>name</th>\n",
       "    </tr>\n",
       "  </thead>\n",
       "  <tbody>\n",
       "    <tr>\n",
       "      <th>0</th>\n",
       "      <td>Acadienenexil</td>\n",
       "      <td>dragon</td>\n",
       "    </tr>\n",
       "    <tr>\n",
       "      <th>1</th>\n",
       "      <td>Acadienenexil</td>\n",
       "      <td>tomorrow</td>\n",
       "    </tr>\n",
       "    <tr>\n",
       "      <th>2</th>\n",
       "      <td>Acadienenexil</td>\n",
       "      <td>winner</td>\n",
       "    </tr>\n",
       "    <tr>\n",
       "      <th>3</th>\n",
       "      <td>Accuratecy051</td>\n",
       "      <td>see</td>\n",
       "    </tr>\n",
       "    <tr>\n",
       "      <th>4</th>\n",
       "      <td>AcpoKrane</td>\n",
       "      <td>disproportion</td>\n",
       "    </tr>\n",
       "  </tbody>\n",
       "</table>\n",
       "</div>"
      ],
      "text/plain": [
       "            path           name\n",
       "0  Acadienenexil         dragon\n",
       "1  Acadienenexil       tomorrow\n",
       "2  Acadienenexil         winner\n",
       "3  Accuratecy051            see\n",
       "4      AcpoKrane  disproportion"
      ]
     },
     "execution_count": 143,
     "metadata": {},
     "output_type": "execute_result"
    }
   ],
   "source": [
    "recordings_df = recordings_df.reset_index().drop('index', axis=1)\n",
    "recordings_df.head()"
   ]
  },
  {
   "attachments": {},
   "cell_type": "markdown",
   "metadata": {},
   "source": [
    "### Insights"
   ]
  },
  {
   "attachments": {},
   "cell_type": "markdown",
   "metadata": {},
   "source": [
    "Unique users, find counts of unique words. Ideally we want to work with terms that have multiple recordings available."
   ]
  },
  {
   "cell_type": "code",
   "execution_count": 144,
   "metadata": {},
   "outputs": [
    {
     "data": {
      "text/plain": [
       "(104,)"
      ]
     },
     "execution_count": 144,
     "metadata": {},
     "output_type": "execute_result"
    }
   ],
   "source": [
    "users = recordings_df[\"path\"].unique()\n",
    "users.shape"
   ]
  },
  {
   "attachments": {},
   "cell_type": "markdown",
   "metadata": {},
   "source": [
    "Subdirectories are also present (in any case negligible data for us)."
   ]
  },
  {
   "cell_type": "code",
   "execution_count": 148,
   "metadata": {},
   "outputs": [
    {
     "name": "stdout",
     "output_type": "stream",
     "text": [
      "Acadienenexil | Accuratecy051 | AcpoKrane | Adithyak1997 | Adélaïde Calais WMFr | Ajshul | Ali Farhi | AlpOktem | Amaranorah | Arlo Barnes | Atudu | BANFECE | BANFECE (Sarah Han) | Back ache | Back ache/Attribution | Back ache/singer | Benluks | Benoît Prieur | Berrely | Bibisuccess | Bluerasberry | Brazal.dang | Brian-emurse | Btrombley | CKali | Clifflandis | Cloud atlas | Commander Keane | Daberechi16 | Daniel Mietchen | Darmo117 | Eric.LEWIN | Exilexi | Fake estate | Foobarista2 | Frankincense Diala | Fredericknoronha | Gibraltar Rocks | Graycier | Greenman | Grendelkhan | I JethroBT | I JethroBT/42nd Precinct  | I learned some phrases | Izundu Okechukwu | Jjamesryan | Jmpmann | John Adams VI | John.d.new77 | Jshlanta | Julie Samothrace | Justinrleung | Kasyap | Kateregga1 | Lepticed7 | Lirazelf | Ltrlg | Lyokoï | Mathieu Kappler | Maxewan | Middle river exports (عُثمان) | Mélange a trois | Mélody Xu YANG WMFr | Nattes à chat | Oge ogu | Onuugu | Opsylac | Opsylac (Marie-Sarah) | PRB | PerfectSoundWhatever | PizzaforDerrida | Poslovitch | QueerEcofeminist | RedAuburn | Rho9998 | RiLiu | Rodrigo5260 | Semperosculto | She animates | Simplificationalizer | Skeyapp | SpringProof | StuckInLagToad | Thatfamouseditor | Theallsource (James Barnett) | Tkarcher | Tsaag Valren | Uchembila | Umairdvg | VCcortex | VPaleontologist | Vanderdecken | Vealhurl | Vealhurl/overlight-a | Vininn126 | Vivekteraiyavt | Waveymaster2244 | Weird green frog | WikiLucas00 | Y. Dongchen | Yahya | Yahya (ইয়াহিয়া) | Zenyth1234 | Zērō RTT\n"
     ]
    }
   ],
   "source": [
    "print(*users, sep=\" | \")"
   ]
  },
  {
   "attachments": {},
   "cell_type": "markdown",
   "metadata": {},
   "source": [
    "### Reshape"
   ]
  },
  {
   "attachments": {},
   "cell_type": "markdown",
   "metadata": {},
   "source": [
    "Reshape by looking at words, include count and usernames per word."
   ]
  }
 ],
 "metadata": {
  "kernelspec": {
   "display_name": "Python 3",
   "language": "python",
   "name": "python3"
  },
  "language_info": {
   "codemirror_mode": {
    "name": "ipython",
    "version": 3
   },
   "file_extension": ".py",
   "mimetype": "text/x-python",
   "name": "python",
   "nbconvert_exporter": "python",
   "pygments_lexer": "ipython3",
   "version": "3.8.10"
  },
  "orig_nbformat": 4,
  "vscode": {
   "interpreter": {
    "hash": "31f2aee4e71d21fbe5cf8b01ff0e069b9275f58929596ceb00d14d90e3e16cd6"
   }
  }
 },
 "nbformat": 4,
 "nbformat_minor": 2
}
