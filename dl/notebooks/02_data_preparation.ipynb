{
 "cells": [
  {
   "cell_type": "code",
   "execution_count": 1,
   "metadata": {},
   "outputs": [],
   "source": [
    "import pandas as pd\n",
    "import numpy as np\n",
    "import re"
   ]
  },
  {
   "cell_type": "code",
   "execution_count": 2,
   "metadata": {},
   "outputs": [],
   "source": [
    "pd.set_option(\"display.max_columns\", 85)\n",
    "pd.set_option(\"display.max_rows\", 85)"
   ]
  },
  {
   "attachments": {},
   "cell_type": "markdown",
   "metadata": {},
   "source": [
    "### Talkapalooza - TL BL SS 23"
   ]
  },
  {
   "attachments": {},
   "cell_type": "markdown",
   "metadata": {},
   "source": [
    "# Data preparation:"
   ]
  },
  {
   "attachments": {},
   "cell_type": "markdown",
   "metadata": {},
   "source": [
    "Based on previous notebook, reorder audio files in a way that they can be used for training a Deep Learning model."
   ]
  },
  {
   "attachments": {},
   "cell_type": "markdown",
   "metadata": {},
   "source": [
    "Read the csv"
   ]
  },
  {
   "cell_type": "code",
   "execution_count": 22,
   "metadata": {},
   "outputs": [],
   "source": [
    "words_df = pd.read_csv('../output/wordbank_crossref.csv')"
   ]
  },
  {
   "cell_type": "code",
   "execution_count": 33,
   "metadata": {},
   "outputs": [],
   "source": [
    "word_list = words_df['word']\n",
    "\n",
    "pattern_asterisk = re.compile('\\*')\n",
    "pattern_indicator = re.compile('\\s\\(.*\\)')\n",
    "\n",
    "word_list = [re.sub(pattern_asterisk, '', str(x)) for x in word_list]\n",
    "word_list = [re.sub(pattern_indicator, '', str(x)) for x in word_list]"
   ]
  },
  {
   "cell_type": "code",
   "execution_count": 66,
   "metadata": {},
   "outputs": [],
   "source": [
    "import os\n",
    "import shutil\n",
    "from pathlib import Path\n",
    "\n",
    "root = \"../.source/lingualibre_en/\"\n",
    "target = \"../.source/labelled_audio/\""
   ]
  },
  {
   "cell_type": "code",
   "execution_count": 87,
   "metadata": {},
   "outputs": [],
   "source": [
    "pattern_path = re.compile(\".*/lingualibre_en/\")\n",
    "pattern_file = re.compile(\"\\.ogg\")"
   ]
  },
  {
   "cell_type": "code",
   "execution_count": 88,
   "metadata": {},
   "outputs": [
    {
     "name": "stdout",
     "output_type": "stream",
     "text": [
      "Total of 1205 recordings across 471 labels.\n"
     ]
    }
   ],
   "source": [
    "word_counter = 0\n",
    "author_counter = 0\n",
    "\n",
    "for path, subdirs, files in os.walk(root):\n",
    "    for file in files:\n",
    "        str_author = re.sub(pattern_path, '', str(path))\n",
    "        str_author = re.sub(r'(?<=\\w)\\.', '_', str_author)\n",
    "        str_author = re.sub(r'/s', '-', str_author)\n",
    "        str_word = re.sub(pattern_file, '', str(file))\n",
    "\n",
    "        if str_word not in word_list:\n",
    "            continue\n",
    "\n",
    "        src = os.path.abspath(Path(path, file))\n",
    "        dst = os.path.abspath(Path(target) / str_word)\n",
    "        dst = dst + '/'\n",
    "\n",
    "        try:\n",
    "            shutil.copyfile(src = src, dst = f\"{dst}/{str_author}.ogg\")\n",
    "            author_counter += 1\n",
    "\n",
    "        except:\n",
    "            os.makedirs(os.path.dirname(dst), exist_ok=True)\n",
    "            word_counter += 1\n",
    "            shutil.copy(src = src, dst = f\"{dst}/{str_author}.ogg\")\n",
    "            author_counter += 1\n",
    "else:\n",
    "    print(f'Total of {author_counter} recordings across {word_counter} labels.')\n"
   ]
  },
  {
   "attachments": {},
   "cell_type": "markdown",
   "metadata": {},
   "source": [
    "## Verifying results:"
   ]
  },
  {
   "cell_type": "code",
   "execution_count": 90,
   "metadata": {},
   "outputs": [],
   "source": [
    "pattern_target = re.compile(\".*/labelled_audio/\")"
   ]
  },
  {
   "cell_type": "code",
   "execution_count": 95,
   "metadata": {},
   "outputs": [],
   "source": [
    "labels_df = pd.DataFrame()"
   ]
  },
  {
   "cell_type": "code",
   "execution_count": 96,
   "metadata": {},
   "outputs": [],
   "source": [
    "for path, subdirs, files in os.walk(target):\n",
    "    for file in files:\n",
    "        str_label = re.sub(pattern_target, '', str(path))\n",
    "        str_author = re.sub(pattern_file, '', str(file))\n",
    "        temp_df = pd.DataFrame([[str_label, str_author]], columns=['label', 'author'])\n",
    "        labels_df= pd.concat([labels_df, temp_df])"
   ]
  },
  {
   "cell_type": "code",
   "execution_count": 100,
   "metadata": {},
   "outputs": [],
   "source": [
    "labels_df = labels_df.reset_index().drop(columns='index')"
   ]
  },
  {
   "cell_type": "code",
   "execution_count": 101,
   "metadata": {},
   "outputs": [
    {
     "data": {
      "text/html": [
       "<div>\n",
       "<style scoped>\n",
       "    .dataframe tbody tr th:only-of-type {\n",
       "        vertical-align: middle;\n",
       "    }\n",
       "\n",
       "    .dataframe tbody tr th {\n",
       "        vertical-align: top;\n",
       "    }\n",
       "\n",
       "    .dataframe thead th {\n",
       "        text-align: right;\n",
       "    }\n",
       "</style>\n",
       "<table border=\"1\" class=\"dataframe\">\n",
       "  <thead>\n",
       "    <tr style=\"text-align: right;\">\n",
       "      <th></th>\n",
       "      <th>label</th>\n",
       "      <th>author</th>\n",
       "    </tr>\n",
       "  </thead>\n",
       "  <tbody>\n",
       "    <tr>\n",
       "      <th>0</th>\n",
       "      <td>vacuum</td>\n",
       "      <td>Back ache</td>\n",
       "    </tr>\n",
       "    <tr>\n",
       "      <th>1</th>\n",
       "      <td>above</td>\n",
       "      <td>Nattes à chat</td>\n",
       "    </tr>\n",
       "    <tr>\n",
       "      <th>2</th>\n",
       "      <td>above</td>\n",
       "      <td>Back ache</td>\n",
       "    </tr>\n",
       "    <tr>\n",
       "      <th>3</th>\n",
       "      <td>where</td>\n",
       "      <td>She animates</td>\n",
       "    </tr>\n",
       "    <tr>\n",
       "      <th>4</th>\n",
       "      <td>where</td>\n",
       "      <td>Lirazelf</td>\n",
       "    </tr>\n",
       "    <tr>\n",
       "      <th>5</th>\n",
       "      <td>where</td>\n",
       "      <td>Greenman</td>\n",
       "    </tr>\n",
       "    <tr>\n",
       "      <th>6</th>\n",
       "      <td>where</td>\n",
       "      <td>SpringProof</td>\n",
       "    </tr>\n",
       "    <tr>\n",
       "      <th>7</th>\n",
       "      <td>where</td>\n",
       "      <td>Nattes à chat</td>\n",
       "    </tr>\n",
       "    <tr>\n",
       "      <th>8</th>\n",
       "      <td>where</td>\n",
       "      <td>Back ache</td>\n",
       "    </tr>\n",
       "    <tr>\n",
       "      <th>9</th>\n",
       "      <td>big</td>\n",
       "      <td>Opsylac</td>\n",
       "    </tr>\n",
       "  </tbody>\n",
       "</table>\n",
       "</div>"
      ],
      "text/plain": [
       "    label         author\n",
       "0  vacuum      Back ache\n",
       "1   above  Nattes à chat\n",
       "2   above      Back ache\n",
       "3   where   She animates\n",
       "4   where       Lirazelf\n",
       "5   where       Greenman\n",
       "6   where    SpringProof\n",
       "7   where  Nattes à chat\n",
       "8   where      Back ache\n",
       "9     big        Opsylac"
      ]
     },
     "execution_count": 101,
     "metadata": {},
     "output_type": "execute_result"
    }
   ],
   "source": [
    "labels_df.head(10)"
   ]
  }
 ],
 "metadata": {
  "kernelspec": {
   "display_name": "Python 3",
   "language": "python",
   "name": "python3"
  },
  "language_info": {
   "codemirror_mode": {
    "name": "ipython",
    "version": 3
   },
   "file_extension": ".py",
   "mimetype": "text/x-python",
   "name": "python",
   "nbconvert_exporter": "python",
   "pygments_lexer": "ipython3",
   "version": "3.8.10"
  },
  "orig_nbformat": 4,
  "vscode": {
   "interpreter": {
    "hash": "31f2aee4e71d21fbe5cf8b01ff0e069b9275f58929596ceb00d14d90e3e16cd6"
   }
  }
 },
 "nbformat": 4,
 "nbformat_minor": 2
}
