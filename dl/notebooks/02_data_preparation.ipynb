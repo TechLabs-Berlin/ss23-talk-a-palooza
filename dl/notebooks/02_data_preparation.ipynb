{
 "cells": [
  {
   "cell_type": "code",
   "execution_count": 1,
   "metadata": {},
   "outputs": [],
   "source": [
    "import pandas as pd\n",
    "import numpy as np\n",
    "import re"
   ]
  },
  {
   "cell_type": "code",
   "execution_count": 2,
   "metadata": {},
   "outputs": [],
   "source": [
    "pd.set_option(\"display.max_columns\", 85)\n",
    "pd.set_option(\"display.max_rows\", 85)"
   ]
  },
  {
   "attachments": {},
   "cell_type": "markdown",
   "metadata": {},
   "source": [
    "### Talkapalooza - TL BL SS 23"
   ]
  },
  {
   "attachments": {},
   "cell_type": "markdown",
   "metadata": {},
   "source": [
    "# Data preparation:"
   ]
  },
  {
   "attachments": {},
   "cell_type": "markdown",
   "metadata": {},
   "source": [
    "Based on previous notebook, reorder audio files in a way that they can be used for training a Deep Learning model."
   ]
  },
  {
   "attachments": {},
   "cell_type": "markdown",
   "metadata": {},
   "source": [
    "Read the csv"
   ]
  },
  {
   "cell_type": "code",
   "execution_count": 22,
   "metadata": {},
   "outputs": [],
   "source": [
    "words_df = pd.read_csv('../output/wordbank_crossref.csv')"
   ]
  },
  {
   "cell_type": "code",
   "execution_count": 33,
   "metadata": {},
   "outputs": [],
   "source": [
    "word_list = words_df['word']\n",
    "\n",
    "pattern_asterisk = re.compile('\\*')\n",
    "pattern_indicator = re.compile('\\s\\(.*\\)')\n",
    "\n",
    "word_list = [re.sub(pattern_asterisk, '', str(x)) for x in word_list]\n",
    "word_list = [re.sub(pattern_indicator, '', str(x)) for x in word_list]"
   ]
  },
  {
   "cell_type": "code",
   "execution_count": 66,
   "metadata": {},
   "outputs": [],
   "source": [
    "import os\n",
    "import shutil\n",
    "from pathlib import Path\n",
    "\n",
    "root = \"../.source/lingualibre_en/\"\n",
    "target = \"../.source/labelled_audio/\""
   ]
  },
  {
   "cell_type": "code",
   "execution_count": 87,
   "metadata": {},
   "outputs": [],
   "source": [
    "pattern_path = re.compile(\".*/lingualibre_en/\")\n",
    "pattern_file = re.compile(\"\\.ogg\")"
   ]
  },
  {
   "cell_type": "code",
   "execution_count": 88,
   "metadata": {},
   "outputs": [
    {
     "name": "stdout",
     "output_type": "stream",
     "text": [
      "Total of 1205 recordings across 471 labels.\n"
     ]
    }
   ],
   "source": [
    "word_counter = 0\n",
    "author_counter = 0\n",
    "\n",
    "for path, subdirs, files in os.walk(root):\n",
    "    for file in files:\n",
    "        str_author = re.sub(pattern_path, '', str(path))\n",
    "        str_author = re.sub(r'(?<=\\w)\\.', '_', str_author)\n",
    "        str_author = re.sub(r'/s', '-', str_author)\n",
    "        str_word = re.sub(pattern_file, '', str(file))\n",
    "\n",
    "        if str_word not in word_list:\n",
    "            continue\n",
    "\n",
    "        src = os.path.abspath(Path(path, file))\n",
    "        dst = os.path.abspath(Path(target) / str_word)\n",
    "        dst = dst + '/'\n",
    "\n",
    "        try:\n",
    "            shutil.copyfile(src = src, dst = f\"{dst}/{str_author}.ogg\")\n",
    "            author_counter += 1\n",
    "\n",
    "        except:\n",
    "            os.makedirs(os.path.dirname(dst), exist_ok=True)\n",
    "            word_counter += 1\n",
    "            shutil.copy(src = src, dst = f\"{dst}/{str_author}.ogg\")\n",
    "            author_counter += 1\n",
    "else:\n",
    "    print(f'Total of {author_counter} recordings across {word_counter} labels.')\n"
   ]
  }
 ],
 "metadata": {
  "kernelspec": {
   "display_name": "Python 3",
   "language": "python",
   "name": "python3"
  },
  "language_info": {
   "codemirror_mode": {
    "name": "ipython",
    "version": 3
   },
   "file_extension": ".py",
   "mimetype": "text/x-python",
   "name": "python",
   "nbconvert_exporter": "python",
   "pygments_lexer": "ipython3",
   "version": "3.8.10"
  },
  "orig_nbformat": 4,
  "vscode": {
   "interpreter": {
    "hash": "31f2aee4e71d21fbe5cf8b01ff0e069b9275f58929596ceb00d14d90e3e16cd6"
   }
  }
 },
 "nbformat": 4,
 "nbformat_minor": 2
}
